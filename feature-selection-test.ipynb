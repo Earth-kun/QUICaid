{
 "cells": [
  {
   "cell_type": "code",
   "execution_count": 1,
   "metadata": {},
   "outputs": [],
   "source": [
    "# classifiers\n",
    "from skmultiflow.meta import AdaptiveRandomForestClassifier\n",
    "from skmultiflow.lazy import KNNClassifier, KNNADWINClassifier\n",
    "from skmultiflow.drift_detection.adwin import ADWIN\n",
    "\n",
    "from float.feature_selection import OFS, FIRES      # online feature methods\n",
    "from skmultiflow.data import FileStream             # create stream from file\n",
    "from sklearn.metrics import accuracy_score, precision_score, recall_score, f1_score\n",
    "from sklearn.model_selection import ParameterGrid   # hyperparameter combinations\n",
    "import numpy as np\n",
    "import time\n",
    "import copy\n",
    "import matplotlib.pyplot as plt"
   ]
  },
  {
   "cell_type": "code",
   "execution_count": 2,
   "metadata": {},
   "outputs": [],
   "source": [
    "data_loader = FileStream(filepath='out.csv')"
   ]
  },
  {
   "cell_type": "code",
   "execution_count": 3,
   "metadata": {},
   "outputs": [],
   "source": [
    "ref_sample, _ = data_loader.next_sample(50)\n",
    "data_loader.reset()\n",
    "\n",
    "fires_fs = FIRES(n_total_features=data_loader.n_features,\n",
    "                n_selected_features=7,\n",
    "                classes=data_loader.target_values,\n",
    "                baseline='gaussian',\n",
    "                ref_sample=ref_sample)"
   ]
  },
  {
   "cell_type": "code",
   "execution_count": 4,
   "metadata": {},
   "outputs": [],
   "source": [
    "stream = data_loader\n",
    "adwin = ADWIN()\n",
    "\n",
    "model = AdaptiveRandomForestClassifier()"
   ]
  },
  {
   "cell_type": "code",
   "execution_count": 5,
   "metadata": {},
   "outputs": [],
   "source": [
    "def run_prequential(classifier, stream, n_pretrain, drift_detector, feature_selector):\n",
    "    n_samples = 0\n",
    "    correct_predictions = 0\n",
    "    true_labels = []\n",
    "    pred_labels = []\n",
    "\n",
    "    # pretrain samples\n",
    "    for _ in range(n_pretrain):\n",
    "        X, y = stream.next_sample()\n",
    "        classifier.partial_fit(X, [y[0]])\n",
    "    \n",
    "    print(f\"Model pretrained on {n_pretrain} samples.\")\n",
    "\n",
    "    while n_samples < 50000 and stream.has_more_samples():\n",
    "        X, y = stream.next_sample()\n",
    "\n",
    "        # Online Feature Selection\n",
    "        if feature_selector is not None:\n",
    "            feature_selector.weight_features(copy.copy(X), copy.copy(y))\n",
    "            X_select = feature_selector.select_features(copy.copy(X), rng=np.random.default_rng())\n",
    "            y_pred = classifier.predict(X_select)\n",
    "        \n",
    "        # no feature selection\n",
    "        else:\n",
    "            y_pred = model.predict(X)\n",
    "\n",
    "        if y_pred == y:\n",
    "            correct_predictions += 1\n",
    "        \n",
    "        true_labels.append(y[0])\n",
    "        pred_labels.append(y_pred[0])\n",
    "\n",
    "        # check for drift\n",
    "        drift_detector.add_element(np.float64(y_pred == y))\n",
    "        if drift_detector.detected_change():\n",
    "            print(f\"drift detected at {n_samples}\")\n",
    "\n",
    "        # Train incrementally\n",
    "        classifier.partial_fit(copy.copy(X_select), [y[0]])\n",
    "        n_samples += 1\n",
    "\n",
    "    # Calculate accuracy\n",
    "    accuracy = correct_predictions / n_samples\n",
    "    print(accuracy)"
   ]
  },
  {
   "cell_type": "code",
   "execution_count": 6,
   "metadata": {},
   "outputs": [
    {
     "name": "stdout",
     "output_type": "stream",
     "text": [
      "Model pretrained on 200 samples.\n",
      "drift detected at 30719\n",
      "drift detected at 31743\n",
      "0.99848\n"
     ]
    }
   ],
   "source": [
    "run_prequential(model, stream, 200, adwin, fires_fs)"
   ]
  },
  {
   "cell_type": "code",
   "execution_count": 7,
   "metadata": {},
   "outputs": [],
   "source": [
    "# # Define the parameter grid for ARF\n",
    "# arf_param_grid = {\n",
    "#     'n_estimators': [5, 10, 20, 30],    # default=10\n",
    "#     'grace_period': [50, 100],          # default=50\n",
    "#     'split_confidence': [0.01, 0.05],   # default=0.01\n",
    "#     'leaf_prediction': ['mc', 'nba']    # default='nba'\n",
    "# }\n",
    "\n",
    "# parameters = {\n",
    "#     'arf': {\n",
    "#         'n_estimators': [5, 10, 20, 30],    # default=10\n",
    "#         'grace_period': [50, 100],          # default=50\n",
    "#         'split_confidence': [0.01, 0.05],   # default=0.01\n",
    "#         'leaf_prediction': ['mc', 'nba']    # default='nba'    \n",
    "#     },\n",
    "#     # search spaces based on FIRES paper appendix\n",
    "#     'fires': {\n",
    "#         'penalty_s': [0.00001, 0.0001, 0.001, 0.01, 0.1, 1, 10, 100, 1000],    # default=0.01\n",
    "#         'penalty_r': [0.01, 0.1, 1],          # default=0.01\n",
    "#         'lr_mu': [0.01, 0.025, 0.1, 1, 10],   # default=0.01\n",
    "#         'lr_sigma': [0.01, 0.025, 0.1, 1, 10]    # default=0.01    \n",
    "#     }\n",
    "# }\n",
    "\n",
    "# # Generate hyperparameter combinations\n",
    "# arf_grid = ParameterGrid(arf_param_grid)"
   ]
  }
 ],
 "metadata": {
  "kernelspec": {
   "display_name": "Python 3",
   "language": "python",
   "name": "python3"
  },
  "language_info": {
   "codemirror_mode": {
    "name": "ipython",
    "version": 3
   },
   "file_extension": ".py",
   "mimetype": "text/x-python",
   "name": "python",
   "nbconvert_exporter": "python",
   "pygments_lexer": "ipython3",
   "version": "3.9.1"
  }
 },
 "nbformat": 4,
 "nbformat_minor": 2
}
