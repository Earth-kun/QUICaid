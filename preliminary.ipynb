{
 "cells": [
  {
   "cell_type": "markdown",
   "metadata": {},
   "source": [
    "# 196 Preliminary Work"
   ]
  },
  {
   "cell_type": "markdown",
   "metadata": {},
   "source": [
    "In this notebook, we demonstrate and implement a prequential pipeline consisting of an Adaptive Random Forest (ARF) online classifier, ADWIN2 concept drift detector, and both OFS and FIRES online feature extraction and selection for comparison.\n",
    "\n",
    "At this point, all modules used are in their default parameters."
   ]
  },
  {
   "cell_type": "markdown",
   "metadata": {},
   "source": [
    "Note: Install dependencies first via pip install -r requirements.txt"
   ]
  },
  {
   "cell_type": "markdown",
   "metadata": {},
   "source": [
    "### Imports"
   ]
  },
  {
   "cell_type": "code",
   "execution_count": null,
   "metadata": {},
   "outputs": [],
   "source": [
    "# Main Imports\n",
    "from skmultiflow.meta import AdaptiveRandomForestClassifier # ARF\n",
    "from skmultiflow.lazy import KNNClassifier, KNNADWINClassifier # KNN\n",
    "from sklearn.svm import LinearSVC # SVM\n",
    "\n",
    "# from skmultiflow.evaluation import EvaluatePrequential # Pipeline\n",
    "from float.pipeline import PrequentialPipeline\n",
    "from float.prediction.skmultiflow import SkmultiflowClassifier\n",
    "from float.prediction.evaluation import PredictionEvaluator\n",
    "\n",
    "from skmultiflow.drift_detection import ADWIN # ADWIN drift detection\n",
    "from float.feature_selection import OFS, FIRES # online feature methods\n",
    "# from skmultiflow.data import FileStream # create stream from file\n",
    "from float.data import DataLoader\n",
    "from sklearn.metrics import accuracy_score, precision_score, recall_score, f1_score\n",
    "from float.feature_selection.evaluation import FeatureSelectionEvaluator\n",
    "from float.feature_selection.evaluation.measures import nogueira_stability\n",
    "\n",
    "# Other imports\n",
    "import matplotlib.pyplot as plt\n",
    "import numpy as np\n",
    "import pandas as pd"
   ]
  },
  {
   "cell_type": "markdown",
   "metadata": {},
   "source": [
    "### Data Stream"
   ]
  },
  {
   "cell_type": "code",
   "execution_count": null,
   "metadata": {},
   "outputs": [],
   "source": [
    "# Create a data stream from file\n",
    "# if from dataframe, use DataStream() instead\n",
    "# stream = FileStream('out.csv') # dummy dataset\n",
    "data_loader = DataLoader(path='out.csv', target_col=-1)"
   ]
  },
  {
   "cell_type": "markdown",
   "metadata": {},
   "source": [
    "### Online Feature Extraction and Selection"
   ]
  },
  {
   "cell_type": "code",
   "execution_count": null,
   "metadata": {},
   "outputs": [],
   "source": [
    "ref_sample, _ = data_loader.get_data(50)\n",
    "data_loader.stream.reset()\n",
    "\n",
    "fires_fs = FIRES(n_total_features=data_loader.stream.n_features,\n",
    "                n_selected_features=10,\n",
    "                classes=data_loader.stream.target_values,\n",
    "                baseline='gaussian',\n",
    "                ref_sample=ref_sample)\n",
    "\n",
    "ofs_fs = OFS(n_total_features=data_loader.stream.n_features,\n",
    "            n_selected_features=10,\n",
    "            baseline='gaussian',\n",
    "            ref_sample=ref_sample)"
   ]
  },
  {
   "cell_type": "markdown",
   "metadata": {},
   "source": [
    "### ARF Model"
   ]
  },
  {
   "cell_type": "code",
   "execution_count": null,
   "metadata": {},
   "outputs": [],
   "source": []
  },
  {
   "cell_type": "markdown",
   "metadata": {},
   "source": [
    "### Evaluation Pipeline"
   ]
  },
  {
   "cell_type": "code",
   "execution_count": null,
   "metadata": {},
   "outputs": [],
   "source": []
  }
 ],
 "metadata": {
  "kernelspec": {
   "display_name": "venv",
   "language": "python",
   "name": "python3"
  },
  "language_info": {
   "codemirror_mode": {
    "name": "ipython",
    "version": 3
   },
   "file_extension": ".py",
   "mimetype": "text/x-python",
   "name": "python",
   "nbconvert_exporter": "python",
   "pygments_lexer": "ipython3",
   "version": "3.9.6"
  }
 },
 "nbformat": 4,
 "nbformat_minor": 2
}
