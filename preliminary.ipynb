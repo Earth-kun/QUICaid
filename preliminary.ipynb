{
 "cells": [
  {
   "cell_type": "markdown",
   "metadata": {},
   "source": [
    "# 196 Preliminary Work"
   ]
  },
  {
   "cell_type": "markdown",
   "metadata": {},
   "source": [
    "In this notebook, we demonstrate and implement a prequential pipeline consisting of an Adaptive Random Forest (ARF) online classifier, ADWIN2 concept drift detector, and both OFS and FIRES online feature extraction and selection for comparison.\n",
    "\n",
    "At this point, all modules used are in their default parameters."
   ]
  },
  {
   "cell_type": "markdown",
   "metadata": {},
   "source": [
    "Note: Install dependencies first via pip install -r requirements.txt"
   ]
  },
  {
   "cell_type": "markdown",
   "metadata": {},
   "source": [
    "### Imports"
   ]
  },
  {
   "cell_type": "code",
   "execution_count": null,
   "metadata": {},
   "outputs": [],
   "source": [
    "# Main Imports\n",
    "from skmultiflow.meta import AdaptiveRandomForestClassifier # ARF\n",
    "from skmultiflow.lazy import KNNClassifier, KNNADWINClassifier # KNN\n",
    "from sklearn.svm import LinearSVC # SVM\n",
    "\n",
    "from skmultiflow.evaluation import EvaluatePrequential # Pipeline\n",
    "from skmultiflow.drift_detection import ADWIN # ADWIN drift detection\n",
    "from float.feature_selection import OFS, FIRES # online feature methods\n",
    "\n",
    "# Other imports\n",
    "import matplotlib.pyplot as plt"
   ]
  }
 ],
 "metadata": {
  "language_info": {
   "name": "python"
  }
 },
 "nbformat": 4,
 "nbformat_minor": 2
}
