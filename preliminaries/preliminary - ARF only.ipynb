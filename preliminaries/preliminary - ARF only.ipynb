{
 "cells": [
  {
   "cell_type": "markdown",
   "metadata": {},
   "source": [
    "# 196 Preliminary Work"
   ]
  },
  {
   "cell_type": "markdown",
   "metadata": {},
   "source": [
    "In this notebook, we demonstrate and implement a prequential pipeline consisting of an Adaptive Random Forest (ARF) online classifier, ADWIN2 concept drift detector, and both OFS and FIRES online feature extraction and selection for comparison.\n",
    "\n",
    "At this point, all modules used are in their default parameters."
   ]
  },
  {
   "cell_type": "markdown",
   "metadata": {},
   "source": [
    "Note: Install dependencies first via pip install -r requirements.txt"
   ]
  },
  {
   "cell_type": "markdown",
   "metadata": {},
   "source": [
    "### Imports"
   ]
  },
  {
   "cell_type": "code",
   "execution_count": 2,
   "metadata": {},
   "outputs": [],
   "source": [
    "# Main Imports\n",
    "from skmultiflow.meta import AdaptiveRandomForestClassifier # ARF\n",
    "from skmultiflow.lazy import KNNClassifier, KNNADWINClassifier # KNN\n",
    "from sklearn.svm import LinearSVC # SVM\n",
    "\n",
    "from skmultiflow.evaluation import EvaluatePrequential # Pipeline\n",
    "from float.pipeline import PrequentialPipeline\n",
    "from float.prediction.skmultiflow import SkmultiflowClassifier\n",
    "from float.prediction.evaluation import PredictionEvaluator\n",
    "\n",
    "from skmultiflow.drift_detection import ADWIN # ADWIN drift detection\n",
    "from float.feature_selection import OFS, FIRES # online feature methods\n",
    "# from skmultiflow.data import FileStream # create stream from file\n",
    "from float.data import DataLoader\n",
    "from sklearn.metrics import accuracy_score, precision_score, recall_score, f1_score\n",
    "from float.feature_selection.evaluation import FeatureSelectionEvaluator\n",
    "from float.feature_selection.evaluation.measures import nogueira_stability\n",
    "\n",
    "# Other imports\n",
    "import matplotlib.pyplot as plt\n",
    "import numpy as np\n",
    "import pandas as pd"
   ]
  },
  {
   "cell_type": "markdown",
   "metadata": {},
   "source": [
    "### Data Stream"
   ]
  },
  {
   "cell_type": "code",
   "execution_count": 3,
   "metadata": {},
   "outputs": [],
   "source": [
    "# Create a data stream from file\n",
    "# if from dataframe, use DataStream() instead\n",
    "# stream = FileStream('out.csv') # dummy dataset\n",
    "data_loader = DataLoader(path='out.csv', target_col=-1)"
   ]
  },
  {
   "cell_type": "markdown",
   "metadata": {},
   "source": [
    "### Online Feature Extraction and Selection"
   ]
  },
  {
   "cell_type": "code",
   "execution_count": 4,
   "metadata": {},
   "outputs": [],
   "source": [
    "ref_sample, _ = data_loader.get_data(50)\n",
    "data_loader.stream.reset()\n",
    "\n",
    "fires_fs = FIRES(n_total_features=data_loader.stream.n_features,\n",
    "                n_selected_features=10,\n",
    "                classes=data_loader.stream.target_values,\n",
    "                baseline='gaussian',\n",
    "                ref_sample=ref_sample)\n",
    "\n",
    "ofs_fs = OFS(n_total_features=data_loader.stream.n_features,\n",
    "            n_selected_features=10,\n",
    "            baseline='gaussian',\n",
    "            ref_sample=ref_sample)"
   ]
  },
  {
   "cell_type": "markdown",
   "metadata": {},
   "source": [
    "### ARF + ADWIN Model"
   ]
  },
  {
   "cell_type": "code",
   "execution_count": 5,
   "metadata": {},
   "outputs": [
    {
     "name": "stdout",
     "output_type": "stream",
     "text": [
      "0.5.3\n"
     ]
    }
   ],
   "source": [
    "import skmultiflow\n",
    "print(skmultiflow.__version__)\n"
   ]
  },
  {
   "cell_type": "code",
   "execution_count": 6,
   "metadata": {},
   "outputs": [
    {
     "name": "stdout",
     "output_type": "stream",
     "text": [
      "Requirement already satisfied: scikit-multiflow in c:\\users\\jamielane figueroa\\appdata\\local\\programs\\python\\python39\\lib\\site-packages (0.5.3)\n",
      "Requirement already satisfied: matplotlib in c:\\users\\jamielane figueroa\\appdata\\local\\programs\\python\\python39\\lib\\site-packages (3.4.2)\n",
      "Collecting sklearn\n",
      "  Using cached sklearn-0.0.post12.tar.gz (2.6 kB)\n",
      "  Preparing metadata (setup.py): started\n",
      "  Preparing metadata (setup.py): finished with status 'error'\n",
      "Note: you may need to restart the kernel to use updated packages.\n"
     ]
    },
    {
     "name": "stderr",
     "output_type": "stream",
     "text": [
      "  error: subprocess-exited-with-error\n",
      "  \n",
      "  × python setup.py egg_info did not run successfully.\n",
      "  │ exit code: 1\n",
      "  ╰─> [15 lines of output]\n",
      "      The 'sklearn' PyPI package is deprecated, use 'scikit-learn'\n",
      "      rather than 'sklearn' for pip commands.\n",
      "      \n",
      "      Here is how to fix this error in the main use cases:\n",
      "      - use 'pip install scikit-learn' rather than 'pip install sklearn'\n",
      "      - replace 'sklearn' by 'scikit-learn' in your pip requirements files\n",
      "        (requirements.txt, setup.py, setup.cfg, Pipfile, etc ...)\n",
      "      - if the 'sklearn' package is used by one of your dependencies,\n",
      "        it would be great if you take some time to track which package uses\n",
      "        'sklearn' instead of 'scikit-learn' and report it to their issue tracker\n",
      "      - as a last resort, set the environment variable\n",
      "        SKLEARN_ALLOW_DEPRECATED_SKLEARN_PACKAGE_INSTALL=True to avoid this error\n",
      "      \n",
      "      More information is available at\n",
      "      https://github.com/scikit-learn/sklearn-pypi-package\n",
      "      [end of output]\n",
      "  \n",
      "  note: This error originates from a subprocess, and is likely not a problem with pip.\n",
      "error: metadata-generation-failed\n",
      "\n",
      "× Encountered error while generating package metadata.\n",
      "╰─> See above for output.\n",
      "\n",
      "note: This is an issue with the package mentioned above, not pip.\n",
      "hint: See above for details.\n"
     ]
    }
   ],
   "source": [
    "pip install scikit-multiflow matplotlib sklearn\n"
   ]
  },
  {
   "cell_type": "markdown",
   "metadata": {},
   "source": [
    "### ARF Only Model"
   ]
  },
  {
   "cell_type": "code",
   "execution_count": 7,
   "metadata": {},
   "outputs": [
    {
     "ename": "KeyboardInterrupt",
     "evalue": "",
     "output_type": "error",
     "traceback": [
      "\u001b[1;31m---------------------------------------------------------------------------\u001b[0m",
      "\u001b[1;31mKeyboardInterrupt\u001b[0m                         Traceback (most recent call last)",
      "Cell \u001b[1;32mIn[7], line 24\u001b[0m\n\u001b[0;32m     22\u001b[0m     \u001b[38;5;28;01mif\u001b[39;00m y[\u001b[38;5;241m0\u001b[39m] \u001b[38;5;241m==\u001b[39m y_pred[\u001b[38;5;241m0\u001b[39m]:\n\u001b[0;32m     23\u001b[0m         correct_cnt \u001b[38;5;241m+\u001b[39m\u001b[38;5;241m=\u001b[39m \u001b[38;5;241m1\u001b[39m\n\u001b[1;32m---> 24\u001b[0m     \u001b[43marf\u001b[49m\u001b[38;5;241;43m.\u001b[39;49m\u001b[43mpartial_fit\u001b[49m\u001b[43m(\u001b[49m\u001b[43mX_selected\u001b[49m\u001b[43m,\u001b[49m\u001b[43m \u001b[49m\u001b[43my\u001b[49m\u001b[43m)\u001b[49m\n\u001b[0;32m     25\u001b[0m     n_samples \u001b[38;5;241m+\u001b[39m\u001b[38;5;241m=\u001b[39m \u001b[38;5;241m1\u001b[39m\n\u001b[0;32m     27\u001b[0m \u001b[38;5;66;03m# Calculate metrics\u001b[39;00m\n",
      "File \u001b[1;32mc:\\Users\\Jamielane Figueroa\\AppData\\Local\\Programs\\Python\\Python39\\lib\\site-packages\\skmultiflow\\meta\\adaptive_random_forests.py:313\u001b[0m, in \u001b[0;36mAdaptiveRandomForestClassifier.partial_fit\u001b[1;34m(self, X, y, classes, sample_weight)\u001b[0m\n\u001b[0;32m    311\u001b[0m         \u001b[38;5;28;01mif\u001b[39;00m weight[i] \u001b[38;5;241m!=\u001b[39m \u001b[38;5;241m0.0\u001b[39m:\n\u001b[0;32m    312\u001b[0m             \u001b[38;5;28mself\u001b[39m\u001b[38;5;241m.\u001b[39m_train_weight_seen_by_model \u001b[38;5;241m+\u001b[39m\u001b[38;5;241m=\u001b[39m weight[i]\n\u001b[1;32m--> 313\u001b[0m             \u001b[38;5;28;43mself\u001b[39;49m\u001b[38;5;241;43m.\u001b[39;49m\u001b[43m_partial_fit\u001b[49m\u001b[43m(\u001b[49m\u001b[43mX\u001b[49m\u001b[43m[\u001b[49m\u001b[43mi\u001b[49m\u001b[43m]\u001b[49m\u001b[43m,\u001b[49m\u001b[43m \u001b[49m\u001b[43my\u001b[49m\u001b[43m[\u001b[49m\u001b[43mi\u001b[49m\u001b[43m]\u001b[49m\u001b[43m,\u001b[49m\u001b[43m \u001b[49m\u001b[38;5;28;43mself\u001b[39;49m\u001b[38;5;241;43m.\u001b[39;49m\u001b[43mclasses\u001b[49m\u001b[43m,\u001b[49m\u001b[43m \u001b[49m\u001b[43mweight\u001b[49m\u001b[43m[\u001b[49m\u001b[43mi\u001b[49m\u001b[43m]\u001b[49m\u001b[43m)\u001b[49m\n\u001b[0;32m    315\u001b[0m \u001b[38;5;28;01mreturn\u001b[39;00m \u001b[38;5;28mself\u001b[39m\n",
      "File \u001b[1;32mc:\\Users\\Jamielane Figueroa\\AppData\\Local\\Programs\\Python\\Python39\\lib\\site-packages\\skmultiflow\\meta\\adaptive_random_forests.py:328\u001b[0m, in \u001b[0;36mAdaptiveRandomForestClassifier._partial_fit\u001b[1;34m(self, X, y, classes, sample_weight)\u001b[0m\n\u001b[0;32m    326\u001b[0m k \u001b[38;5;241m=\u001b[39m \u001b[38;5;28mself\u001b[39m\u001b[38;5;241m.\u001b[39m_random_state\u001b[38;5;241m.\u001b[39mpoisson(\u001b[38;5;28mself\u001b[39m\u001b[38;5;241m.\u001b[39mlambda_value)\n\u001b[0;32m    327\u001b[0m \u001b[38;5;28;01mif\u001b[39;00m k \u001b[38;5;241m>\u001b[39m \u001b[38;5;241m0\u001b[39m:\n\u001b[1;32m--> 328\u001b[0m     \u001b[38;5;28mself\u001b[39m\u001b[38;5;241m.\u001b[39mensemble[i]\u001b[38;5;241m.\u001b[39mpartial_fit(\u001b[43mnp\u001b[49m\u001b[38;5;241;43m.\u001b[39;49m\u001b[43masarray\u001b[49m\u001b[43m(\u001b[49m\u001b[43m[\u001b[49m\u001b[43mX\u001b[49m\u001b[43m]\u001b[49m\u001b[43m)\u001b[49m, np\u001b[38;5;241m.\u001b[39masarray([y]),\n\u001b[0;32m    329\u001b[0m                                  classes\u001b[38;5;241m=\u001b[39mclasses,\n\u001b[0;32m    330\u001b[0m                                  sample_weight\u001b[38;5;241m=\u001b[39mnp\u001b[38;5;241m.\u001b[39masarray([k]),\n\u001b[0;32m    331\u001b[0m                                  instances_seen\u001b[38;5;241m=\u001b[39m\u001b[38;5;28mself\u001b[39m\u001b[38;5;241m.\u001b[39minstances_seen)\n",
      "\u001b[1;31mKeyboardInterrupt\u001b[0m: "
     ]
    }
   ],
   "source": [
    "arf = AdaptiveRandomForestClassifier(drift_detection_method=None, warning_detection_method=None)\n",
    "\n",
    "# Setup variables to control loop and track performance\n",
    "n_samples = 0\n",
    "correct_cnt = 0\n",
    "max_samples = 100000\n",
    "\n",
    "# Lists to store true and predicted labels for metric calculations\n",
    "true_labels = []\n",
    "pred_labels = []\n",
    "\n",
    "# Train the estimator with the samples provided by the data stream\n",
    "while n_samples < max_samples and data_loader.stream.has_more_samples():\n",
    "    X, y = data_loader.stream.next_sample()\n",
    "    \n",
    "    # Apply OFS feature selection\n",
    "    X_selected = ofs_fs.select_features(X, rng=np.random.default_rng())\n",
    "    \n",
    "    y_pred = arf.predict(X_selected)\n",
    "    true_labels.append(y[0])\n",
    "    pred_labels.append(y_pred[0])\n",
    "    if y[0] == y_pred[0]:\n",
    "        correct_cnt += 1\n",
    "    arf.partial_fit(X_selected, y)\n",
    "    n_samples += 1\n",
    "\n",
    "# Calculate metrics\n",
    "accuracy = correct_cnt / n_samples\n",
    "precision = precision_score(true_labels, pred_labels, average='macro')\n",
    "recall = recall_score(true_labels, pred_labels, average='macro')\n",
    "f1 = f1_score(true_labels, pred_labels, average='macro')\n",
    "\n",
    "# Display results\n",
    "print('Adaptive Random Forest ensemble classifier example')\n",
    "print('{} samples analyzed.'.format(n_samples))\n",
    "print('Accuracy: {}'.format(accuracy))\n",
    "print('Precision: {}'.format(precision))\n",
    "print('Recall: {}'.format(recall))\n",
    "print('F1 Score: {}'.format(f1))"
   ]
  },
  {
   "cell_type": "code",
   "execution_count": null,
   "metadata": {},
   "outputs": [
    {
     "name": "stdout",
     "output_type": "stream",
     "text": [
      "Adaptive Random Forest ensemble classifier example\n",
      "115711 samples analyzed.\n",
      "Accuracy: 0.9553110767342776\n",
      "Precision: 0.9569223047362911\n",
      "Recall: 0.9547487171853684\n",
      "F1 Score: 0.9552132463733405\n"
     ]
    }
   ],
   "source": [
    "arf = AdaptiveRandomForestClassifier(drift_detection_method=None, warning_detection_method=None)\n",
    "\n",
    "# Setup variables to control loop and track performance\n",
    "n_samples = 0\n",
    "correct_cnt = 0\n",
    "max_samples = data_loader.stream.n_remaining_samples()\n",
    "\n",
    "# Lists to store true and predicted labels for metric calculations\n",
    "true_labels = []\n",
    "pred_labels = []\n",
    "\n",
    "# Train the estimator with the samples provided by the data stream\n",
    "while n_samples < max_samples and data_loader.stream.has_more_samples():\n",
    "    X, y = data_loader.stream.next_sample()\n",
    "    \n",
    "    # Apply OFS feature selection\n",
    "    X_selected = ofs_fs.select_features(X, rng=np.random.default_rng())\n",
    "    \n",
    "    y_pred = arf.predict(X_selected)\n",
    "    true_labels.append(y[0])\n",
    "    pred_labels.append(y_pred[0])\n",
    "    if y[0] == y_pred[0]:\n",
    "        correct_cnt += 1\n",
    "    arf.partial_fit(X_selected, y)\n",
    "    n_samples += 1\n",
    "\n",
    "# Calculate metrics\n",
    "accuracy = correct_cnt / n_samples\n",
    "precision = precision_score(true_labels, pred_labels, average='macro')\n",
    "recall = recall_score(true_labels, pred_labels, average='macro')\n",
    "f1 = f1_score(true_labels, pred_labels, average='macro')\n",
    "\n",
    "# Display results\n",
    "print('Adaptive Random Forest ensemble classifier example')\n",
    "print('{} samples analyzed.'.format(n_samples))\n",
    "print('Accuracy: {}'.format(accuracy))\n",
    "print('Precision: {}'.format(precision))\n",
    "print('Recall: {}'.format(recall))\n",
    "print('F1 Score: {}'.format(f1))"
   ]
  },
  {
   "cell_type": "code",
   "execution_count": null,
   "metadata": {},
   "outputs": [],
   "source": [
    "data_loader.stream.reset()"
   ]
  },
  {
   "cell_type": "code",
   "execution_count": null,
   "metadata": {},
   "outputs": [
    {
     "name": "stdout",
     "output_type": "stream",
     "text": [
      "Adaptive Random Forest ensemble classifier example\n",
      "225711 samples analyzed.\n",
      "Accuracy: 0.9652830389303135\n",
      "Precision: 0.968539892211673\n",
      "Recall: 0.961408090417894\n",
      "F1 Score: 0.9643935276443709\n"
     ]
    }
   ],
   "source": [
    "arf = AdaptiveRandomForestClassifier(drift_detection_method=None, warning_detection_method=None)\n",
    "\n",
    "# Setup variables to control loop and track performance\n",
    "n_samples = 0\n",
    "correct_cnt = 0\n",
    "max_samples = data_loader.stream.n_remaining_samples()\n",
    "\n",
    "# Lists to store true and predicted labels for metric calculations\n",
    "true_labels = []\n",
    "pred_labels = []\n",
    "\n",
    "# Train the estimator with the samples provided by the data stream\n",
    "while n_samples < max_samples and data_loader.stream.has_more_samples():\n",
    "    X, y = data_loader.stream.next_sample()\n",
    "    \n",
    "    # Apply OFS feature selection\n",
    "    X_selected = ofs_fs.select_features(X, rng=np.random.default_rng())\n",
    "    \n",
    "    y_pred = arf.predict(X_selected)\n",
    "    true_labels.append(y[0])\n",
    "    pred_labels.append(y_pred[0])\n",
    "    if y[0] == y_pred[0]:\n",
    "        correct_cnt += 1\n",
    "    arf.partial_fit(X_selected, y)\n",
    "    n_samples += 1\n",
    "\n",
    "# Calculate metrics\n",
    "accuracy = correct_cnt / n_samples\n",
    "precision = precision_score(true_labels, pred_labels, average='macro')\n",
    "recall = recall_score(true_labels, pred_labels, average='macro')\n",
    "f1 = f1_score(true_labels, pred_labels, average='macro')\n",
    "\n",
    "# Display results\n",
    "print('Adaptive Random Forest ensemble classifier example')\n",
    "print('{} samples analyzed.'.format(n_samples))\n",
    "print('Accuracy: {}'.format(accuracy))\n",
    "print('Precision: {}'.format(precision))\n",
    "print('Recall: {}'.format(recall))\n",
    "print('F1 Score: {}'.format(f1))"
   ]
  },
  {
   "cell_type": "code",
   "execution_count": 8,
   "metadata": {},
   "outputs": [
    {
     "data": {
      "image/png": "[encoded data removed]",
      "text/plain": [
       "<Figure size 600x400 with 1 Axes>"
      ]
     },
     "metadata": {},
     "output_type": "display_data"
    }
   ],
   "source": [
    "from sklearn.metrics import precision_score, recall_score, f1_score\n",
    "import matplotlib.pyplot as plt\n",
    "\n",
    "# Setup Adaptive Random Forest Classifier\n",
    "arf = AdaptiveRandomForestClassifier(drift_detection_method=None, warning_detection_method=None)\n",
    "\n",
    "# Initialize performance metrics tracking lists\n",
    "n_samples = 0\n",
    "true_labels = []\n",
    "pred_labels = []\n",
    "precision_list = []\n",
    "recall_list = []\n",
    "f1_list = []\n",
    "\n",
    "# Prequential loop - train and test one sample at a time\n",
    "while data_loader.stream.has_more_samples() and n_samples < 30000:\n",
    "    # Fetch the next sample\n",
    "    X, y = data_loader.stream.next_sample()\n",
    "    \n",
    "    # Apply OFS feature selection\n",
    "    X_selected = ofs_fs.select_features(X, rng=np.random.default_rng())\n",
    "    \n",
    "    # Predict before training with the current sample\n",
    "    y_pred = arf.predict(X_selected)\n",
    "    \n",
    "    # Update true and predicted labels for metrics\n",
    "    true_labels.append(y[0])\n",
    "    pred_labels.append(y_pred[0])\n",
    "\n",
    "    # Incrementally train the model with the current sample\n",
    "    # Ensure 'y' is passed as a list, NOT numpy arrays\n",
    "    arf.partial_fit(X_selected, [y[0]], classes=data_loader.stream.target_values)\n",
    "\n",
    "    # Calculate precision, recall, and f1 at this point in time\n",
    "    precision = precision_score(true_labels, pred_labels, average='macro', zero_division=0)\n",
    "    recall = recall_score(true_labels, pred_labels, average='macro', zero_division=0)\n",
    "    f1 = f1_score(true_labels, pred_labels, average='macro', zero_division=0)\n",
    "    \n",
    "    # Record the metrics at each step\n",
    "    precision_list.append(precision)\n",
    "    recall_list.append(recall)\n",
    "    f1_list.append(f1)\n",
    "    \n",
    "    # Increment sample counter\n",
    "    n_samples += 1\n",
    "\n",
    "# Combined plotting of Precision, Recall, and F1 Score\n",
    "plt.figure(figsize=(6, 4))\n",
    "\n",
    "plt.plot(precision_list, label='Precision', color='blue', linewidth=1.5)\n",
    "plt.plot(recall_list, label='Recall', color='orange', linewidth=1.5)\n",
    "plt.plot(f1_list, label='F1 Score', color='green', linewidth=1.5)\n",
    "\n",
    "plt.xlabel('Samples')\n",
    "plt.ylabel('Metric Value')\n",
    "plt.title('Precision, Recall, and F1 Score Over Time')\n",
    "plt.legend()\n",
    "plt.grid()\n",
    "plt.ylim(0.9, 1.0)  # Set y-axis range from 0.9 to 1.0\n",
    "plt.tight_layout()\n",
    "plt.show()\n"
   ]
  },
  {
   "cell_type": "code",
   "execution_count": 9,
   "metadata": {},
   "outputs": [
    {
     "data": {
      "image/png": "[encoded data removed]",
      "text/plain": [
       "<Figure size 600x400 with 1 Axes>"
      ]
     },
     "metadata": {},
     "output_type": "display_data"
    }
   ],
   "source": [
    "# Initialize accuracy tracking list\n",
    "accuracy_list = []\n",
    "\n",
    "# Reset the data stream\n",
    "data_loader.stream.reset()\n",
    "\n",
    "# Setup Adaptive Random Forest Classifier\n",
    "arf = AdaptiveRandomForestClassifier(drift_detection_method=None, warning_detection_method=None)\n",
    "\n",
    "# Initialize performance metrics tracking lists\n",
    "n_samples = 0\n",
    "true_labels = []\n",
    "pred_labels = []\n",
    "precision_list = []\n",
    "recall_list = []\n",
    "f1_list = []\n",
    "accuracy_list = []\n",
    "\n",
    "# Prequential loop - train and test one sample at a time\n",
    "while data_loader.stream.has_more_samples() and n_samples < 30000:\n",
    "    # Fetch the next sample\n",
    "    X, y = data_loader.stream.next_sample()\n",
    "    \n",
    "    # Apply OFS feature selection\n",
    "    X_selected = ofs_fs.select_features(X, rng=np.random.default_rng())\n",
    "    \n",
    "    # Predict before training with the current sample\n",
    "    y_pred = arf.predict(X_selected)\n",
    "    \n",
    "    # Update true and predicted labels for metrics\n",
    "    true_labels.append(y[0])\n",
    "    pred_labels.append(y_pred[0])\n",
    "\n",
    "    # Incrementally train the model with the current sample\n",
    "    # Ensure 'y' is passed as a list, NOT numpy arrays\n",
    "    arf.partial_fit(X_selected, [y[0]], classes=data_loader.stream.target_values)\n",
    "\n",
    "    # Calculate precision, recall, f1, and accuracy at this point in time\n",
    "    precision = precision_score(true_labels, pred_labels, average='macro', zero_division=0)\n",
    "    recall = recall_score(true_labels, pred_labels, average='macro', zero_division=0)\n",
    "    f1 = f1_score(true_labels, pred_labels, average='macro', zero_division=0)\n",
    "    accuracy = accuracy_score(true_labels, pred_labels)\n",
    "    \n",
    "    # Record the metrics at each step\n",
    "    precision_list.append(precision)\n",
    "    recall_list.append(recall)\n",
    "    f1_list.append(f1)\n",
    "    accuracy_list.append(accuracy)\n",
    "    \n",
    "    # Increment sample counter\n",
    "    n_samples += 1\n",
    "\n",
    "# Combined plotting of Precision, Recall, F1 Score, and Accuracy\n",
    "plt.figure(figsize=(6, 4))\n",
    "\n",
    "plt.plot(precision_list, label='Precision', color='blue', linewidth=1.5)\n",
    "plt.plot(recall_list, label='Recall', color='orange', linewidth=1.5)\n",
    "plt.plot(f1_list, label='F1 Score', color='green', linewidth=1.5)\n",
    "plt.plot(accuracy_list, label='Accuracy', color='red', linewidth=1.5)\n",
    "\n",
    "plt.xlabel('Samples')\n",
    "plt.ylabel('Metric Value')\n",
    "plt.title('Precision, Recall, F1 Score, and Accuracy Over Time')\n",
    "plt.legend()\n",
    "plt.grid()\n",
    "plt.ylim(0.9, 1.0)  # Set y-axis range from 0.9 to 1.0\n",
    "plt.tight_layout()\n",
    "plt.show()"
   ]
  }
 ],
 "metadata": {
  "kernelspec": {
   "display_name": "Python 3",
   "language": "python",
   "name": "python3"
  },
  "language_info": {
   "codemirror_mode": {
    "name": "ipython",
    "version": 3
   },
   "file_extension": ".py",
   "mimetype": "text/x-python",
   "name": "python",
   "nbconvert_exporter": "python",
   "pygments_lexer": "ipython3",
   "version": "3.9.6"
  }
 },
 "nbformat": 4,
 "nbformat_minor": 2
}
