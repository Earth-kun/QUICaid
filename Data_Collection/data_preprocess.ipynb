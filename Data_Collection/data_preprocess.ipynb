{
 "cells": [
  {
   "cell_type": "markdown",
   "metadata": {},
   "source": [
    "### Preliminary setup"
   ]
  },
  {
   "cell_type": "code",
   "execution_count": 39,
   "metadata": {},
   "outputs": [],
   "source": [
    "import pandas as pd             # For data transformation\n",
    "import pyasn1\n",
    "asndb = pyasn.pyasn('ipasn_20140513.dat')"
   ]
  },
  {
   "cell_type": "code",
   "execution_count": 46,
   "metadata": {},
   "outputs": [],
   "source": [
    "# input csv\n",
    "input_file = \"./benign_flow/test1.csv\"\n",
    "df = pd.read_csv(input_file)\n",
    "\n",
    "column_names = [\"DURATION\", \"SRC_IP\", \"DST_IP\", \"SRC_PORT\", \"DST_PORT\", \"QUIC_VERSION\", \"BYTES\", \"PROTOCOL\"]\n",
    "df.columns = column_names\n",
    "\n",
    "# Specify the column name and the string to filter out\n",
    "column_name = \"PROTOCOL\"  # Replace with the actual column name\n",
    "protocol_filter = \"QUIC\"  # Replace with the string to remove\n",
    "\n",
    "# Filter out rows containing the specific string in the specified column\n",
    "df = df[df[column_name].str.contains(protocol_filter, na=False)]\n",
    "\n",
    "df[\"BYTES\"] = pd.to_numeric(df[\"BYTES\"], errors='coerce').fillna(0)\n",
    "df[\"DURATION\"] = df[\"DURATION\"] - df[\"DURATION\"].iloc[0]"
   ]
  },
  {
   "cell_type": "code",
   "execution_count": 59,
   "metadata": {},
   "outputs": [],
   "source": [
    "# source IP\n",
    "ipsrc = df[\"SRC_IP\"].iloc[0]\n",
    "portsrc = df[\"SRC_PORT\"].iloc[0]\n",
    "sni = \"youtube.com\"\n",
    "cat = \"Streaming\"\n",
    "\n",
    "flow = []\n",
    "\n",
    "df[\"true_dest\"] = df.apply(lambda row: row[\"DST_IP\"] if row[\"SRC_IP\"] == ipsrc else row[\"SRC_IP\"], axis=1)\n",
    "df[\"group\"] = (df[\"true_dest\"] != df[\"true_dest\"].shift()).cumsum()\n",
    "\n",
    "for group, group_df in df.groupby(\"group\"):\n",
    "    num_subgroups = (len(group_df) + 29) // 30\n",
    "    subgroups = [group_df.iloc[i * 30:(i+1) * 30] for i in range(num_subgroups)]\n",
    "    \n",
    "    # print(f\"Group {group}:\")\n",
    "    # print(group_df)\n",
    "\n",
    "    for  subgroup in subgroups:\n",
    "        ppi_dir = []\n",
    "        ipdst = subgroup[\"true_dest\"].iloc[0]  # The unique normalized destination for this subgroup\n",
    "        portdst = subgroup[\"DST_PORT\"].iloc[0] \n",
    "\n",
    "        ppi_time = [0]\n",
    "        ppi_size = [int(subgroup[\"BYTES\"].iloc[0])]\n",
    "        for i in range(1, len(subgroup)):\n",
    "            # Calculate the time difference between consecutive packets\n",
    "            duration = int((subgroup[\"DURATION\"].iloc[i] - subgroup[\"DURATION\"].iloc[i - 1]) * 1000)\n",
    "            ppi_time.append(duration)\n",
    "            ppi_size.append(int(subgroup[\"BYTES\"].iloc[i]))\n",
    "\n",
    "\n",
    "\n",
    "        for _, row in subgroup.iterrows():\n",
    "            if row[\"SRC_IP\"] == ipsrc and row[\"DST_IP\"] == ipdst:\n",
    "                ppi_dir.append(1)\n",
    "            elif row[\"SRC_IP\"] == ipdst  and row[\"DST_IP\"] == ipsrc:\n",
    "                ppi_dir.append(-1)\n",
    "            else:\n",
    "                ppi_dir.append(0)\n",
    "\n",
    "            bytes_fromsrc = int(subgroup.loc[(subgroup[\"SRC_IP\"] == ipsrc) & (subgroup[\"DST_IP\"] == ipdst),\"BYTES\"].sum())\n",
    "            bytes_rev = int(subgroup.loc[(subgroup[\"SRC_IP\"] == ipdst) & (subgroup[\"DST_IP\"] == ipsrc),\"BYTES\"].sum())\n",
    "            packets = int(subgroup.loc[(subgroup[\"SRC_IP\"] == ipsrc) & (subgroup[\"DST_IP\"] == ipdst),\"BYTES\"].count())\n",
    "            packets_rev = int(subgroup.loc[(subgroup[\"SRC_IP\"] == ipdst) & (subgroup[\"DST_IP\"] == ipsrc),\"BYTES\"].count())\n",
    "            ppi_len = len(ppi_dir)\n",
    "\n",
    "            ppi_rtt = 0\n",
    "            in_group = False\n",
    "\n",
    "            # Iterate through the list\n",
    "            for value in ppi_dir:\n",
    "                if value == -1:  # Start or continue a group of -1's\n",
    "                    if not in_group:\n",
    "                        in_group = True  # Beginning of a group\n",
    "                elif value == 1:  # Start or continue a group of 1's\n",
    "                    if not in_group:\n",
    "                        in_group = True  # Beginning of a group\n",
    "                    elif in_group:\n",
    "                        ppi_rtt += 1\n",
    "                        in_group = False  # Reset for the next group\n",
    "\n",
    "            # Handle the case where the list ends with a valid pair\n",
    "            if in_group:\n",
    "                ppi_rtt += 1\n",
    "\n",
    "        # print(\"Subgroup:\")\n",
    "        # print(subgroup)\n",
    "\n",
    "        dur = round(subgroup[\"DURATION\"].max() - subgroup[\"DURATION\"].min(), ndigits=6)\n",
    "\n",
    "        flow.append([ipsrc, ipdst, asndb.lookup(ipdst)[0], portsrc, portdst, 1, sni, dur, bytes_fromsrc, bytes_rev, packets, packets_rev, ppi_len, ppi_rtt, cat, [ppi_time, ppi_dir, ppi_size]])"
   ]
  },
  {
   "cell_type": "code",
   "execution_count": 81,
   "metadata": {},
   "outputs": [],
   "source": [
    "# Read the existing CSV file\n",
    "file_path = \"./benign_flow/benign.csv\"\n",
    "df = pd.read_csv(file_path)\n",
    "\n",
    "# Append each item in the flow list as a new row in the DataFrame\n",
    "for item in flow:\n",
    "    df.loc[len(df)] = item\n",
    "\n",
    "# Write the updated DataFrame back to the CSV file\n",
    "df.to_csv(file_path, index=False)"
   ]
  },
  {
   "cell_type": "code",
   "execution_count": null,
   "metadata": {},
   "outputs": [],
   "source": [
    "for item in flow:\n",
    "    print(item)"
   ]
  },
  {
   "cell_type": "code",
   "execution_count": 61,
   "metadata": {},
   "outputs": [],
   "source": [
    "# Save the filtered DataFrame to a new CSV file\n",
    "output_file = \"./benign_flow/filtered_output.csv\"\n",
    "df.to_csv(output_file, index=False)"
   ]
  }
 ],
 "metadata": {
  "kernelspec": {
   "display_name": "Python 3",
   "language": "python",
   "name": "python3"
  },
  "language_info": {
   "codemirror_mode": {
    "name": "ipython",
    "version": 3
   },
   "file_extension": ".py",
   "mimetype": "text/x-python",
   "name": "python",
   "nbconvert_exporter": "python",
   "pygments_lexer": "ipython3",
   "version": "3.10.11"
  }
 },
 "nbformat": 4,
 "nbformat_minor": 2
}
