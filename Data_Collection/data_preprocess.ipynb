{
 "cells": [
  {
   "cell_type": "markdown",
   "metadata": {},
   "source": [
    "### Preliminary setup"
   ]
  },
  {
   "cell_type": "code",
   "execution_count": 1,
   "metadata": {},
   "outputs": [],
   "source": [
    "# For data transformation\n",
    "import pandas as pd            \n",
    "# For statistical analysis\n",
    "import numpy as np\n",
    "# For ASN lookup\n",
    "import pyasn\n",
    "asndb = pyasn.pyasn('ipasn_20140513.dat')"
   ]
  },
  {
   "cell_type": "code",
   "execution_count": null,
   "metadata": {},
   "outputs": [],
   "source": [
    "# input csv\n",
    "input_file = \"./benign_flow/yt_test/test10.csv\"\n",
    "df = pd.read_csv(input_file)\n",
    "\n",
    "column_names = [\"DURATION\", \"SRC_IP\", \"DST_IP\", \"SRC_PORT\", \"DST_PORT\", \"QUIC_VERSION\", \"BYTES\", \"PROTOCOL\"]\n",
    "df.columns = column_names\n",
    "\n",
    "# delete protocol column\n",
    "df = df.drop([\"SRC_PORT\", \"PROTOCOL\"], axis=1)\n",
    "\n",
    "df[\"BYTES\"] = pd.to_numeric(df[\"BYTES\"], errors='coerce').fillna(0)\n",
    "#df[\"DURATION\"] = df[\"DURATION\"] - df[\"DURATION\"].iloc[0]"
   ]
  },
  {
   "cell_type": "code",
   "execution_count": null,
   "metadata": {},
   "outputs": [],
   "source": [
    "# set source IP and web service category\n",
    "ipsrc = \"10.10.3.10\"\n",
    "cat = \"Streaming\"\n",
    "\n",
    "# determine the destination port and QUIC version\n",
    "\n",
    "\n",
    "# initialize the interpacket lists\n",
    "flow = []\n",
    "pkt_fwd = []\n",
    "pkt_rev = []\n",
    "bytes_fwd = []\n",
    "bytes_rev = []\n",
    "\n",
    "for index, value in df['SRC_IP'].iteritems():\n",
    "    ctr = 0\n",
    "    if value == ipsrc:\n",
    "        ctr += 1\n",
    "        dst_port = df['DST_IP'][index]\n",
    "        dst_asn = asndb.lookup(dst_port)[index]\n",
    "\n",
    "        \n",
    "\n",
    "        \n",
    "        \n",
    "    print(f\"Index: {index}, Value: {value}\")\n",
    "\n",
    "flow.append([dst_port, dst_asn, quic_ver, dur, cat, trips, ratio, flow_pkt, flow_bytes, tot_pkt, tot_bytes, max_bytes, min_bytes, ave_bytes, std_bytes, var_bytes, fwd_pkt, fwd_bytes, max_fwd_bytes, min_fwd_bytes, ave_fwd_bytes, std_fwd_bytes, var_fwd_bytes, rev_pkt, rev_bytes, max_rev_bytes, min_rev_bytes, ave_rev_bytes, std_rev_bytes, var_rev_bytes, max_iat, min_iat, ave_iat, std_iat, var_iat, fwd_dur, max_fwd_iat, min_fwd_iat, ave_fwd_iat, std_fwd_iat, var_fwd_iat, rev_dur, max_rev_iat, min_rev_iat, ave_rev_iat, std_rev_iat, var_rev_iat, label])\n",
    "        "
   ]
  },
  {
   "cell_type": "code",
   "execution_count": null,
   "metadata": {},
   "outputs": [],
   "source": [
    "for item in flow:\n",
    "    print(item)"
   ]
  },
  {
   "cell_type": "code",
   "execution_count": 5,
   "metadata": {},
   "outputs": [],
   "source": [
    "# Read the existing CSV file\n",
    "file_path = \"./benign_flow/benign.csv\"\n",
    "df = pd.read_csv(file_path)\n",
    "\n",
    "# Append each item in the flow list as a new row in the DataFrame\n",
    "for item in flow:\n",
    "    df.loc[len(df)] = item\n",
    "\n",
    "# Write the updated DataFrame back to the CSV file\n",
    "df.to_csv(file_path, index=False)"
   ]
  },
  {
   "cell_type": "code",
   "execution_count": 6,
   "metadata": {},
   "outputs": [],
   "source": [
    "# Save the filtered DataFrame to a new CSV file\n",
    "output_file = \"./benign_flow/filtered_output.csv\"\n",
    "df.to_csv(output_file, index=False)"
   ]
  },
  {
   "cell_type": "markdown",
   "metadata": {},
   "source": [
    "### archive"
   ]
  },
  {
   "cell_type": "code",
   "execution_count": null,
   "metadata": {},
   "outputs": [],
   "source": [
    "# source IP\n",
    "ipsrc = df[\"SRC_IP\"].iloc[0]\n",
    "portsrc = df[\"SRC_PORT\"].iloc[0]\n",
    "cat = \"Streaming\"\n",
    "\n",
    "flow = []\n",
    "\n",
    "df[\"true_dest\"] = df.apply(lambda row: row[\"DST_IP\"] if row[\"SRC_IP\"] == ipsrc else row[\"SRC_IP\"], axis=1)\n",
    "df[\"group\"] = (df[\"true_dest\"] != df[\"true_dest\"].shift()).cumsum()\n",
    "\n",
    "for group, group_df in df.groupby(\"group\"):\n",
    "    num_subgroups = (len(group_df) + 29) // 30\n",
    "    subgroups = [group_df.iloc[i * 30:(i+1) * 30] for i in range(num_subgroups)]\n",
    "    \n",
    "    # print(f\"Group {group}:\")\n",
    "    # print(group_df)\n",
    "\n",
    "    for  subgroup in subgroups:\n",
    "        ppi_dir = []\n",
    "        ipdst = subgroup[\"true_dest\"].iloc[0]  # The unique normalized destination for this subgroup\n",
    "        portdst = subgroup[\"DST_PORT\"].iloc[0] \n",
    "\n",
    "        ppi_time = [0]\n",
    "        ppi_size = [int(subgroup[\"BYTES\"].iloc[0])]\n",
    "        for i in range(1, len(subgroup)):\n",
    "            # Calculate the time difference between consecutive packets\n",
    "            duration = int((subgroup[\"DURATION\"].iloc[i] - subgroup[\"DURATION\"].iloc[i - 1]) * 1000)\n",
    "            ppi_time.append(duration)\n",
    "            ppi_size.append(int(subgroup[\"BYTES\"].iloc[i]))\n",
    "\n",
    "\n",
    "\n",
    "        for _, row in subgroup.iterrows():\n",
    "            if row[\"SRC_IP\"] == ipsrc and row[\"DST_IP\"] == ipdst:\n",
    "                ppi_dir.append(1)\n",
    "            elif row[\"SRC_IP\"] == ipdst  and row[\"DST_IP\"] == ipsrc:\n",
    "                ppi_dir.append(-1)\n",
    "            else:\n",
    "                ppi_dir.append(0)\n",
    "\n",
    "            bytes_fromsrc = int(subgroup.loc[(subgroup[\"SRC_IP\"] == ipsrc) & (subgroup[\"DST_IP\"] == ipdst),\"BYTES\"].sum())\n",
    "            bytes_rev = int(subgroup.loc[(subgroup[\"SRC_IP\"] == ipdst) & (subgroup[\"DST_IP\"] == ipsrc),\"BYTES\"].sum())\n",
    "            packets = int(subgroup.loc[(subgroup[\"SRC_IP\"] == ipsrc) & (subgroup[\"DST_IP\"] == ipdst),\"BYTES\"].count())\n",
    "            packets_rev = int(subgroup.loc[(subgroup[\"SRC_IP\"] == ipdst) & (subgroup[\"DST_IP\"] == ipsrc),\"BYTES\"].count())\n",
    "            ppi_len = len(ppi_dir)\n",
    "\n",
    "            ppi_rtt = 0\n",
    "            in_group = False\n",
    "\n",
    "            # Iterate through the list\n",
    "            for value in ppi_dir:\n",
    "                if value == -1:  # Start or continue a group of -1's\n",
    "                    if not in_group:\n",
    "                        in_group = True  # Beginning of a group\n",
    "                elif value == 1:  # Start or continue a group of 1's\n",
    "                    if not in_group:\n",
    "                        in_group = True  # Beginning of a group\n",
    "                    elif in_group:\n",
    "                        ppi_rtt += 1\n",
    "                        in_group = False  # Reset for the next group\n",
    "\n",
    "            # Handle the case where the list ends with a valid pair\n",
    "            if in_group:\n",
    "                ppi_rtt += 1\n",
    "\n",
    "        # print(\"Subgroup:\")\n",
    "        # print(subgroup)\n",
    "\n",
    "        dur = round(subgroup[\"DURATION\"].max() - subgroup[\"DURATION\"].min(), ndigits=6)\n",
    "\n",
    "        #flow.append([ipsrc, ipdst, asndb.lookup(ipdst)[0], portsrc, portdst, 1, sni, dur, bytes_fromsrc, bytes_rev, packets, packets_rev, ppi_len, ppi_rtt, cat, [ppi_time, ppi_dir, ppi_size]])\n",
    "        flow.append([portdst, asndb.lookup(ipdst)[0], portsrc, portdst, 1, sni, dur, bytes_fromsrc, bytes_rev, packets, packets_rev, ppi_len, ppi_rtt, cat, [ppi_time, ppi_dir, ppi_size]])\n",
    "        "
   ]
  }
 ],
 "metadata": {
  "kernelspec": {
   "display_name": "Python 3",
   "language": "python",
   "name": "python3"
  },
  "language_info": {
   "codemirror_mode": {
    "name": "ipython",
    "version": 3
   },
   "file_extension": ".py",
   "mimetype": "text/x-python",
   "name": "python",
   "nbconvert_exporter": "python",
   "pygments_lexer": "ipython3",
   "version": "3.10.11"
  }
 },
 "nbformat": 4,
 "nbformat_minor": 2
}
