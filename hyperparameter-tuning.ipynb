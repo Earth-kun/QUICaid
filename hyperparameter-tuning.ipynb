{
 "cells": [
  {
   "cell_type": "markdown",
   "metadata": {},
   "source": [
    "# Hyperparameter Tuning"
   ]
  },
  {
   "cell_type": "code",
   "execution_count": 1,
   "metadata": {},
   "outputs": [],
   "source": [
    "# classifiers\n",
    "from skmultiflow.meta import AdaptiveRandomForestClassifier\n",
    "from skmultiflow.lazy import KNNClassifier, KNNADWINClassifier\n",
    "\n",
    "from float.feature_selection import OFS, FIRES      # online feature methods\n",
    "from skmultiflow.data import FileStream             # create stream from file\n",
    "from sklearn.metrics import accuracy_score, precision_score, recall_score, f1_score\n",
    "from sklearn.model_selection import ParameterGrid   # hyperparameter combinations\n",
    "import numpy as np\n",
    "import time"
   ]
  },
  {
   "cell_type": "code",
   "execution_count": 2,
   "metadata": {},
   "outputs": [],
   "source": [
    "data_loader = FileStream(filepath='out.csv')"
   ]
  },
  {
   "cell_type": "markdown",
   "metadata": {},
   "source": [
    "## Classifiers"
   ]
  },
  {
   "cell_type": "markdown",
   "metadata": {},
   "source": [
    "### ARF"
   ]
  },
  {
   "cell_type": "code",
   "execution_count": 3,
   "metadata": {},
   "outputs": [],
   "source": [
    "# Define the parameter grid for ARF\n",
    "arf_param_grid = {\n",
    "    'n_estimators': [5, 10, 20, 30],    # default=10\n",
    "    'grace_period': [50, 100],          # default=50\n",
    "    'split_confidence': [0.01, 0.05],   # default=0.01\n",
    "    'leaf_prediction': ['mc', 'nba']    # default='nba'\n",
    "}\n",
    "\n",
    "# Generate hyperparameter combinations\n",
    "arf_grid = ParameterGrid(arf_param_grid)"
   ]
  },
  {
   "cell_type": "code",
   "execution_count": 4,
   "metadata": {},
   "outputs": [],
   "source": [
    "def evaluate_model(params, stream):\n",
    "    # Initialize the ARF model with the given parameters\n",
    "    model = AdaptiveRandomForestClassifier(**params)\n",
    "    \n",
    "    # Pretrain the model\n",
    "    X_pretrain, y_pretrain = stream.next_sample(200)\n",
    "    model.partial_fit(X_pretrain, y_pretrain, classes=stream.target_values)\n",
    "    \n",
    "    # Stream evaluation\n",
    "    n_samples = 0\n",
    "    correct_predictions = 0\n",
    "\n",
    "    true_labels = []\n",
    "    pred_labels = []\n",
    "    \n",
    "    while n_samples < 50000 and stream.has_more_samples():\n",
    "        # if n_samples % 1000 == 0: print(f\"{n_samples} reached!\")\n",
    "        X, y = stream.next_sample()\n",
    "        start = time.perf_counter()\n",
    "        y_pred = model.predict(X)\n",
    "        \n",
    "        true_labels.append(y[0])\n",
    "        pred_labels.append(y_pred[0])\n",
    "\n",
    "        # Update metrics\n",
    "        if y_pred == y:\n",
    "            correct_predictions += 1\n",
    "        \n",
    "        # Train incrementally\n",
    "        model.partial_fit(X, [y[0]])\n",
    "        n_samples += 1\n",
    "\n",
    "        end = time.perf_counter()\n",
    "    \n",
    "    # Calculate accuracy\n",
    "    accuracy = correct_predictions / n_samples\n",
    "    precision = precision_score(true_labels, pred_labels, average='macro', zero_division=0)\n",
    "    recall = recall_score(true_labels, pred_labels, average='macro', zero_division=0)\n",
    "    f1 = f1_score(true_labels, pred_labels, average='macro', zero_division=0)\n",
    "    processing_time = end - start\n",
    "    return accuracy, precision, recall, f1, processing_time"
   ]
  },
  {
   "cell_type": "code",
   "execution_count": 5,
   "metadata": {},
   "outputs": [
    {
     "name": "stdout",
     "output_type": "stream",
     "text": [
      "Evaluating parameters: {'grace_period': 50, 'leaf_prediction': 'mc', 'n_estimators': 5, 'split_confidence': 0.01}\n",
      "Accuracy: 0.9970, Precision: 0.9970, Recall: 0.9970, F1: 0.9970\n",
      "Time per instance: 0.00103050\n",
      "Evaluating parameters: {'grace_period': 50, 'leaf_prediction': 'mc', 'n_estimators': 5, 'split_confidence': 0.05}\n",
      "Accuracy: 0.9972, Precision: 0.9972, Recall: 0.9972, F1: 0.9972\n",
      "Time per instance: 0.00117830\n",
      "Evaluating parameters: {'grace_period': 50, 'leaf_prediction': 'mc', 'n_estimators': 10, 'split_confidence': 0.01}\n",
      "Accuracy: 0.9969, Precision: 0.9969, Recall: 0.9969, F1: 0.9969\n",
      "Time per instance: 0.00197520\n",
      "Evaluating parameters: {'grace_period': 50, 'leaf_prediction': 'mc', 'n_estimators': 10, 'split_confidence': 0.05}\n",
      "Accuracy: 0.9970, Precision: 0.9970, Recall: 0.9970, F1: 0.9970\n",
      "Time per instance: 0.00217810\n",
      "Evaluating parameters: {'grace_period': 50, 'leaf_prediction': 'mc', 'n_estimators': 20, 'split_confidence': 0.01}\n",
      "Accuracy: 0.9970, Precision: 0.9969, Recall: 0.9970, F1: 0.9970\n",
      "Time per instance: 0.00416840\n",
      "Evaluating parameters: {'grace_period': 50, 'leaf_prediction': 'mc', 'n_estimators': 20, 'split_confidence': 0.05}\n",
      "Accuracy: 0.9968, Precision: 0.9968, Recall: 0.9968, F1: 0.9968\n",
      "Time per instance: 0.00400980\n",
      "Evaluating parameters: {'grace_period': 50, 'leaf_prediction': 'mc', 'n_estimators': 30, 'split_confidence': 0.01}\n",
      "Accuracy: 0.9970, Precision: 0.9969, Recall: 0.9970, F1: 0.9970\n",
      "Time per instance: 0.00889010\n",
      "Evaluating parameters: {'grace_period': 50, 'leaf_prediction': 'mc', 'n_estimators': 30, 'split_confidence': 0.05}\n",
      "Accuracy: 0.9970, Precision: 0.9969, Recall: 0.9970, F1: 0.9970\n",
      "Time per instance: 0.00671820\n",
      "Evaluating parameters: {'grace_period': 50, 'leaf_prediction': 'nba', 'n_estimators': 5, 'split_confidence': 0.01}\n",
      "Accuracy: 0.9991, Precision: 0.9991, Recall: 0.9991, F1: 0.9991\n",
      "Time per instance: 0.00236540\n",
      "Evaluating parameters: {'grace_period': 50, 'leaf_prediction': 'nba', 'n_estimators': 5, 'split_confidence': 0.05}\n",
      "Accuracy: 0.9991, Precision: 0.9991, Recall: 0.9990, F1: 0.9991\n",
      "Time per instance: 0.00249050\n",
      "Evaluating parameters: {'grace_period': 50, 'leaf_prediction': 'nba', 'n_estimators': 10, 'split_confidence': 0.01}\n",
      "Accuracy: 0.9994, Precision: 0.9994, Recall: 0.9993, F1: 0.9994\n",
      "Time per instance: 0.00704550\n",
      "Evaluating parameters: {'grace_period': 50, 'leaf_prediction': 'nba', 'n_estimators': 10, 'split_confidence': 0.05}\n",
      "Accuracy: 0.9993, Precision: 0.9994, Recall: 0.9993, F1: 0.9993\n",
      "Time per instance: 0.00483700\n",
      "Evaluating parameters: {'grace_period': 50, 'leaf_prediction': 'nba', 'n_estimators': 20, 'split_confidence': 0.01}\n",
      "Accuracy: 0.9994, Precision: 0.9994, Recall: 0.9994, F1: 0.9994\n",
      "Time per instance: 0.00975160\n",
      "Evaluating parameters: {'grace_period': 50, 'leaf_prediction': 'nba', 'n_estimators': 20, 'split_confidence': 0.05}\n",
      "Accuracy: 0.9995, Precision: 0.9995, Recall: 0.9995, F1: 0.9995\n",
      "Time per instance: 0.01214260\n",
      "Evaluating parameters: {'grace_period': 50, 'leaf_prediction': 'nba', 'n_estimators': 30, 'split_confidence': 0.01}\n",
      "Accuracy: 0.9995, Precision: 0.9995, Recall: 0.9994, F1: 0.9995\n",
      "Time per instance: 0.01458150\n",
      "Evaluating parameters: {'grace_period': 50, 'leaf_prediction': 'nba', 'n_estimators': 30, 'split_confidence': 0.05}\n",
      "Accuracy: 0.9994, Precision: 0.9994, Recall: 0.9993, F1: 0.9994\n",
      "Time per instance: 0.01729140\n",
      "Evaluating parameters: {'grace_period': 100, 'leaf_prediction': 'mc', 'n_estimators': 5, 'split_confidence': 0.01}\n",
      "Accuracy: 0.9954, Precision: 0.9953, Recall: 0.9954, F1: 0.9954\n",
      "Time per instance: 0.00087200\n",
      "Evaluating parameters: {'grace_period': 100, 'leaf_prediction': 'mc', 'n_estimators': 5, 'split_confidence': 0.05}\n",
      "Accuracy: 0.9954, Precision: 0.9954, Recall: 0.9954, F1: 0.9954\n",
      "Time per instance: 0.00091550\n",
      "Evaluating parameters: {'grace_period': 100, 'leaf_prediction': 'mc', 'n_estimators': 10, 'split_confidence': 0.01}\n",
      "Accuracy: 0.9955, Precision: 0.9955, Recall: 0.9955, F1: 0.9955\n",
      "Time per instance: 0.00294920\n",
      "Evaluating parameters: {'grace_period': 100, 'leaf_prediction': 'mc', 'n_estimators': 10, 'split_confidence': 0.05}\n",
      "Accuracy: 0.9956, Precision: 0.9956, Recall: 0.9956, F1: 0.9956\n",
      "Time per instance: 0.00196070\n",
      "Evaluating parameters: {'grace_period': 100, 'leaf_prediction': 'mc', 'n_estimators': 20, 'split_confidence': 0.01}\n",
      "Accuracy: 0.9956, Precision: 0.9956, Recall: 0.9956, F1: 0.9956\n",
      "Time per instance: 0.00484960\n",
      "Evaluating parameters: {'grace_period': 100, 'leaf_prediction': 'mc', 'n_estimators': 20, 'split_confidence': 0.05}\n",
      "Accuracy: 0.9953, Precision: 0.9953, Recall: 0.9953, F1: 0.9953\n",
      "Time per instance: 0.00377360\n",
      "Evaluating parameters: {'grace_period': 100, 'leaf_prediction': 'mc', 'n_estimators': 30, 'split_confidence': 0.01}\n",
      "Accuracy: 0.9957, Precision: 0.9956, Recall: 0.9957, F1: 0.9957\n",
      "Time per instance: 0.00858940\n",
      "Evaluating parameters: {'grace_period': 100, 'leaf_prediction': 'mc', 'n_estimators': 30, 'split_confidence': 0.05}\n",
      "Accuracy: 0.9955, Precision: 0.9955, Recall: 0.9955, F1: 0.9955\n",
      "Time per instance: 0.00574070\n",
      "Evaluating parameters: {'grace_period': 100, 'leaf_prediction': 'nba', 'n_estimators': 5, 'split_confidence': 0.01}\n",
      "Accuracy: 0.9991, Precision: 0.9992, Recall: 0.9991, F1: 0.9991\n",
      "Time per instance: 0.00240020\n",
      "Evaluating parameters: {'grace_period': 100, 'leaf_prediction': 'nba', 'n_estimators': 5, 'split_confidence': 0.05}\n",
      "Accuracy: 0.9992, Precision: 0.9992, Recall: 0.9992, F1: 0.9992\n",
      "Time per instance: 0.00240690\n",
      "Evaluating parameters: {'grace_period': 100, 'leaf_prediction': 'nba', 'n_estimators': 10, 'split_confidence': 0.01}\n",
      "Accuracy: 0.9995, Precision: 0.9995, Recall: 0.9994, F1: 0.9995\n",
      "Time per instance: 0.00733250\n",
      "Evaluating parameters: {'grace_period': 100, 'leaf_prediction': 'nba', 'n_estimators': 10, 'split_confidence': 0.05}\n",
      "Accuracy: 0.9995, Precision: 0.9995, Recall: 0.9995, F1: 0.9995\n",
      "Time per instance: 0.00698230\n",
      "Evaluating parameters: {'grace_period': 100, 'leaf_prediction': 'nba', 'n_estimators': 20, 'split_confidence': 0.01}\n",
      "Accuracy: 0.9994, Precision: 0.9994, Recall: 0.9994, F1: 0.9994\n",
      "Time per instance: 0.01214230\n",
      "Evaluating parameters: {'grace_period': 100, 'leaf_prediction': 'nba', 'n_estimators': 20, 'split_confidence': 0.05}\n",
      "Accuracy: 0.9994, Precision: 0.9994, Recall: 0.9994, F1: 0.9994\n",
      "Time per instance: 0.01215550\n",
      "Evaluating parameters: {'grace_period': 100, 'leaf_prediction': 'nba', 'n_estimators': 30, 'split_confidence': 0.01}\n",
      "Accuracy: 0.9994, Precision: 0.9994, Recall: 0.9994, F1: 0.9994\n",
      "Time per instance: 0.01963830\n",
      "Evaluating parameters: {'grace_period': 100, 'leaf_prediction': 'nba', 'n_estimators': 30, 'split_confidence': 0.05}\n",
      "Accuracy: 0.9995, Precision: 0.9995, Recall: 0.9994, F1: 0.9995\n",
      "Time per instance: 0.02457310\n",
      "Grid Search Completed.\n",
      "Best Parameters: {'grace_period': 100, 'leaf_prediction': 'nba', 'n_estimators': 10, 'split_confidence': 0.05}\n",
      "Best Accuracy: 0.9995\n"
     ]
    }
   ],
   "source": [
    "best_params = None\n",
    "best_score = 0\n",
    "\n",
    "for params in arf_grid:\n",
    "    print(f\"Evaluating parameters: {params}\")\n",
    "    data_loader.restart()\n",
    "\n",
    "    accuracy, precision, recall, f1, processing_time = evaluate_model(params, data_loader)\n",
    "    print(f\"Accuracy: {accuracy:.4f}, Precision: {precision:.4f}, Recall: {recall:.4f}, F1: {f1:.4f}\")\n",
    "    print(f\"Time per instance: {processing_time:.8f}\")\n",
    "\n",
    "    if accuracy > best_score:\n",
    "        best_params = params\n",
    "        best_score = accuracy\n",
    "\n",
    "print(\"Grid Search Completed.\")\n",
    "print(f\"Best Parameters: {best_params}\")\n",
    "print(f\"Best Accuracy: {best_score:.4f}\")"
   ]
  },
  {
   "cell_type": "markdown",
   "metadata": {},
   "source": [
    "## Dynamic Feature Selection"
   ]
  }
 ],
 "metadata": {
  "kernelspec": {
   "display_name": "Python 3",
   "language": "python",
   "name": "python3"
  },
  "language_info": {
   "codemirror_mode": {
    "name": "ipython",
    "version": 3
   },
   "file_extension": ".py",
   "mimetype": "text/x-python",
   "name": "python",
   "nbconvert_exporter": "python",
   "pygments_lexer": "ipython3",
   "version": "3.9.1"
  }
 },
 "nbformat": 4,
 "nbformat_minor": 2
}
