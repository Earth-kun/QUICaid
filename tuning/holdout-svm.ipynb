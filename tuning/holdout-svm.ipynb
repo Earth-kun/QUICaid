{
 "cells": [
  {
   "cell_type": "code",
   "execution_count": 1,
   "metadata": {},
   "outputs": [],
   "source": [
    "import pandas as pd\n",
    "\n",
    "from sklearn.svm import LinearSVC\n",
    "from sklearn.model_selection import cross_val_score, StratifiedKFold, GridSearchCV, train_test_split\n",
    "from sklearn.preprocessing import StandardScaler\n",
    "from sklearn.metrics import make_scorer, f1_score, accuracy_score, precision_score, recall_score"
   ]
  },
  {
   "cell_type": "code",
   "execution_count": 2,
   "metadata": {},
   "outputs": [],
   "source": [
    "data = pd.read_csv('../merged.csv')\n",
    "\n",
    "X = data.drop(columns=[\"label\"])  # Drop the target column\n",
    "y = data[\"label\"]  # Target column"
   ]
  },
  {
   "cell_type": "code",
   "execution_count": 3,
   "metadata": {},
   "outputs": [],
   "source": [
    "X_train, X_test, y_train, y_test = train_test_split(\n",
    "    X, y, test_size=0.3, random_state=42\n",
    ")"
   ]
  },
  {
   "cell_type": "code",
   "execution_count": 4,
   "metadata": {},
   "outputs": [],
   "source": [
    "scaler = StandardScaler()\n",
    "X_train_scaled = scaler.fit_transform(X_train)"
   ]
  },
  {
   "cell_type": "code",
   "execution_count": 5,
   "metadata": {},
   "outputs": [],
   "source": [
    "scoring = {\n",
    "    'accuracy': make_scorer(accuracy_score),\n",
    "    'precision': make_scorer(precision_score),\n",
    "    'recall': make_scorer(recall_score),\n",
    "    'f1': make_scorer(f1_score)\n",
    "}"
   ]
  },
  {
   "cell_type": "code",
   "execution_count": 6,
   "metadata": {},
   "outputs": [
    {
     "name": "stderr",
     "output_type": "stream",
     "text": [
      "c:\\Users\\Carlo Alamani\\AppData\\Local\\Programs\\Python\\Python39\\lib\\site-packages\\sklearn\\svm\\_base.py:1206: ConvergenceWarning: Liblinear failed to converge, increase the number of iterations.\n",
      "  warnings.warn(\n",
      "c:\\Users\\Carlo Alamani\\AppData\\Local\\Programs\\Python\\Python39\\lib\\site-packages\\sklearn\\svm\\_base.py:1206: ConvergenceWarning: Liblinear failed to converge, increase the number of iterations.\n",
      "  warnings.warn(\n",
      "c:\\Users\\Carlo Alamani\\AppData\\Local\\Programs\\Python\\Python39\\lib\\site-packages\\sklearn\\svm\\_base.py:1206: ConvergenceWarning: Liblinear failed to converge, increase the number of iterations.\n",
      "  warnings.warn(\n",
      "c:\\Users\\Carlo Alamani\\AppData\\Local\\Programs\\Python\\Python39\\lib\\site-packages\\sklearn\\svm\\_base.py:1206: ConvergenceWarning: Liblinear failed to converge, increase the number of iterations.\n",
      "  warnings.warn(\n",
      "c:\\Users\\Carlo Alamani\\AppData\\Local\\Programs\\Python\\Python39\\lib\\site-packages\\sklearn\\svm\\_base.py:1206: ConvergenceWarning: Liblinear failed to converge, increase the number of iterations.\n",
      "  warnings.warn(\n",
      "c:\\Users\\Carlo Alamani\\AppData\\Local\\Programs\\Python\\Python39\\lib\\site-packages\\sklearn\\svm\\_base.py:1206: ConvergenceWarning: Liblinear failed to converge, increase the number of iterations.\n",
      "  warnings.warn(\n",
      "c:\\Users\\Carlo Alamani\\AppData\\Local\\Programs\\Python\\Python39\\lib\\site-packages\\sklearn\\svm\\_base.py:1206: ConvergenceWarning: Liblinear failed to converge, increase the number of iterations.\n",
      "  warnings.warn(\n",
      "c:\\Users\\Carlo Alamani\\AppData\\Local\\Programs\\Python\\Python39\\lib\\site-packages\\sklearn\\svm\\_base.py:1206: ConvergenceWarning: Liblinear failed to converge, increase the number of iterations.\n",
      "  warnings.warn(\n",
      "c:\\Users\\Carlo Alamani\\AppData\\Local\\Programs\\Python\\Python39\\lib\\site-packages\\sklearn\\svm\\_base.py:1206: ConvergenceWarning: Liblinear failed to converge, increase the number of iterations.\n",
      "  warnings.warn(\n",
      "c:\\Users\\Carlo Alamani\\AppData\\Local\\Programs\\Python\\Python39\\lib\\site-packages\\sklearn\\svm\\_base.py:1206: ConvergenceWarning: Liblinear failed to converge, increase the number of iterations.\n",
      "  warnings.warn(\n",
      "c:\\Users\\Carlo Alamani\\AppData\\Local\\Programs\\Python\\Python39\\lib\\site-packages\\sklearn\\svm\\_base.py:1206: ConvergenceWarning: Liblinear failed to converge, increase the number of iterations.\n",
      "  warnings.warn(\n",
      "c:\\Users\\Carlo Alamani\\AppData\\Local\\Programs\\Python\\Python39\\lib\\site-packages\\sklearn\\svm\\_base.py:1206: ConvergenceWarning: Liblinear failed to converge, increase the number of iterations.\n",
      "  warnings.warn(\n",
      "c:\\Users\\Carlo Alamani\\AppData\\Local\\Programs\\Python\\Python39\\lib\\site-packages\\sklearn\\svm\\_base.py:1206: ConvergenceWarning: Liblinear failed to converge, increase the number of iterations.\n",
      "  warnings.warn(\n",
      "c:\\Users\\Carlo Alamani\\AppData\\Local\\Programs\\Python\\Python39\\lib\\site-packages\\sklearn\\svm\\_base.py:1206: ConvergenceWarning: Liblinear failed to converge, increase the number of iterations.\n",
      "  warnings.warn(\n",
      "c:\\Users\\Carlo Alamani\\AppData\\Local\\Programs\\Python\\Python39\\lib\\site-packages\\sklearn\\svm\\_base.py:1206: ConvergenceWarning: Liblinear failed to converge, increase the number of iterations.\n",
      "  warnings.warn(\n",
      "c:\\Users\\Carlo Alamani\\AppData\\Local\\Programs\\Python\\Python39\\lib\\site-packages\\sklearn\\svm\\_base.py:1206: ConvergenceWarning: Liblinear failed to converge, increase the number of iterations.\n",
      "  warnings.warn(\n",
      "c:\\Users\\Carlo Alamani\\AppData\\Local\\Programs\\Python\\Python39\\lib\\site-packages\\sklearn\\svm\\_base.py:1206: ConvergenceWarning: Liblinear failed to converge, increase the number of iterations.\n",
      "  warnings.warn(\n",
      "c:\\Users\\Carlo Alamani\\AppData\\Local\\Programs\\Python\\Python39\\lib\\site-packages\\sklearn\\svm\\_base.py:1206: ConvergenceWarning: Liblinear failed to converge, increase the number of iterations.\n",
      "  warnings.warn(\n",
      "c:\\Users\\Carlo Alamani\\AppData\\Local\\Programs\\Python\\Python39\\lib\\site-packages\\sklearn\\svm\\_base.py:1206: ConvergenceWarning: Liblinear failed to converge, increase the number of iterations.\n",
      "  warnings.warn(\n",
      "c:\\Users\\Carlo Alamani\\AppData\\Local\\Programs\\Python\\Python39\\lib\\site-packages\\sklearn\\svm\\_base.py:1206: ConvergenceWarning: Liblinear failed to converge, increase the number of iterations.\n",
      "  warnings.warn(\n"
     ]
    },
    {
     "data": {
      "text/plain": [
       "GridSearchCV(cv=5, estimator=LinearSVC(class_weight='balanced', max_iter=5000),\n",
       "             param_grid={'C': [0.001, 0.01, 0.1, 1, 10]}, refit='f1',\n",
       "             scoring={'accuracy': make_scorer(accuracy_score),\n",
       "                      'f1': make_scorer(f1_score),\n",
       "                      'precision': make_scorer(precision_score),\n",
       "                      'recall': make_scorer(recall_score)})"
      ]
     },
     "execution_count": 6,
     "metadata": {},
     "output_type": "execute_result"
    }
   ],
   "source": [
    "# Grid search with class balancing\n",
    "param_grid = {'C': [0.001, 0.01, 0.1, 1, 10]}\n",
    "\n",
    "svc = LinearSVC(class_weight='balanced', max_iter=5000)\n",
    "\n",
    "grid_search = GridSearchCV(svc, param_grid, cv=5, scoring=scoring, refit='f1')\n",
    "\n",
    "# Fit and evaluate\n",
    "grid_search.fit(X_train_scaled, y_train)"
   ]
  },
  {
   "cell_type": "code",
   "execution_count": 7,
   "metadata": {},
   "outputs": [
    {
     "name": "stdout",
     "output_type": "stream",
     "text": [
      "Best params: {'C': 0.001}\n",
      "Best F1 score: 0.6390486235976847\n"
     ]
    }
   ],
   "source": [
    "print(f\"Best params: {grid_search.best_params_}\")\n",
    "print(\"Best F1 score:\", grid_search.best_score_)"
   ]
  },
  {
   "cell_type": "code",
   "execution_count": 9,
   "metadata": {},
   "outputs": [
    {
     "name": "stdout",
     "output_type": "stream",
     "text": [
      "All scores:\n",
      "accuracy: 0.599258064516129\n",
      "precision: 0.566699016893004\n",
      "recall: 0.7325942139322421\n",
      "f1: 0.6390486235976847\n",
      "{'mean_fit_time': array([117.87480445, 259.49073534, 266.568857  , 274.72352257,\n",
      "       291.25771928]), 'std_fit_time': array([31.28487113,  6.28246574,  2.4846649 ,  6.82423121,  2.08482377]), 'mean_score_time': array([0.03184657, 0.03265009, 0.03753333, 0.03794708, 0.03620186]), 'std_score_time': array([0.0089645 , 0.00409881, 0.00484189, 0.00176386, 0.00493349]), 'param_C': masked_array(data=[0.001, 0.01, 0.1, 1, 10],\n",
      "             mask=[False, False, False, False, False],\n",
      "       fill_value='?',\n",
      "            dtype=object), 'params': [{'C': 0.001}, {'C': 0.01}, {'C': 0.1}, {'C': 1}, {'C': 10}], 'split0_test_accuracy': array([0.59928571, 0.60875576, 0.6125576 , 0.61294931, 0.61635945]), 'split1_test_accuracy': array([0.60016129, 0.61191244, 0.61569124, 0.61698157, 0.62069124]), 'split2_test_accuracy': array([0.59700461, 0.61029954, 0.61541475, 0.61707373, 0.61921659]), 'split3_test_accuracy': array([0.60172811, 0.61099078, 0.61410138, 0.615     , 0.61866359]), 'split4_test_accuracy': array([0.5981106 , 0.60923963, 0.61313364, 0.61435484, 0.61868664]), 'mean_test_accuracy': array([0.59925806, 0.61023963, 0.61417972, 0.61527189, 0.6187235 ]), 'std_test_accuracy': array([0.00163171, 0.00114612, 0.00122814, 0.00157981, 0.00139347]), 'rank_test_accuracy': array([5, 4, 3, 2, 1]), 'split0_test_precision': array([0.56646742, 0.58413241, 0.59202629, 0.59373333, 0.6012899 ]), 'split1_test_precision': array([0.56708054, 0.58642973, 0.59450861, 0.5971258 , 0.60437294]), 'split2_test_precision': array([0.56493554, 0.58681393, 0.59620946, 0.59862725, 0.60376225]), 'split3_test_precision': array([0.56955371, 0.58702152, 0.59406683, 0.59627163, 0.60188903]), 'split4_test_precision': array([0.56545788, 0.58414568, 0.59174989, 0.59413085, 0.60144434]), 'mean_test_precision': array([0.56669902, 0.58570865, 0.59371221, 0.59597777, 0.60255169]), 'std_test_precision': array([0.00161237, 0.00129558, 0.00165465, 0.00183699, 0.00126806]), 'rank_test_precision': array([5, 4, 3, 2, 1]), 'split0_test_recall': array([0.73501142, 0.66668253, 0.6429863 , 0.63565855, 0.61662543]), 'split1_test_recall': array([0.7367244 , 0.67362962, 0.64907689, 0.64255805, 0.62737914]), 'split2_test_recall': array([0.7298249 , 0.65983061, 0.63765702, 0.6349448 , 0.62157404]), 'split3_test_recall': array([0.72687476, 0.66330415, 0.64127332, 0.63465931, 0.62766464]), 'split4_test_recall': array([0.73453559, 0.67006091, 0.64845832, 0.64255805, 0.63009136]), 'mean_test_recall': array([0.73259421, 0.66670156, 0.64389037, 0.63807575, 0.62466692]), 'std_test_recall': array([0.00366201, 0.00485872, 0.00434251, 0.00367423, 0.00489895]), 'rank_test_recall': array([1, 2, 3, 4, 5]), 'split0_test_f1': array([0.63982603, 0.62268344, 0.61645492, 0.61398106, 0.60886112]), 'split1_test_f1': array([0.64086591, 0.62701242, 0.62059553, 0.61900942, 0.61566119]), 'split2_test_f1': array([0.63688079, 0.62118395, 0.6162371 , 0.61625141, 0.61253869]), 'split3_test_f1': array([0.63866881, 0.62283582, 0.61676811, 0.61486689, 0.61450666]), 'split4_test_f1': array([0.63900157, 0.62416063, 0.61880761, 0.61739627, 0.61543467]), 'mean_test_f1': array([0.63904862, 0.62357525, 0.61777265, 0.61630101, 0.61340046]), 'std_test_f1': array([0.00132309, 0.00196047, 0.00168186, 0.00178753, 0.00252273]), 'rank_test_f1': array([1, 2, 3, 4, 5])}\n"
     ]
    }
   ],
   "source": [
    "print(\"All scores:\")\n",
    "results = grid_search.cv_results_\n",
    "for metric in scoring.keys():\n",
    "    best_index = results['rank_test_f1'].argmin()\n",
    "    print(f\"{metric}: {results[f'mean_test_{metric}'][best_index]}\")\n",
    "\n",
    "print(results)"
   ]
  }
 ],
 "metadata": {
  "kernelspec": {
   "display_name": "Python 3",
   "language": "python",
   "name": "python3"
  },
  "language_info": {
   "codemirror_mode": {
    "name": "ipython",
    "version": 3
   },
   "file_extension": ".py",
   "mimetype": "text/x-python",
   "name": "python",
   "nbconvert_exporter": "python",
   "pygments_lexer": "ipython3",
   "version": "3.9.1"
  }
 },
 "nbformat": 4,
 "nbformat_minor": 2
}
