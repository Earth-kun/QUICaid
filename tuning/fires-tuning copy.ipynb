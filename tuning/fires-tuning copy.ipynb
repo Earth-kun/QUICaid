{
 "cells": [
  {
   "cell_type": "code",
   "execution_count": 3,
   "metadata": {},
   "outputs": [],
   "source": [
    "from skmultiflow.meta import AdaptiveRandomForestClassifier\n",
    "from skmultiflow.drift_detection.adwin import ADWIN\n",
    "\n",
    "from float.feature_selection import FIRES           # online feature methods\n",
    "from skmultiflow.data import FileStream             # create stream from file\n",
    "from sklearn.model_selection import ParameterGrid   # hyperparameter combinations\n",
    "\n",
    "from prequential import run_prequential\n",
    "\n",
    "import pandas as pd"
   ]
  },
  {
   "cell_type": "code",
   "execution_count": 4,
   "metadata": {},
   "outputs": [],
   "source": [
    "data_loader = FileStream(filepath='../merged.csv')"
   ]
  },
  {
   "cell_type": "code",
   "execution_count": 5,
   "metadata": {},
   "outputs": [],
   "source": [
    "ref_sample, _ = data_loader.next_sample(50)\n",
    "data_loader.reset()"
   ]
  },
  {
   "cell_type": "code",
   "execution_count": null,
   "metadata": {},
   "outputs": [],
   "source": [
    "parameters = {\n",
    "    'penalty_s': [0.00001, 0.0001, 0.001, 0.01, 0.1],    # default=0.01\n",
    "    'penalty_r': [0.01, 0.1, 1],                # default=0.01\n",
    "    'lr_mu': [1],         # default=0.01\n",
    "    'lr_sigma': [0.1],      # default=0.01    \n",
    "}\n",
    "\n",
    "fires_grid = ParameterGrid(parameters)"
   ]
  },
  {
   "cell_type": "code",
   "execution_count": 7,
   "metadata": {},
   "outputs": [
    {
     "data": {
      "text/plain": [
       "(1.0, 0.0, 0.0, 0.0, 0.00858628999976645)"
      ]
     },
     "execution_count": 7,
     "metadata": {},
     "output_type": "execute_result"
    }
   ],
   "source": [
    "# warm up run before memory measurement\n",
    "\n",
    "run_prequential(\n",
    "    classifier=AdaptiveRandomForestClassifier(),\n",
    "    stream=data_loader,\n",
    "    feature_selector = FIRES(\n",
    "        n_total_features=data_loader.n_features,\n",
    "        n_selected_features=10,\n",
    "        classes=data_loader.target_values,\n",
    "        baseline='gaussian',\n",
    "        ref_sample=ref_sample\n",
    "    ),\n",
    "    preq_samples=10\n",
    ")"
   ]
  },
  {
   "cell_type": "code",
   "execution_count": null,
   "metadata": {},
   "outputs": [
    {
     "name": "stdout",
     "output_type": "stream",
     "text": [
      "Evaluating parameters: {'lr_mu': 1, 'lr_sigma': 0.01, 'penalty_r': 0.01, 'penalty_s': 1e-05}\n",
      "Accuracy: 0.998670, Precision: 0.998820, Recall: 0.998520, F1: 0.998670\n",
      "Average processing time: 0.0075901929559990455\n",
      "Evaluating parameters: {'lr_mu': 1, 'lr_sigma': 0.01, 'penalty_r': 0.01, 'penalty_s': 0.0001}\n",
      "Accuracy: 0.998630, Precision: 0.998820, Recall: 0.998440, F1: 0.998630\n",
      "Average processing time: 0.0075471270030049165\n",
      "Evaluating parameters: {'lr_mu': 1, 'lr_sigma': 0.01, 'penalty_r': 0.01, 'penalty_s': 0.001}\n",
      "Accuracy: 0.998770, Precision: 0.998780, Recall: 0.998760, F1: 0.998770\n",
      "Average processing time: 0.007136718330997883\n",
      "Evaluating parameters: {'lr_mu': 1, 'lr_sigma': 0.01, 'penalty_r': 0.01, 'penalty_s': 0.01}\n",
      "Accuracy: 0.998910, Precision: 0.999120, Recall: 0.998700, F1: 0.998910\n",
      "Average processing time: 0.0070604685289998815\n",
      "Evaluating parameters: {'lr_mu': 1, 'lr_sigma': 0.01, 'penalty_r': 0.01, 'penalty_s': 0.1}\n",
      "Accuracy: 0.998640, Precision: 0.998760, Recall: 0.998520, F1: 0.998640\n",
      "Average processing time: 0.007001543623001198\n",
      "Evaluating parameters: {'lr_mu': 1, 'lr_sigma': 0.01, 'penalty_r': 0.1, 'penalty_s': 1e-05}\n",
      "Accuracy: 0.998700, Precision: 0.998740, Recall: 0.998660, F1: 0.998700\n",
      "Average processing time: 0.006970043640998156\n",
      "Evaluating parameters: {'lr_mu': 1, 'lr_sigma': 0.01, 'penalty_r': 0.1, 'penalty_s': 0.0001}\n",
      "Accuracy: 0.998850, Precision: 0.998900, Recall: 0.998800, F1: 0.998850\n",
      "Average processing time: 0.007024995403006287\n",
      "Evaluating parameters: {'lr_mu': 1, 'lr_sigma': 0.01, 'penalty_r': 0.1, 'penalty_s': 0.001}\n",
      "Accuracy: 0.998580, Precision: 0.998520, Recall: 0.998640, F1: 0.998580\n",
      "Average processing time: 0.007030871803997252\n",
      "Evaluating parameters: {'lr_mu': 1, 'lr_sigma': 0.01, 'penalty_r': 0.1, 'penalty_s': 0.01}\n",
      "Accuracy: 0.998740, Precision: 0.998940, Recall: 0.998540, F1: 0.998740\n",
      "Average processing time: 0.007023657253003184\n",
      "Evaluating parameters: {'lr_mu': 1, 'lr_sigma': 0.01, 'penalty_r': 0.1, 'penalty_s': 0.1}\n",
      "Accuracy: 0.998860, Precision: 0.999080, Recall: 0.998640, F1: 0.998860\n",
      "Average processing time: 0.007015628562008751\n",
      "Evaluating parameters: {'lr_mu': 1, 'lr_sigma': 0.01, 'penalty_r': 1, 'penalty_s': 1e-05}\n",
      "Accuracy: 0.998860, Precision: 0.998900, Recall: 0.998820, F1: 0.998860\n",
      "Average processing time: 0.00700973043801132\n",
      "Evaluating parameters: {'lr_mu': 1, 'lr_sigma': 0.01, 'penalty_r': 1, 'penalty_s': 0.0001}\n",
      "Accuracy: 0.998720, Precision: 0.999059, Recall: 0.998380, F1: 0.998720\n",
      "Average processing time: 0.0070018127589889624\n",
      "Evaluating parameters: {'lr_mu': 1, 'lr_sigma': 0.01, 'penalty_r': 1, 'penalty_s': 0.001}\n",
      "Accuracy: 0.998690, Precision: 0.998720, Recall: 0.998660, F1: 0.998690\n",
      "Average processing time: 0.00705371987100556\n",
      "Evaluating parameters: {'lr_mu': 1, 'lr_sigma': 0.01, 'penalty_r': 1, 'penalty_s': 0.01}\n",
      "Accuracy: 0.998790, Precision: 0.999079, Recall: 0.998500, F1: 0.998790\n",
      "Average processing time: 0.007019349670001393\n",
      "Evaluating parameters: {'lr_mu': 1, 'lr_sigma': 0.01, 'penalty_r': 1, 'penalty_s': 0.1}\n",
      "Accuracy: 0.998740, Precision: 0.998820, Recall: 0.998660, F1: 0.998740\n",
      "Average processing time: 0.007074165497002287\n",
      "Evaluating parameters: {'lr_mu': 1, 'lr_sigma': 0.025, 'penalty_r': 0.01, 'penalty_s': 1e-05}\n",
      "Accuracy: 0.998580, Precision: 0.998740, Recall: 0.998420, F1: 0.998580\n",
      "Average processing time: 0.007033408539990742\n",
      "Evaluating parameters: {'lr_mu': 1, 'lr_sigma': 0.025, 'penalty_r': 0.01, 'penalty_s': 0.0001}\n",
      "Accuracy: 0.998900, Precision: 0.999000, Recall: 0.998800, F1: 0.998900\n",
      "Average processing time: 0.006989416288999637\n",
      "Evaluating parameters: {'lr_mu': 1, 'lr_sigma': 0.025, 'penalty_r': 0.01, 'penalty_s': 0.001}\n",
      "Accuracy: 0.998750, Precision: 0.998840, Recall: 0.998660, F1: 0.998750\n",
      "Average processing time: 0.007005458273995682\n",
      "Evaluating parameters: {'lr_mu': 1, 'lr_sigma': 0.025, 'penalty_r': 0.01, 'penalty_s': 0.01}\n",
      "Accuracy: 0.998800, Precision: 0.998880, Recall: 0.998720, F1: 0.998800\n",
      "Average processing time: 0.00705072428199539\n",
      "Evaluating parameters: {'lr_mu': 1, 'lr_sigma': 0.025, 'penalty_r': 0.01, 'penalty_s': 0.1}\n",
      "Accuracy: 0.998910, Precision: 0.999120, Recall: 0.998700, F1: 0.998910\n",
      "Average processing time: 0.007001976860001087\n",
      "Evaluating parameters: {'lr_mu': 1, 'lr_sigma': 0.025, 'penalty_r': 0.1, 'penalty_s': 1e-05}\n",
      "Accuracy: 0.998730, Precision: 0.998820, Recall: 0.998640, F1: 0.998730\n",
      "Average processing time: 0.0070145585009956995\n",
      "Evaluating parameters: {'lr_mu': 1, 'lr_sigma': 0.025, 'penalty_r': 0.1, 'penalty_s': 0.0001}\n",
      "Accuracy: 0.998540, Precision: 0.998700, Recall: 0.998380, F1: 0.998540\n",
      "Average processing time: 0.007008238082006064\n",
      "Evaluating parameters: {'lr_mu': 1, 'lr_sigma': 0.025, 'penalty_r': 0.1, 'penalty_s': 0.001}\n",
      "Accuracy: 0.998920, Precision: 0.999200, Recall: 0.998640, F1: 0.998920\n",
      "Average processing time: 0.007023320389993423\n",
      "Evaluating parameters: {'lr_mu': 1, 'lr_sigma': 0.025, 'penalty_r': 0.1, 'penalty_s': 0.01}\n"
     ]
    }
   ],
   "source": [
    "best_params = None\n",
    "best_score = 0\n",
    "best_metrics = []\n",
    "\n",
    "results = []\n",
    "\n",
    "for params in fires_grid:\n",
    "    print(f\"Evaluating parameters: {params}\")\n",
    "    data_loader.restart()\n",
    "\n",
    "    # tracemalloc.start()\n",
    "\n",
    "    accuracy, precision, recall, f1, avg_processing_time = run_prequential(\n",
    "        classifier=AdaptiveRandomForestClassifier(),\n",
    "        stream=data_loader,\n",
    "        feature_selector = FIRES(\n",
    "                **params,\n",
    "                n_total_features=data_loader.n_features,\n",
    "                n_selected_features=10,\n",
    "                classes=data_loader.target_values,\n",
    "                baseline='gaussian',\n",
    "                ref_sample=ref_sample\n",
    "        ),\n",
    "        preq_samples=50000\n",
    "    )\n",
    "\n",
    "    # current_mem, peak_mem = tracemalloc.get_traced_memory()\n",
    "    # tracemalloc.stop()\n",
    "\n",
    "    print(f\"Accuracy: {accuracy:.6f}, Precision: {precision:.6f}, Recall: {recall:.6f}, F1: {f1:.6f}\")\n",
    "    print(f\"Average processing time: {avg_processing_time}\")\n",
    "    # print(f\"Current memory usage (KB): {current_mem / 1024}\")\n",
    "    # print(f\"Peak memory usage (KB): {peak_mem / 1024}\")\n",
    "\n",
    "    avg_score = (accuracy + precision + recall + f1) / 4\n",
    "\n",
    "    if avg_score > best_score:\n",
    "        best_params = params\n",
    "        best_score = avg_score\n",
    "        best_metrics = [accuracy, precision, recall, f1]\n",
    "    \n",
    "    results.append({\n",
    "        **params,\n",
    "        'accuracy': accuracy,\n",
    "        'precision': precision,\n",
    "        'recall': recall,\n",
    "        'f1': f1,\n",
    "        'avg_score': avg_score,\n",
    "        'avg_processing_time': avg_processing_time\n",
    "    })\n",
    "\n",
    "print(\"Grid Search Completed.\")\n",
    "print(f\"Best Parameters: {best_params}\")\n",
    "print(f\"Best Metrics: {best_metrics}\")"
   ]
  },
  {
   "cell_type": "code",
   "execution_count": null,
   "metadata": {},
   "outputs": [],
   "source": [
    "results_df = pd.DataFrame(results)\n",
    "results_df.to_csv(\"fires-tuning.csv\", index=False)"
   ]
  }
 ],
 "metadata": {
  "kernelspec": {
   "display_name": "Python 3",
   "language": "python",
   "name": "python3"
  },
  "language_info": {
   "codemirror_mode": {
    "name": "ipython",
    "version": 3
   },
   "file_extension": ".py",
   "mimetype": "text/x-python",
   "name": "python",
   "nbconvert_exporter": "python",
   "pygments_lexer": "ipython3",
   "version": "3.9.1"
  }
 },
 "nbformat": 4,
 "nbformat_minor": 2
}
