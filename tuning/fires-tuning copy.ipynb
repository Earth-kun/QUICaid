{
 "cells": [
  {
   "cell_type": "code",
   "execution_count": 1,
   "metadata": {},
   "outputs": [],
   "source": [
    "from skmultiflow.meta import AdaptiveRandomForestClassifier\n",
    "from skmultiflow.drift_detection.adwin import ADWIN\n",
    "\n",
    "from float.feature_selection import FIRES           # online feature methods\n",
    "from skmultiflow.data import FileStream             # create stream from file\n",
    "from sklearn.model_selection import ParameterGrid   # hyperparameter combinations\n",
    "\n",
    "from prequential import run_prequential\n",
    "\n",
    "import pandas as pd"
   ]
  },
  {
   "cell_type": "code",
   "execution_count": 2,
   "metadata": {},
   "outputs": [],
   "source": [
    "data_loader = FileStream(filepath='../merged.csv')"
   ]
  },
  {
   "cell_type": "code",
   "execution_count": 3,
   "metadata": {},
   "outputs": [],
   "source": [
    "ref_sample, _ = data_loader.next_sample(50)\n",
    "data_loader.reset()"
   ]
  },
  {
   "cell_type": "code",
   "execution_count": 4,
   "metadata": {},
   "outputs": [],
   "source": [
    "parameters = {\n",
    "    'penalty_s': [0.00001, 0.0001, 0.001, 0.01, 0.1],    # default=0.01\n",
    "    'penalty_r': [0.01, 0.1, 1],                # default=0.01\n",
    "    'lr_mu': [1],         # default=0.01\n",
    "    'lr_sigma': [0.1],      # default=0.01    \n",
    "}\n",
    "\n",
    "fires_grid = ParameterGrid(parameters)"
   ]
  },
  {
   "cell_type": "code",
   "execution_count": 5,
   "metadata": {},
   "outputs": [
    {
     "data": {
      "text/plain": [
       "(1.0, 0.0, 0.0, 0.0, 0.018567830000000108)"
      ]
     },
     "execution_count": 5,
     "metadata": {},
     "output_type": "execute_result"
    }
   ],
   "source": [
    "# warm up run before memory measurement\n",
    "\n",
    "run_prequential(\n",
    "    classifier=AdaptiveRandomForestClassifier(),\n",
    "    stream=data_loader,\n",
    "    feature_selector = FIRES(\n",
    "        n_total_features=data_loader.n_features,\n",
    "        n_selected_features=10,\n",
    "        classes=data_loader.target_values,\n",
    "        baseline='gaussian',\n",
    "        ref_sample=ref_sample\n",
    "    ),\n",
    "    preq_samples=10\n",
    ")"
   ]
  },
  {
   "cell_type": "code",
   "execution_count": 6,
   "metadata": {},
   "outputs": [
    {
     "name": "stdout",
     "output_type": "stream",
     "text": [
      "Evaluating parameters: {'lr_mu': 1, 'lr_sigma': 0.1, 'penalty_r': 0.01, 'penalty_s': 1e-05}\n",
      "Accuracy: 0.998880, Precision: 0.998800, Recall: 0.998400, F1: 0.998600\n",
      "Average processing time: 0.011142600046000038\n",
      "Evaluating parameters: {'lr_mu': 1, 'lr_sigma': 0.1, 'penalty_r': 0.01, 'penalty_s': 0.0001}\n",
      "Accuracy: 0.998860, Precision: 0.998899, Recall: 0.998250, F1: 0.998575\n",
      "Average processing time: 0.010351302420000243\n",
      "Evaluating parameters: {'lr_mu': 1, 'lr_sigma': 0.1, 'penalty_r': 0.01, 'penalty_s': 0.001}\n",
      "Accuracy: 0.999080, Precision: 0.999050, Recall: 0.998650, F1: 0.998850\n",
      "Average processing time: 0.010684543733999248\n",
      "Evaluating parameters: {'lr_mu': 1, 'lr_sigma': 0.1, 'penalty_r': 0.01, 'penalty_s': 0.01}\n",
      "Accuracy: 0.998940, Precision: 0.998999, Recall: 0.998350, F1: 0.998675\n",
      "Average processing time: 0.010797003008000287\n",
      "Evaluating parameters: {'lr_mu': 1, 'lr_sigma': 0.1, 'penalty_r': 0.01, 'penalty_s': 0.1}\n",
      "Accuracy: 0.998800, Precision: 0.998749, Recall: 0.998250, F1: 0.998500\n",
      "Average processing time: 0.012564503367999833\n",
      "Evaluating parameters: {'lr_mu': 1, 'lr_sigma': 0.1, 'penalty_r': 0.1, 'penalty_s': 1e-05}\n",
      "Accuracy: 0.998920, Precision: 0.998750, Recall: 0.998550, F1: 0.998650\n",
      "Average processing time: 0.013487775524001572\n",
      "Evaluating parameters: {'lr_mu': 1, 'lr_sigma': 0.1, 'penalty_r': 0.1, 'penalty_s': 0.0001}\n",
      "Accuracy: 0.999240, Precision: 0.999250, Recall: 0.998850, F1: 0.999050\n",
      "Average processing time: 0.015172349162001091\n",
      "Evaluating parameters: {'lr_mu': 1, 'lr_sigma': 0.1, 'penalty_r': 0.1, 'penalty_s': 0.001}\n",
      "Accuracy: 0.999060, Precision: 0.999100, Recall: 0.998550, F1: 0.998825\n",
      "Average processing time: 0.013677587571998719\n",
      "Evaluating parameters: {'lr_mu': 1, 'lr_sigma': 0.1, 'penalty_r': 0.1, 'penalty_s': 0.01}\n",
      "Accuracy: 0.999120, Precision: 0.998950, Recall: 0.998850, F1: 0.998900\n",
      "Average processing time: 0.010701189136001122\n",
      "Evaluating parameters: {'lr_mu': 1, 'lr_sigma': 0.1, 'penalty_r': 0.1, 'penalty_s': 0.1}\n",
      "Accuracy: 0.998980, Precision: 0.999099, Recall: 0.998350, F1: 0.998725\n",
      "Average processing time: 0.010604029209999043\n",
      "Evaluating parameters: {'lr_mu': 1, 'lr_sigma': 0.1, 'penalty_r': 1, 'penalty_s': 1e-05}\n",
      "Accuracy: 0.998740, Precision: 0.998600, Recall: 0.998250, F1: 0.998425\n",
      "Average processing time: 0.01095640884400098\n",
      "Evaluating parameters: {'lr_mu': 1, 'lr_sigma': 0.1, 'penalty_r': 1, 'penalty_s': 0.0001}\n",
      "Accuracy: 0.998900, Precision: 0.998700, Recall: 0.998550, F1: 0.998625\n",
      "Average processing time: 0.010951037644000499\n",
      "Evaluating parameters: {'lr_mu': 1, 'lr_sigma': 0.1, 'penalty_r': 1, 'penalty_s': 0.001}\n",
      "Accuracy: 0.998880, Precision: 0.998800, Recall: 0.998400, F1: 0.998600\n",
      "Average processing time: 0.01066723041600284\n",
      "Evaluating parameters: {'lr_mu': 1, 'lr_sigma': 0.1, 'penalty_r': 1, 'penalty_s': 0.01}\n",
      "Accuracy: 0.999040, Precision: 0.999050, Recall: 0.998550, F1: 0.998800\n",
      "Average processing time: 0.010689687081999091\n",
      "Evaluating parameters: {'lr_mu': 1, 'lr_sigma': 0.1, 'penalty_r': 1, 'penalty_s': 0.1}\n",
      "Accuracy: 0.999040, Precision: 0.998950, Recall: 0.998650, F1: 0.998800\n",
      "Average processing time: 0.01094040845599926\n",
      "Grid Search Completed.\n",
      "Best Parameters: {'lr_mu': 1, 'lr_sigma': 0.1, 'penalty_r': 0.1, 'penalty_s': 0.0001}\n",
      "Best Metrics: [0.99924, 0.9992496998799519, 0.99885, 0.9990498099619923]\n"
     ]
    }
   ],
   "source": [
    "best_params = None\n",
    "best_score = 0\n",
    "best_metrics = []\n",
    "\n",
    "results = []\n",
    "\n",
    "for params in fires_grid:\n",
    "    print(f\"Evaluating parameters: {params}\")\n",
    "    data_loader.restart()\n",
    "\n",
    "    # tracemalloc.start()\n",
    "\n",
    "    accuracy, precision, recall, f1, avg_processing_time = run_prequential(\n",
    "        classifier=AdaptiveRandomForestClassifier(),\n",
    "        stream=data_loader,\n",
    "        feature_selector = FIRES(\n",
    "                **params,\n",
    "                n_total_features=data_loader.n_features,\n",
    "                n_selected_features=10,\n",
    "                classes=data_loader.target_values,\n",
    "                baseline='gaussian',\n",
    "                ref_sample=ref_sample\n",
    "        ),\n",
    "        preq_samples=50000\n",
    "    )\n",
    "\n",
    "    # current_mem, peak_mem = tracemalloc.get_traced_memory()\n",
    "    # tracemalloc.stop()\n",
    "\n",
    "    print(f\"Accuracy: {accuracy:.6f}, Precision: {precision:.6f}, Recall: {recall:.6f}, F1: {f1:.6f}\")\n",
    "    print(f\"Average processing time: {avg_processing_time}\")\n",
    "    # print(f\"Current memory usage (KB): {current_mem / 1024}\")\n",
    "    # print(f\"Peak memory usage (KB): {peak_mem / 1024}\")\n",
    "\n",
    "    avg_score = (accuracy + precision + recall + f1) / 4\n",
    "\n",
    "    if avg_score > best_score:\n",
    "        best_params = params\n",
    "        best_score = avg_score\n",
    "        best_metrics = [accuracy, precision, recall, f1]\n",
    "    \n",
    "    results.append({\n",
    "        **params,\n",
    "        'accuracy': accuracy,\n",
    "        'precision': precision,\n",
    "        'recall': recall,\n",
    "        'f1': f1,\n",
    "        'avg_score': avg_score,\n",
    "        'avg_processing_time': avg_processing_time\n",
    "    })\n",
    "\n",
    "print(\"Grid Search Completed.\")\n",
    "print(f\"Best Parameters: {best_params}\")\n",
    "print(f\"Best Metrics: {best_metrics}\")"
   ]
  },
  {
   "cell_type": "code",
   "execution_count": 7,
   "metadata": {},
   "outputs": [],
   "source": [
    "results_df = pd.DataFrame(results)\n",
    "results_df.to_csv(\"fires-tuning.csv\", index=False)"
   ]
  }
 ],
 "metadata": {
  "kernelspec": {
   "display_name": "Python 3",
   "language": "python",
   "name": "python3"
  },
  "language_info": {
   "codemirror_mode": {
    "name": "ipython",
    "version": 3
   },
   "file_extension": ".py",
   "mimetype": "text/x-python",
   "name": "python",
   "nbconvert_exporter": "python",
   "pygments_lexer": "ipython3",
   "version": "3.9.6"
  }
 },
 "nbformat": 4,
 "nbformat_minor": 2
}
