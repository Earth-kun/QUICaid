{
 "cells": [
  {
   "cell_type": "code",
   "execution_count": 4,
   "metadata": {},
   "outputs": [],
   "source": [
    "from skmultiflow.meta import AdaptiveRandomForestClassifier\n",
    "from skmultiflow.drift_detection.adwin import ADWIN\n",
    "\n",
    "from float.feature_selection import OFS           # online feature methods\n",
    "from skmultiflow.data import FileStream             # create stream from file\n",
    "from sklearn.metrics import accuracy_score, precision_score, recall_score, f1_score\n",
    "from sklearn.model_selection import ParameterGrid   # hyperparameter combinations\n",
    "\n",
    "from prequential import run_prequential"
   ]
  },
  {
   "cell_type": "code",
   "execution_count": 6,
   "metadata": {},
   "outputs": [],
   "source": [
    "data_loader = FileStream(filepath='../out.csv')"
   ]
  },
  {
   "cell_type": "code",
   "execution_count": 7,
   "metadata": {},
   "outputs": [],
   "source": [
    "# base arf classifier\n",
    "arf = AdaptiveRandomForestClassifier()"
   ]
  },
  {
   "cell_type": "code",
   "execution_count": 16,
   "metadata": {},
   "outputs": [
    {
     "name": "stdout",
     "output_type": "stream",
     "text": [
      "[[5.4865e+04 3.0000e+00 2.0000e+00 ... 0.0000e+00 0.0000e+00 0.0000e+00]\n",
      " [5.5054e+04 1.0900e+02 1.0000e+00 ... 0.0000e+00 0.0000e+00 0.0000e+00]\n",
      " [5.5055e+04 5.2000e+01 1.0000e+00 ... 0.0000e+00 0.0000e+00 0.0000e+00]\n",
      " ...\n",
      " [8.6900e+03 1.7000e+01 1.0000e+00 ... 0.0000e+00 0.0000e+00 0.0000e+00]\n",
      " [8.6940e+03 1.2300e+02 1.0000e+00 ... 0.0000e+00 0.0000e+00 0.0000e+00]\n",
      " [5.7683e+04 4.0000e+00 2.0000e+00 ... 0.0000e+00 0.0000e+00 0.0000e+00]]\n"
     ]
    }
   ],
   "source": [
    "ref_sample, _ = data_loader.next_sample(50)\n",
    "data_loader.reset()\n",
    "\n",
    "ofs_fs = OFS(n_total_features=data_loader.n_features,\n",
    "                n_selected_features=7,\n",
    "                ref_sample=ref_sample,\n",
    "                baseline='gaussian')\n",
    "\n",
    "print(ref_sample)"
   ]
  },
  {
   "cell_type": "code",
   "execution_count": 12,
   "metadata": {},
   "outputs": [],
   "source": [
    "parameters = {\n",
    "    'n_selected_features': [5, 10, 15, 20, 25, 30, 40, 50, 60, 70], \n",
    "}\n",
    "\n",
    "fires_grid = ParameterGrid(parameters)"
   ]
  },
  {
   "cell_type": "code",
   "execution_count": 18,
   "metadata": {},
   "outputs": [
    {
     "name": "stdout",
     "output_type": "stream",
     "text": [
      "Evaluating parameters: {'n_selected_features': 5}\n"
     ]
    },
    {
     "name": "stderr",
     "output_type": "stream",
     "text": [
      "c:\\Users\\Jamielane Figueroa\\AppData\\Local\\Programs\\Python\\Python39\\lib\\site-packages\\float\\feature_selection\\base_feature_selector.py:107: UserWarning: The weight vector contains negative values. The absolute weights will be used for feature selection.\n",
      "  warnings.warn(\"The weight vector contains negative values. The absolute weights will be used for \"\n"
     ]
    },
    {
     "name": "stdout",
     "output_type": "stream",
     "text": [
      "Accuracy: 0.9982, Precision: 0.9980, Recall: 0.9982, F1: 0.9981\n",
      "Evaluating parameters: {'n_selected_features': 10}\n"
     ]
    },
    {
     "name": "stderr",
     "output_type": "stream",
     "text": [
      "c:\\Users\\Jamielane Figueroa\\AppData\\Local\\Programs\\Python\\Python39\\lib\\site-packages\\float\\feature_selection\\base_feature_selector.py:107: UserWarning: The weight vector contains negative values. The absolute weights will be used for feature selection.\n",
      "  warnings.warn(\"The weight vector contains negative values. The absolute weights will be used for \"\n"
     ]
    },
    {
     "name": "stdout",
     "output_type": "stream",
     "text": [
      "Accuracy: 0.9985, Precision: 0.9982, Recall: 0.9988, F1: 0.9985\n",
      "Evaluating parameters: {'n_selected_features': 15}\n"
     ]
    },
    {
     "name": "stderr",
     "output_type": "stream",
     "text": [
      "c:\\Users\\Jamielane Figueroa\\AppData\\Local\\Programs\\Python\\Python39\\lib\\site-packages\\float\\feature_selection\\base_feature_selector.py:107: UserWarning: The weight vector contains negative values. The absolute weights will be used for feature selection.\n",
      "  warnings.warn(\"The weight vector contains negative values. The absolute weights will be used for \"\n"
     ]
    },
    {
     "name": "stdout",
     "output_type": "stream",
     "text": [
      "Accuracy: 0.9983, Precision: 0.9985, Recall: 0.9980, F1: 0.9983\n",
      "Evaluating parameters: {'n_selected_features': 20}\n"
     ]
    },
    {
     "name": "stderr",
     "output_type": "stream",
     "text": [
      "c:\\Users\\Jamielane Figueroa\\AppData\\Local\\Programs\\Python\\Python39\\lib\\site-packages\\float\\feature_selection\\base_feature_selector.py:107: UserWarning: The weight vector contains negative values. The absolute weights will be used for feature selection.\n",
      "  warnings.warn(\"The weight vector contains negative values. The absolute weights will be used for \"\n"
     ]
    },
    {
     "name": "stdout",
     "output_type": "stream",
     "text": [
      "Accuracy: 0.9988, Precision: 0.9990, Recall: 0.9986, F1: 0.9988\n",
      "Evaluating parameters: {'n_selected_features': 25}\n"
     ]
    },
    {
     "name": "stderr",
     "output_type": "stream",
     "text": [
      "c:\\Users\\Jamielane Figueroa\\AppData\\Local\\Programs\\Python\\Python39\\lib\\site-packages\\float\\feature_selection\\base_feature_selector.py:107: UserWarning: The weight vector contains negative values. The absolute weights will be used for feature selection.\n",
      "  warnings.warn(\"The weight vector contains negative values. The absolute weights will be used for \"\n"
     ]
    },
    {
     "name": "stdout",
     "output_type": "stream",
     "text": [
      "Accuracy: 0.9989, Precision: 0.9992, Recall: 0.9986, F1: 0.9989\n",
      "Evaluating parameters: {'n_selected_features': 30}\n"
     ]
    },
    {
     "name": "stderr",
     "output_type": "stream",
     "text": [
      "c:\\Users\\Jamielane Figueroa\\AppData\\Local\\Programs\\Python\\Python39\\lib\\site-packages\\float\\feature_selection\\base_feature_selector.py:107: UserWarning: The weight vector contains negative values. The absolute weights will be used for feature selection.\n",
      "  warnings.warn(\"The weight vector contains negative values. The absolute weights will be used for \"\n"
     ]
    },
    {
     "name": "stdout",
     "output_type": "stream",
     "text": [
      "Accuracy: 0.9990, Precision: 0.9999, Recall: 0.9979, F1: 0.9989\n",
      "Evaluating parameters: {'n_selected_features': 40}\n"
     ]
    },
    {
     "name": "stderr",
     "output_type": "stream",
     "text": [
      "c:\\Users\\Jamielane Figueroa\\AppData\\Local\\Programs\\Python\\Python39\\lib\\site-packages\\float\\feature_selection\\base_feature_selector.py:107: UserWarning: The weight vector contains negative values. The absolute weights will be used for feature selection.\n",
      "  warnings.warn(\"The weight vector contains negative values. The absolute weights will be used for \"\n",
      "c:\\Users\\Jamielane Figueroa\\AppData\\Local\\Programs\\Python\\Python39\\lib\\site-packages\\skmultiflow\\drift_detection\\adwin.py:350: RuntimeWarning: overflow encountered in long_scalars\n",
      "  self.mdbl_width += self.width\n"
     ]
    },
    {
     "name": "stdout",
     "output_type": "stream",
     "text": [
      "Accuracy: 0.9993, Precision: 0.9999, Recall: 0.9987, F1: 0.9993\n",
      "Evaluating parameters: {'n_selected_features': 50}\n"
     ]
    },
    {
     "name": "stderr",
     "output_type": "stream",
     "text": [
      "c:\\Users\\Jamielane Figueroa\\AppData\\Local\\Programs\\Python\\Python39\\lib\\site-packages\\float\\feature_selection\\base_feature_selector.py:107: UserWarning: The weight vector contains negative values. The absolute weights will be used for feature selection.\n",
      "  warnings.warn(\"The weight vector contains negative values. The absolute weights will be used for \"\n",
      "c:\\Users\\Jamielane Figueroa\\AppData\\Local\\Programs\\Python\\Python39\\lib\\site-packages\\skmultiflow\\drift_detection\\adwin.py:228: RuntimeWarning: overflow encountered in long_scalars\n",
      "  incremental_variance = node.get_variance(0) + n1 * self._width * (u1 - self._total / self._width) * \\\n"
     ]
    },
    {
     "name": "stdout",
     "output_type": "stream",
     "text": [
      "Accuracy: 0.9994, Precision: 0.9999, Recall: 0.9987, F1: 0.9993\n",
      "Evaluating parameters: {'n_selected_features': 60}\n"
     ]
    },
    {
     "name": "stderr",
     "output_type": "stream",
     "text": [
      "c:\\Users\\Jamielane Figueroa\\AppData\\Local\\Programs\\Python\\Python39\\lib\\site-packages\\float\\feature_selection\\base_feature_selector.py:107: UserWarning: The weight vector contains negative values. The absolute weights will be used for feature selection.\n",
      "  warnings.warn(\"The weight vector contains negative values. The absolute weights will be used for \"\n"
     ]
    },
    {
     "name": "stdout",
     "output_type": "stream",
     "text": [
      "Accuracy: 0.9997, Precision: 1.0000, Recall: 0.9994, F1: 0.9997\n",
      "Evaluating parameters: {'n_selected_features': 70}\n"
     ]
    },
    {
     "name": "stderr",
     "output_type": "stream",
     "text": [
      "c:\\Users\\Jamielane Figueroa\\AppData\\Local\\Programs\\Python\\Python39\\lib\\site-packages\\float\\feature_selection\\base_feature_selector.py:107: UserWarning: The weight vector contains negative values. The absolute weights will be used for feature selection.\n",
      "  warnings.warn(\"The weight vector contains negative values. The absolute weights will be used for \"\n",
      "c:\\Users\\Jamielane Figueroa\\AppData\\Local\\Programs\\Python\\Python39\\lib\\site-packages\\skmultiflow\\drift_detection\\adwin.py:228: RuntimeWarning: overflow encountered in long_scalars\n",
      "  incremental_variance = node.get_variance(0) + n1 * self._width * (u1 - self._total / self._width) * \\\n"
     ]
    },
    {
     "name": "stdout",
     "output_type": "stream",
     "text": [
      "Accuracy: 0.9998, Precision: 1.0000, Recall: 0.9995, F1: 0.9998\n",
      "Grid Search Completed.\n",
      "Best Parameters: {'n_selected_features': 70}\n",
      "Best Metrics: [0.99978, 1.0, 0.9995390739576786, 0.9997694838533917]\n"
     ]
    }
   ],
   "source": [
    "best_params = None\n",
    "best_score = 0\n",
    "best_metrics = []\n",
    "\n",
    "for params in fires_grid:\n",
    "    print(f\"Evaluating parameters: {params}\")\n",
    "    data_loader.restart()\n",
    "\n",
    "    accuracy, precision, recall, f1 = run_prequential(\n",
    "        classifier=arf,\n",
    "        stream=data_loader,\n",
    "        feature_selector = OFS(\n",
    "                **params,\n",
    "                n_total_features=data_loader.n_features,\n",
    "                ref_sample=ref_sample,\n",
    "                baseline='gaussian'\n",
    "        ),\n",
    "        n_pretrain=200\n",
    "    )\n",
    "\n",
    "    print(f\"Accuracy: {accuracy:.4f}, Precision: {precision:.4f}, Recall: {recall:.4f}, F1: {f1:.4f}\")\n",
    "\n",
    "    if (accuracy + precision + recall + f1) / 4 > best_score:\n",
    "        best_params = params\n",
    "        best_score = (accuracy + precision + recall + f1) / 4\n",
    "        best_metrics = [accuracy, precision, recall, f1]\n",
    "        \n",
    "\n",
    "print(\"Grid Search Completed.\")\n",
    "print(f\"Best Parameters: {best_params}\")\n",
    "print(f\"Best Metrics: {best_metrics}\")"
   ]
  },
  {
   "cell_type": "code",
   "execution_count": 19,
   "metadata": {},
   "outputs": [
    {
     "name": "stdout",
     "output_type": "stream",
     "text": [
      "{'n_selected_features': 70}\n",
      "[0.99978, 1.0, 0.9995390739576786, 0.9997694838533917]\n",
      "10\n"
     ]
    }
   ],
   "source": [
    "print(best_params)\n",
    "print(best_metrics)\n",
    "print(len(fires_grid))"
   ]
  }
 ],
 "metadata": {
  "kernelspec": {
   "display_name": "Python 3",
   "language": "python",
   "name": "python3"
  },
  "language_info": {
   "codemirror_mode": {
    "name": "ipython",
    "version": 3
   },
   "file_extension": ".py",
   "mimetype": "text/x-python",
   "name": "python",
   "nbconvert_exporter": "python",
   "pygments_lexer": "ipython3",
   "version": "3.9.6"
  }
 },
 "nbformat": 4,
 "nbformat_minor": 2
}
