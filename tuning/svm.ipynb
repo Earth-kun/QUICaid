{
 "cells": [
  {
   "cell_type": "code",
   "execution_count": 1,
   "metadata": {},
   "outputs": [],
   "source": [
    "from river import anomaly, preprocessing\n",
    "from river.anomaly import OneClassSVM\n",
    "from river import feature_extraction as fx\n",
    "from skmultiflow.drift_detection.adwin import ADWIN\n",
    "\n",
    "# from float.feature_selection import FIRES           # online feature methods\n",
    "from skmultiflow.data import FileStream             # create stream from file\n",
    "# from sklearn.model_selection import ParameterGrid   # hyperparameter combinations\n",
    "\n",
    "from prequential import run_prequential"
   ]
  },
  {
   "cell_type": "code",
   "execution_count": 2,
   "metadata": {},
   "outputs": [],
   "source": [
    "data_loader = FileStream(filepath='../out.csv')"
   ]
  },
  {
   "cell_type": "code",
   "execution_count": 3,
   "metadata": {},
   "outputs": [],
   "source": [
    "# base svm classifier\n",
    "svm_model = (\n",
    "    fx.RBFSampler(gamma = 0.9, seed=3) |\n",
    "    OneClassSVM(nu=0.2)\n",
    ")\n",
    "\n",
    "svm_classifier = anomaly.QuantileFilter(\n",
    "    svm_model,\n",
    "    q=0.95\n",
    ")"
   ]
  },
  {
   "cell_type": "code",
   "execution_count": 4,
   "metadata": {},
   "outputs": [],
   "source": [
    "ref_sample, _ = data_loader.next_sample(50)\n",
    "data_loader.reset()"
   ]
  },
  {
   "cell_type": "code",
   "execution_count": 5,
   "metadata": {},
   "outputs": [
    {
     "name": "stdout",
     "output_type": "stream",
     "text": [
      "thousang samples\n",
      "thousang samples\n",
      "thousang samples\n",
      "thousang samples\n",
      "thousang samples\n",
      "thousang samples\n",
      "thousang samples\n",
      "thousang samples\n",
      "thousang samples\n",
      "thousang samples\n",
      "thousang samples\n",
      "thousang samples\n",
      "thousang samples\n",
      "thousang samples\n",
      "thousang samples\n",
      "thousang samples\n",
      "thousang samples\n",
      "thousang samples\n",
      "thousang samples\n",
      "thousang samples\n",
      "thousang samples\n",
      "thousang samples\n",
      "thousang samples\n",
      "thousang samples\n",
      "thousang samples\n",
      "thousang samples\n",
      "thousang samples\n",
      "thousang samples\n",
      "thousang samples\n",
      "thousang samples\n",
      "thousang samples\n",
      "thousang samples\n",
      "thousang samples\n",
      "thousang samples\n",
      "thousang samples\n",
      "thousang samples\n",
      "thousang samples\n",
      "thousang samples\n",
      "thousang samples\n",
      "thousang samples\n",
      "thousang samples\n",
      "thousang samples\n",
      "thousang samples\n",
      "thousang samples\n",
      "thousang samples\n",
      "thousang samples\n",
      "thousang samples\n",
      "thousang samples\n",
      "thousang samples\n",
      "thousang samples\n",
      "Accuracy: 0.583680, Precision: 0.612368, Recall: 0.348125, F1: 0.443898\n",
      "Average processing time: 0.015571976738000507\n"
     ]
    }
   ],
   "source": [
    "accuracy, precision, recall, f1, avg_processing_time = run_prequential(\n",
    "    classifier=svm_classifier,\n",
    "    stream=data_loader,\n",
    "    feature_selector = None\n",
    ")\n",
    "\n",
    "print(f\"Accuracy: {accuracy:.6f}, Precision: {precision:.6f}, Recall: {recall:.6f}, F1: {f1:.6f}\")\n",
    "print(f\"Average processing time: {avg_processing_time}\")"
   ]
  }
 ],
 "metadata": {
  "kernelspec": {
   "display_name": "Python 3",
   "language": "python",
   "name": "python3"
  },
  "language_info": {
   "codemirror_mode": {
    "name": "ipython",
    "version": 3
   },
   "file_extension": ".py",
   "mimetype": "text/x-python",
   "name": "python",
   "nbconvert_exporter": "python",
   "pygments_lexer": "ipython3",
   "version": "3.9.1"
  }
 },
 "nbformat": 4,
 "nbformat_minor": 2
}
