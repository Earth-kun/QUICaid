{
 "cells": [
  {
   "cell_type": "code",
   "execution_count": 1,
   "metadata": {},
   "outputs": [],
   "source": [
    "from river import anomaly\n",
    "from river.anomaly import OneClassSVM\n",
    "from skmultiflow.drift_detection.adwin import ADWIN\n",
    "\n",
    "# from float.feature_selection import FIRES           # online feature methods\n",
    "from skmultiflow.data import FileStream             # create stream from file\n",
    "# from sklearn.model_selection import ParameterGrid   # hyperparameter combinations\n",
    "\n",
    "from prequential import run_prequential"
   ]
  },
  {
   "cell_type": "code",
   "execution_count": 2,
   "metadata": {},
   "outputs": [],
   "source": [
    "data_loader = FileStream(filepath='../out.csv')"
   ]
  },
  {
   "cell_type": "code",
   "execution_count": 3,
   "metadata": {},
   "outputs": [],
   "source": [
    "# base svm classifier\n",
    "svm = OneClassSVM()\n",
    "\n",
    "svm = anomaly.QuantileFilter(\n",
    "    anomaly.OneClassSVM(),\n",
    "    q=0.95\n",
    ")"
   ]
  },
  {
   "cell_type": "code",
   "execution_count": 4,
   "metadata": {},
   "outputs": [],
   "source": [
    "ref_sample, _ = data_loader.next_sample(50)\n",
    "data_loader.reset()"
   ]
  },
  {
   "cell_type": "code",
   "execution_count": 5,
   "metadata": {},
   "outputs": [
    {
     "name": "stdout",
     "output_type": "stream",
     "text": [
      "Accuracy: 0.362240, Precision: 0.690391, Recall: 0.016080, F1: 0.031427\n",
      "Average processing time: 0.0001289032046666661\n"
     ]
    }
   ],
   "source": [
    "accuracy, precision, recall, f1, avg_processing_time = run_prequential(\n",
    "    classifier=svm,\n",
    "    stream=data_loader,\n",
    "    feature_selector = None\n",
    ")\n",
    "\n",
    "print(f\"Accuracy: {accuracy:.6f}, Precision: {precision:.6f}, Recall: {recall:.6f}, F1: {f1:.6f}\")\n",
    "print(f\"Average processing time: {avg_processing_time}\")"
   ]
  }
 ],
 "metadata": {
  "kernelspec": {
   "display_name": "Python 3",
   "language": "python",
   "name": "python3"
  },
  "language_info": {
   "codemirror_mode": {
    "name": "ipython",
    "version": 3
   },
   "file_extension": ".py",
   "mimetype": "text/x-python",
   "name": "python",
   "nbconvert_exporter": "python",
   "pygments_lexer": "ipython3",
   "version": "3.9.1"
  }
 },
 "nbformat": 4,
 "nbformat_minor": 2
}
