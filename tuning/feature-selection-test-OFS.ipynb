{
 "cells": [
  {
   "cell_type": "code",
   "execution_count": 24,
   "metadata": {},
   "outputs": [],
   "source": [
    "# classifiers\n",
    "from skmultiflow.meta import AdaptiveRandomForestClassifier\n",
    "from skmultiflow.lazy import KNNClassifier, KNNADWINClassifier\n",
    "from skmultiflow.drift_detection.adwin import ADWIN\n",
    "\n",
    "from float.feature_selection import OFS, FIRES      # online feature methods\n",
    "from skmultiflow.data import FileStream             # create stream from file\n",
    "from sklearn.metrics import accuracy_score, precision_score, recall_score, f1_score\n",
    "from sklearn.model_selection import ParameterGrid   # hyperparameter combinations\n",
    "import numpy as np\n",
    "import time\n",
    "import copy\n",
    "import matplotlib.pyplot as plt"
   ]
  },
  {
   "cell_type": "code",
   "execution_count": 4,
   "metadata": {},
   "outputs": [],
   "source": [
    "data_loader = FileStream(filepath='out.csv')"
   ]
  },
  {
   "cell_type": "code",
   "execution_count": 5,
   "metadata": {},
   "outputs": [],
   "source": [
    "ref_sample, _ = data_loader.next_sample(50)\n",
    "data_loader.reset()\n",
    "\n",
    "ofs_fs = OFS(n_total_features=data_loader.n_features,\n",
    "            n_selected_features=7,\n",
    "            baseline='gaussian',\n",
    "            ref_sample=ref_sample)"
   ]
  },
  {
   "cell_type": "code",
   "execution_count": 6,
   "metadata": {},
   "outputs": [],
   "source": [
    "stream = data_loader\n",
    "adwin = ADWIN()\n",
    "\n",
    "arf_model = AdaptiveRandomForestClassifier()\n",
    "arf_noadwin_model = AdaptiveRandomForestClassifier(drift_detection_method=None)"
   ]
  },
  {
   "cell_type": "code",
   "execution_count": 25,
   "metadata": {},
   "outputs": [],
   "source": [
    "def run_prequential(setup_name, classifier, stream, drift_detector, feature_selector, n_pretrain=200):\n",
    "    \"\"\"\n",
    "    Parameters\n",
    "    ----------\n",
    "    setup (str): \n",
    "    classifier\n",
    "    etc...\n",
    "    \"\"\"\n",
    "    stream.restart()\n",
    "    n_samples, correct_predictions = 0, 0\n",
    "    # correct_predictions = 0\n",
    "    true_labels, pred_labels = [], []\n",
    "    # pred_labels = []\n",
    "\n",
    "    print(f\"Evaluating {setup_name} configuration.\")\n",
    "\n",
    "    # pretrain samples\n",
    "    for _ in range(n_pretrain):\n",
    "        X, y = stream.next_sample()\n",
    "        classifier.partial_fit(X, [y[0]])\n",
    "    \n",
    "    print(f\"Model pretrained on {n_pretrain} samples.\")\n",
    "\n",
    "    while n_samples < 50000 and stream.has_more_samples():\n",
    "        X, y = stream.next_sample()\n",
    "        n_samples += 1\n",
    "\n",
    "        if feature_selector is not None:\n",
    "            # with dynamic feature selection\n",
    "            feature_selector.weight_features(copy.copy(X), copy.copy(y))\n",
    "            X_select = feature_selector.select_features(copy.copy(X), rng=np.random.default_rng())\n",
    "            y_pred = classifier.predict(X_select)\n",
    "            \n",
    "            # Train incrementally\n",
    "            classifier.partial_fit(copy.copy(X_select), [y[0]])\n",
    "\n",
    "        else:\n",
    "            # no feature selection\n",
    "            y_pred = classifier.predict(X)\n",
    "            \n",
    "            # Train incrementally\n",
    "            classifier.partial_fit(copy.copy(X), [y[0]])\n",
    "        \n",
    "        if y_pred == y:\n",
    "            correct_predictions += 1\n",
    "        \n",
    "        true_labels.append(y[0])\n",
    "        pred_labels.append(y_pred[0])\n",
    "\n",
    "        # check for drift\n",
    "        if drift_detector is not None:\n",
    "            drift_detector.add_element(np.float64(y_pred == y))\n",
    "            if drift_detector.detected_change():\n",
    "                print(f\"drift detected at {n_samples}\")\n",
    "\n",
    "\n",
    "    # Calculate accuracy\n",
    "    accuracy = correct_predictions / n_samples\n",
    "    print(accuracy)"
   ]
  },
  {
   "cell_type": "code",
   "execution_count": 15,
   "metadata": {},
   "outputs": [
    {
     "name": "stdout",
     "output_type": "stream",
     "text": [
      "Evaluating ARF-ADWIN-OFS configuration.\n",
      "Model pretrained on 200 samples.\n",
      "drift detected at 44032\n"
     ]
    },
    {
     "name": "stderr",
     "output_type": "stream",
     "text": [
      "c:\\Users\\Jamielane Figueroa\\AppData\\Local\\Programs\\Python\\Python39\\lib\\site-packages\\skmultiflow\\drift_detection\\adwin.py:350: RuntimeWarning: overflow encountered in long_scalars\n",
      "  self.mdbl_width += self.width\n"
     ]
    },
    {
     "name": "stdout",
     "output_type": "stream",
     "text": [
      "0.9985\n"
     ]
    }
   ],
   "source": [
    "run_prequential(\n",
    "    setup_name='ARF-ADWIN-OFS',\n",
    "    classifier=arf_model, \n",
    "    stream=stream,\n",
    "    drift_detector=adwin, \n",
    "    feature_selector=ofs_fs\n",
    ")"
   ]
  },
  {
   "cell_type": "code",
   "execution_count": 16,
   "metadata": {},
   "outputs": [
    {
     "name": "stdout",
     "output_type": "stream",
     "text": [
      "Evaluating ARF-OFS configuration.\n",
      "Model pretrained on 200 samples.\n",
      "0.99523\n"
     ]
    }
   ],
   "source": [
    "run_prequential(\n",
    "    setup_name='ARF-OFS',\n",
    "    classifier=arf_noadwin_model, \n",
    "    stream=stream,\n",
    "    drift_detector=None, \n",
    "    feature_selector=ofs_fs\n",
    ")"
   ]
  },
  {
   "cell_type": "code",
   "execution_count": 17,
   "metadata": {},
   "outputs": [
    {
     "name": "stdout",
     "output_type": "stream",
     "text": [
      "Evaluating ARF-ADWIN configuration.\n",
      "Model pretrained on 200 samples.\n",
      "drift detected at 13856\n",
      "drift detected at 55648\n",
      "drift detected at 68192\n",
      "0.99958\n"
     ]
    }
   ],
   "source": [
    "run_prequential(\n",
    "    setup_name='ARF-ADWIN',\n",
    "    classifier=arf_model, \n",
    "    stream=stream,\n",
    "    drift_detector=adwin, \n",
    "    feature_selector=None\n",
    ")"
   ]
  },
  {
   "cell_type": "code",
   "execution_count": 17,
   "metadata": {},
   "outputs": [],
   "source": [
    "parameters = {\n",
    "    'n_selected_features': [5, 10, 15, 20, 25, 30, 50, 70]\n",
    "}\n",
    "\n",
    "ofs_grid = ParameterGrid(parameters)"
   ]
  },
  {
   "cell_type": "code",
   "execution_count": 18,
   "metadata": {},
   "outputs": [
    {
     "name": "stdout",
     "output_type": "stream",
     "text": [
      "{'n_selected_features': 5}\n",
      "{'n_selected_features': 10}\n",
      "{'n_selected_features': 15}\n",
      "{'n_selected_features': 20}\n",
      "{'n_selected_features': 25}\n",
      "{'n_selected_features': 30}\n",
      "{'n_selected_features': 50}\n",
      "{'n_selected_features': 70}\n"
     ]
    }
   ],
   "source": [
    "for params in ofs_grid:\n",
    "    \n",
    "    print(params)\n",
    "    "
   ]
  },
  {
   "cell_type": "code",
   "execution_count": 19,
   "metadata": {},
   "outputs": [
    {
     "name": "stdout",
     "output_type": "stream",
     "text": [
      "Evaluating ARF-ADWIN-OFS-5 configuration.\n",
      "Model pretrained on 200 samples.\n"
     ]
    },
    {
     "name": "stderr",
     "output_type": "stream",
     "text": [
      "c:\\Users\\Jamielane Figueroa\\AppData\\Local\\Programs\\Python\\Python39\\lib\\site-packages\\float\\feature_selection\\base_feature_selector.py:107: UserWarning: The weight vector contains negative values. The absolute weights will be used for feature selection.\n",
      "  warnings.warn(\"The weight vector contains negative values. The absolute weights will be used for \"\n"
     ]
    },
    {
     "name": "stdout",
     "output_type": "stream",
     "text": [
      "drift detected at 30720\n",
      "drift detected at 40960\n",
      "drift detected at 43008\n",
      "drift detected at 44032\n",
      "0.9987\n",
      "Evaluating ARF-ADWIN-OFS-10 configuration.\n",
      "Model pretrained on 200 samples.\n"
     ]
    },
    {
     "name": "stderr",
     "output_type": "stream",
     "text": [
      "c:\\Users\\Jamielane Figueroa\\AppData\\Local\\Programs\\Python\\Python39\\lib\\site-packages\\skmultiflow\\drift_detection\\adwin.py:350: RuntimeWarning: overflow encountered in long_scalars\n",
      "  self.mdbl_width += self.width\n"
     ]
    },
    {
     "name": "stdout",
     "output_type": "stream",
     "text": [
      "0.99858\n",
      "Evaluating ARF-ADWIN-OFS-15 configuration.\n",
      "Model pretrained on 200 samples.\n",
      "0.99848\n",
      "Evaluating ARF-ADWIN-OFS-20 configuration.\n",
      "Model pretrained on 200 samples.\n",
      "0.9986\n",
      "Evaluating ARF-ADWIN-OFS-25 configuration.\n",
      "Model pretrained on 200 samples.\n",
      "0.99886\n",
      "Evaluating ARF-ADWIN-OFS-30 configuration.\n",
      "Model pretrained on 200 samples.\n",
      "0.99902\n",
      "Evaluating ARF-ADWIN-OFS-50 configuration.\n",
      "Model pretrained on 200 samples.\n",
      "0.9995\n",
      "Evaluating ARF-ADWIN-OFS-70 configuration.\n",
      "Model pretrained on 200 samples.\n",
      "0.9997\n"
     ]
    }
   ],
   "source": [
    "for params in ofs_grid:\n",
    "    ofs_fs = OFS(n_total_features=data_loader.n_features,\n",
    "                 n_selected_features=params['n_selected_features'],\n",
    "                 baseline='gaussian',\n",
    "                 ref_sample=ref_sample)\n",
    "    \n",
    "    run_prequential(\n",
    "        setup_name=f'ARF-ADWIN-OFS-{params[\"n_selected_features\"]}',\n",
    "        classifier=arf_model, \n",
    "        stream=stream,\n",
    "        drift_detector=adwin, \n",
    "        feature_selector=ofs_fs\n",
    "    )\n",
    "    "
   ]
  }
 ],
 "metadata": {
  "kernelspec": {
   "display_name": "Python 3",
   "language": "python",
   "name": "python3"
  },
  "language_info": {
   "codemirror_mode": {
    "name": "ipython",
    "version": 3
   },
   "file_extension": ".py",
   "mimetype": "text/x-python",
   "name": "python",
   "nbconvert_exporter": "python",
   "pygments_lexer": "ipython3",
   "version": "3.9.6"
  }
 },
 "nbformat": 4,
 "nbformat_minor": 2
}
