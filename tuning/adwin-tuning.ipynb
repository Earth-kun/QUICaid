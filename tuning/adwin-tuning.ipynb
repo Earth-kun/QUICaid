{
 "cells": [
  {
   "cell_type": "code",
   "execution_count": 1,
   "metadata": {},
   "outputs": [],
   "source": [
    "from skmultiflow.meta import AdaptiveRandomForestClassifier\n",
    "from skmultiflow.drift_detection.adwin import ADWIN\n",
    "\n",
    "from skmultiflow.data import FileStream             # create stream from file\n",
    "from prequential import run_prequential"
   ]
  },
  {
   "cell_type": "code",
   "execution_count": 2,
   "metadata": {},
   "outputs": [],
   "source": [
    "data_loader = FileStream(filepath='../out.csv')"
   ]
  },
  {
   "cell_type": "code",
   "execution_count": 3,
   "metadata": {},
   "outputs": [],
   "source": [
    "ref_sample, _ = data_loader.next_sample(50)\n",
    "data_loader.reset()"
   ]
  },
  {
   "cell_type": "code",
   "execution_count": null,
   "metadata": {},
   "outputs": [
    {
     "name": "stdout",
     "output_type": "stream",
     "text": [
      "Accuracy: 0.999410, Precision: 0.999722, Recall: 0.999314, F1: 0.999518\n",
      "Average processing time: 0.003885102801999991\n"
     ]
    }
   ],
   "source": [
    "best_params = None\n",
    "best_score = 0\n",
    "best_metrics = []\n",
    "results = []\n",
    "data_loader.restart()\n",
    "\n",
    "accuracy, precision, recall, f1, avg_processing_time = run_prequential(\n",
    "    classifier=AdaptiveRandomForestClassifier(\n",
    "        drift_detection_method=ADWIN(0.0005)\n",
    "    ),\n",
    "    stream=data_loader,\n",
    "    drift_detector=ADWIN(delta=0.0005),\n",
    "    preq_samples=100000\n",
    ")\n",
    "\n",
    "print(f\"Accuracy: {accuracy:.6f}, Precision: {precision:.6f}, Recall: {recall:.6f}, F1: {f1:.6f}\")\n",
    "print(f\"Average processing time: {avg_processing_time}\")"
   ]
  }
 ],
 "metadata": {
  "kernelspec": {
   "display_name": "Python 3",
   "language": "python",
   "name": "python3"
  },
  "language_info": {
   "codemirror_mode": {
    "name": "ipython",
    "version": 3
   },
   "file_extension": ".py",
   "mimetype": "text/x-python",
   "name": "python",
   "nbconvert_exporter": "python",
   "pygments_lexer": "ipython3",
   "version": "3.9.1"
  }
 },
 "nbformat": 4,
 "nbformat_minor": 2
}
