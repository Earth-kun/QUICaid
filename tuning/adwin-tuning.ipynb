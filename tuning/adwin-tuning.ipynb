{
 "cells": [
  {
   "cell_type": "code",
   "execution_count": 1,
   "metadata": {},
   "outputs": [],
   "source": [
    "from skmultiflow.meta import AdaptiveRandomForestClassifier\n",
    "from skmultiflow.drift_detection.adwin import ADWIN\n",
    "\n",
    "from skmultiflow.data import FileStream             # create stream from file\n",
    "from sklearn.model_selection import ParameterGrid   # hyperparameter combinations\n",
    "\n",
    "from prequential import run_prequential"
   ]
  },
  {
   "cell_type": "code",
   "execution_count": 2,
   "metadata": {},
   "outputs": [],
   "source": [
    "data_loader = FileStream(filepath='../out.csv')"
   ]
  },
  {
   "cell_type": "code",
   "execution_count": 3,
   "metadata": {},
   "outputs": [],
   "source": [
    "ref_sample, _ = data_loader.next_sample(50)\n",
    "data_loader.reset()"
   ]
  },
  {
   "cell_type": "code",
   "execution_count": 4,
   "metadata": {},
   "outputs": [],
   "source": [
    "parameters = {\n",
    "    # 'delta': [0.001, 0.01, 0.1],\n",
    "    'drift_detection_method': [None, ADWIN()]\n",
    "}\n",
    "\n",
    "adwin_grid = ParameterGrid(parameters)"
   ]
  },
  {
   "cell_type": "code",
   "execution_count": 5,
   "metadata": {},
   "outputs": [
    {
     "name": "stdout",
     "output_type": "stream",
     "text": [
      "Evaluating parameters: {'drift_detection_method': None}\n",
      "Accuracy: 0.999510, Precision: 0.999788, Recall: 0.999412, F1: 0.999600\n",
      "Average processing time: 0.004015435868\n",
      "Evaluating parameters: {'drift_detection_method': ADWIN(delta=0.002)}\n",
      "Accuracy: 0.999490, Precision: 0.999820, Recall: 0.999347, F1: 0.999583\n",
      "Average processing time: 0.005582031401000078\n",
      "Grid Search Completed.\n",
      "Best Parameters: {'drift_detection_method': None}\n",
      "Best Metrics: [0.99951, 0.9997875330958063, 0.9994118511983532, 0.9995996568487274]\n"
     ]
    }
   ],
   "source": [
    "best_params = None\n",
    "best_score = 0\n",
    "best_metrics = []\n",
    "\n",
    "results = []\n",
    "\n",
    "for params in adwin_grid:\n",
    "    print(f\"Evaluating parameters: {params}\")\n",
    "    data_loader.restart()\n",
    "\n",
    "    # tracemalloc.start()\n",
    "\n",
    "    accuracy, precision, recall, f1, avg_processing_time = run_prequential(\n",
    "        classifier=AdaptiveRandomForestClassifier(\n",
    "            drift_detection_method=params['drift_detection_method'],\n",
    "            warning_detection_method=None\n",
    "        ),\n",
    "        stream=data_loader,\n",
    "        # drift_detector=ADWIN(params['delta']),\n",
    "        feature_selector = None,\n",
    "        preq_samples=100000\n",
    "    )\n",
    "\n",
    "    # current_mem, peak_mem = tracemalloc.get_traced_memory()\n",
    "    # tracemalloc.stop()\n",
    "\n",
    "    print(f\"Accuracy: {accuracy:.6f}, Precision: {precision:.6f}, Recall: {recall:.6f}, F1: {f1:.6f}\")\n",
    "    print(f\"Average processing time: {avg_processing_time}\")\n",
    "    # print(f\"Current memory usage (KB): {current_mem / 1024}\")\n",
    "    # print(f\"Peak memory usage (KB): {peak_mem / 1024}\")\n",
    "\n",
    "    avg_score = (accuracy + precision + recall + f1) / 4\n",
    "\n",
    "    if avg_score > best_score:\n",
    "        best_params = params\n",
    "        best_score = avg_score\n",
    "        best_metrics = [accuracy, precision, recall, f1]\n",
    "    \n",
    "    # results.append({\n",
    "    #     **params,\n",
    "    #     'accuracy': accuracy,\n",
    "    #     'precision': precision,\n",
    "    #     'recall': recall,\n",
    "    #     'f1': f1,\n",
    "    #     'avg_score': avg_score,\n",
    "    #     'avg_processing_time': avg_processing_time\n",
    "    # })\n",
    "\n",
    "print(\"Grid Search Completed.\")\n",
    "print(f\"Best Parameters: {best_params}\")\n",
    "print(f\"Best Metrics: {best_metrics}\")"
   ]
  }
 ],
 "metadata": {
  "kernelspec": {
   "display_name": "Python 3",
   "language": "python",
   "name": "python3"
  },
  "language_info": {
   "codemirror_mode": {
    "name": "ipython",
    "version": 3
   },
   "file_extension": ".py",
   "mimetype": "text/x-python",
   "name": "python",
   "nbconvert_exporter": "python",
   "pygments_lexer": "ipython3",
   "version": "3.9.1"
  }
 },
 "nbformat": 4,
 "nbformat_minor": 2
}
