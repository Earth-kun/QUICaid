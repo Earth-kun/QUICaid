{
 "cells": [
  {
   "cell_type": "code",
   "execution_count": 1,
   "metadata": {},
   "outputs": [],
   "source": [
    "from skmultiflow.meta import AdaptiveRandomForestClassifier\n",
    "from skmultiflow.drift_detection.adwin import ADWIN\n",
    "\n",
    "from skmultiflow.data import FileStream             # create stream from file\n",
    "from sklearn.model_selection import ParameterGrid   # hyperparameter combinations\n",
    "\n",
    "from prequential import run_prequential\n",
    "import pandas as pd"
   ]
  },
  {
   "cell_type": "code",
   "execution_count": 2,
   "metadata": {},
   "outputs": [],
   "source": [
    "data_loader = FileStream(filepath='../merged_cesnet.csv')"
   ]
  },
  {
   "cell_type": "code",
   "execution_count": 3,
   "metadata": {},
   "outputs": [],
   "source": [
    "ref_sample, _ = data_loader.next_sample(50)\n",
    "data_loader.reset()"
   ]
  },
  {
   "cell_type": "code",
   "execution_count": 4,
   "metadata": {},
   "outputs": [],
   "source": [
    "parameters = {\n",
    "    'drift_delta': [0.001, 0.01, 0.1, 0.5, 0.7, 0.9],\n",
    "    'warning_delta': [0.00001, 0.0001, 0.001, 0.01, 0.1, 0.5]\n",
    "}\n",
    "\n",
    "adwin_grid = ParameterGrid(parameters)"
   ]
  },
  {
   "cell_type": "code",
   "execution_count": null,
   "metadata": {},
   "outputs": [
    {
     "name": "stdout",
     "output_type": "stream",
     "text": [
      "Evaluating parameters: drift_detection=ADWIN(0.001), warning_detection=ADWIN(1e-05)\n",
      "0\n",
      "DRIFT detected: 3\n",
      "WARNING detected: 2\n",
      "1\n",
      "DRIFT detected: 3\n",
      "WARNING detected: 0\n",
      "2\n",
      "DRIFT detected: 3\n",
      "WARNING detected: 0\n",
      "3\n",
      "DRIFT detected: 4\n",
      "WARNING detected: 2\n",
      "4\n",
      "DRIFT detected: 3\n",
      "WARNING detected: 1\n",
      "5\n",
      "DRIFT detected: 2\n",
      "WARNING detected: 0\n",
      "6\n",
      "DRIFT detected: 2\n",
      "WARNING detected: 0\n",
      "7\n",
      "DRIFT detected: 2\n",
      "WARNING detected: 1\n",
      "8\n",
      "DRIFT detected: 2\n",
      "WARNING detected: 0\n",
      "9\n",
      "DRIFT detected: 4\n",
      "WARNING detected: 2\n",
      "Accuracy: 0.998453, Precision: 0.998518, Recall: 0.998177, F1: 0.998347\n",
      "Average processing time: 0.0062088566346666825\n",
      "drift list: [320, 322, 961, 1027, 1538, 20169, 30169, 30185, 30537, 30702, 30706, 31527, 39327, 40132, 40178, 40356, 40676, 41380, 47616, 57135, 60355, 60721, 60760, 70309, 70539, 70589, 75033]\n",
      "Evaluating parameters: drift_detection=ADWIN(0.001), warning_detection=ADWIN(0.0001)\n",
      "\n",
      "0\n",
      "DRIFT detected: 1\n",
      "WARNING detected: 1\n",
      "1\n",
      "DRIFT detected: 1\n",
      "WARNING detected: 1\n",
      "2\n",
      "DRIFT detected: 0\n",
      "WARNING detected: 0\n",
      "3\n",
      "DRIFT detected: 0\n",
      "WARNING detected: 0\n",
      "4\n",
      "DRIFT detected: 1\n",
      "WARNING detected: 1\n",
      "5\n",
      "DRIFT detected: 1\n",
      "WARNING detected: 0\n",
      "6\n",
      "DRIFT detected: 1\n",
      "WARNING detected: 1\n",
      "7\n",
      "DRIFT detected: 0\n",
      "WARNING detected: 0\n",
      "8\n",
      "DRIFT detected: 0\n",
      "WARNING detected: 0\n",
      "9\n",
      "DRIFT detected: 1\n",
      "WARNING detected: 1\n",
      "Accuracy: 0.998907, Precision: 0.997804, Recall: 0.999500, F1: 0.998651\n",
      "Average processing time: 0.005978715178498948\n",
      "drift list: [320, 321, 21982]\n",
      "Evaluating parameters: drift_detection=ADWIN(0.001), warning_detection=ADWIN(0.001)\n"
     ]
    }
   ],
   "source": [
    "best_params = None\n",
    "best_score = 0\n",
    "best_metrics = []\n",
    "\n",
    "results = []\n",
    "\n",
    "for params in adwin_grid:\n",
    "    print(f\"Evaluating parameters: drift_detection=ADWIN({params['drift_delta']}), warning_detection=ADWIN({params['warning_delta']})\")\n",
    "    data_loader.restart()\n",
    "\n",
    "    accuracy, precision, recall, f1, auc, avg_processing_time, drift_idx = run_prequential(\n",
    "        classifier=AdaptiveRandomForestClassifier(\n",
    "            drift_detection_method=ADWIN(params['drift_delta']),\n",
    "            warning_detection_method=ADWIN(params['warning_delta'])\n",
    "        ),\n",
    "        stream=data_loader,\n",
    "        feature_selector = None,\n",
    "        preq_samples=75000\n",
    "    )\n",
    "\n",
    "    # current_mem, peak_mem = tracemalloc.get_traced_memory()\n",
    "    # tracemalloc.stop()\n",
    "\n",
    "    print(f\"Accuracy: {accuracy:.6f}, Precision: {precision:.6f}, Recall: {recall:.6f}, F1: {f1:.6f}\")\n",
    "    print(f\"Average processing time: {avg_processing_time}\")\n",
    "    print(f\"drift list: {drift_idx}\")\n",
    "\n",
    "    avg_score = (accuracy + precision + recall + f1) / 4\n",
    "\n",
    "    if avg_score > best_score:\n",
    "        best_params = params\n",
    "        best_score = avg_score\n",
    "        best_metrics = [accuracy, precision, recall, f1]\n",
    "    \n",
    "    results.append({\n",
    "        **params,\n",
    "        'accuracy': accuracy,\n",
    "        'precision': precision,\n",
    "        'recall': recall,\n",
    "        'f1': f1,\n",
    "        'avg_score': avg_score,\n",
    "        'avg_processing_time': avg_processing_time\n",
    "    })\n",
    "\n",
    "print(\"Grid Search Completed.\")\n",
    "print(f\"Best Parameters: {best_params}\")\n",
    "print(f\"Best Metrics: {best_metrics}\")"
   ]
  },
  {
   "cell_type": "code",
   "execution_count": null,
   "metadata": {},
   "outputs": [],
   "source": [
    "results = pd.DataFrame(results)\n",
    "results.to_csv('adwin2.csv', index=False)"
   ]
  }
 ],
 "metadata": {
  "kernelspec": {
   "display_name": "Python 3",
   "language": "python",
   "name": "python3"
  },
  "language_info": {
   "codemirror_mode": {
    "name": "ipython",
    "version": 3
   },
   "file_extension": ".py",
   "mimetype": "text/x-python",
   "name": "python",
   "nbconvert_exporter": "python",
   "pygments_lexer": "ipython3",
   "version": "3.9.1"
  }
 },
 "nbformat": 4,
 "nbformat_minor": 2
}
