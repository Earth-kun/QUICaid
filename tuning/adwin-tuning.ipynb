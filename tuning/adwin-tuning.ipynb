{
 "cells": [
  {
   "cell_type": "code",
   "execution_count": 6,
   "metadata": {},
   "outputs": [],
   "source": [
    "from skmultiflow.meta import AdaptiveRandomForestClassifier\n",
    "from skmultiflow.drift_detection.adwin import ADWIN\n",
    "\n",
    "from skmultiflow.data import FileStream             # create stream from file\n",
    "from sklearn.model_selection import ParameterGrid   # hyperparameter combinations\n",
    "\n",
    "from prequential import run_prequential\n",
    "import pandas as pd"
   ]
  },
  {
   "cell_type": "code",
   "execution_count": 7,
   "metadata": {},
   "outputs": [],
   "source": [
    "data_loader = FileStream(filepath='../merged.csv')"
   ]
  },
  {
   "cell_type": "code",
   "execution_count": 8,
   "metadata": {},
   "outputs": [],
   "source": [
    "ref_sample, _ = data_loader.next_sample(50)\n",
    "data_loader.reset()"
   ]
  },
  {
   "cell_type": "code",
   "execution_count": 9,
   "metadata": {},
   "outputs": [],
   "source": [
    "parameters = {\n",
    "    'delta': [0.00001, 0.0001, 0.001, 0.01, 0.1, 0.5],\n",
    "    'warning_detection_method': [None, 'ADWIN']\n",
    "}\n",
    "\n",
    "adwin_grid = ParameterGrid(parameters)"
   ]
  },
  {
   "cell_type": "code",
   "execution_count": 10,
   "metadata": {},
   "outputs": [
    {
     "name": "stdout",
     "output_type": "stream",
     "text": [
      "Evaluating parameters: drift_detection=ADWIN(1e-05), warning_detection=None, delta=1e-05\n",
      "Accuracy: 0.998191, Precision: 0.998182, Recall: 0.998118, F1: 0.998150\n",
      "Average processing time: 0.004428005983110998\n",
      "Evaluating parameters: drift_detection=ADWIN(1e-05), warning_detection=ADWIN, delta=1e-05\n",
      "Accuracy: 0.998182, Precision: 0.998154, Recall: 0.998127, F1: 0.998141\n",
      "Average processing time: 0.004851558767999969\n",
      "Evaluating parameters: drift_detection=ADWIN(0.0001), warning_detection=None, delta=0.0001\n",
      "Accuracy: 0.998160, Precision: 0.998236, Recall: 0.998000, F1: 0.998118\n",
      "Average processing time: 0.00441936693955573\n",
      "Evaluating parameters: drift_detection=ADWIN(0.0001), warning_detection=ADWIN, delta=0.0001\n",
      "Accuracy: 0.998036, Precision: 0.998081, Recall: 0.997900, F1: 0.997991\n",
      "Average processing time: 0.004909408173777213\n",
      "Evaluating parameters: drift_detection=ADWIN(0.001), warning_detection=None, delta=0.001\n",
      "Accuracy: 0.998164, Precision: 0.998127, Recall: 0.998118, F1: 0.998123\n",
      "Average processing time: 0.004489656885778548\n",
      "Evaluating parameters: drift_detection=ADWIN(0.001), warning_detection=ADWIN, delta=0.001\n",
      "Accuracy: 0.998324, Precision: 0.998318, Recall: 0.998255, F1: 0.998286\n",
      "Average processing time: 0.004878239623111331\n",
      "Evaluating parameters: drift_detection=ADWIN(0.01), warning_detection=None, delta=0.01\n",
      "Accuracy: 0.998382, Precision: 0.998436, Recall: 0.998255, F1: 0.998345\n",
      "Average processing time: 0.004429317245777222\n",
      "Evaluating parameters: drift_detection=ADWIN(0.01), warning_detection=ADWIN, delta=0.01\n",
      "Accuracy: 0.998493, Precision: 0.998600, Recall: 0.998318, F1: 0.998459\n",
      "Average processing time: 0.004873985200887817\n",
      "Evaluating parameters: drift_detection=ADWIN(0.1), warning_detection=None, delta=0.1\n",
      "Accuracy: 0.998751, Precision: 0.998691, Recall: 0.998755, F1: 0.998723\n",
      "Average processing time: 0.0043652276128900444\n",
      "Evaluating parameters: drift_detection=ADWIN(0.1), warning_detection=ADWIN, delta=0.1\n",
      "Accuracy: 0.998653, Precision: 0.998664, Recall: 0.998582, F1: 0.998623\n",
      "Average processing time: 0.0047979432551111196\n",
      "Evaluating parameters: drift_detection=ADWIN(0.5), warning_detection=None, delta=0.5\n",
      "Accuracy: 0.999000, Precision: 0.998864, Recall: 0.999091, F1: 0.998977\n",
      "Average processing time: 0.00438767928311079\n",
      "Evaluating parameters: drift_detection=ADWIN(0.5), warning_detection=ADWIN, delta=0.5\n",
      "Accuracy: 0.998942, Precision: 0.998891, Recall: 0.998945, F1: 0.998918\n",
      "Average processing time: 0.004908680242665117\n",
      "Grid Search Completed.\n",
      "Best Parameters: {'delta': 0.5, 'warning_detection_method': None}\n",
      "Best Metrics: [0.999, 0.998863894569416, 0.9990909090909091, 0.9989773889330757]\n"
     ]
    }
   ],
   "source": [
    "best_params = None\n",
    "best_score = 0\n",
    "best_metrics = []\n",
    "\n",
    "results = []\n",
    "\n",
    "for params in adwin_grid:\n",
    "    print(f\"Evaluating parameters: drift_detection=ADWIN({params['delta']}), warning_detection={params['warning_detection_method']}, delta={params['delta']}\")\n",
    "    data_loader.restart()\n",
    "\n",
    "    # tracemalloc.start()\n",
    "    warning_detector = ADWIN(params['delta']) if params['warning_detection_method'] == 'ADWIN' else None\n",
    "\n",
    "    accuracy, precision, recall, f1, avg_processing_time = run_prequential(\n",
    "        classifier=AdaptiveRandomForestClassifier(\n",
    "            drift_detection_method=ADWIN(params['delta']),\n",
    "            warning_detection_method=warning_detector\n",
    "        ),\n",
    "        stream=data_loader,\n",
    "        # drift_detector=ADWIN(params['delta']),\n",
    "        feature_selector = None,\n",
    "        preq_samples=225000\n",
    "    )\n",
    "\n",
    "    # current_mem, peak_mem = tracemalloc.get_traced_memory()\n",
    "    # tracemalloc.stop()\n",
    "\n",
    "    print(f\"Accuracy: {accuracy:.6f}, Precision: {precision:.6f}, Recall: {recall:.6f}, F1: {f1:.6f}\")\n",
    "    print(f\"Average processing time: {avg_processing_time}\")\n",
    "    # print(f\"Current memory usage (KB): {current_mem / 1024}\")\n",
    "    # print(f\"Peak memory usage (KB): {peak_mem / 1024}\")\n",
    "\n",
    "    avg_score = (accuracy + precision + recall + f1) / 4\n",
    "\n",
    "    if avg_score > best_score:\n",
    "        best_params = params\n",
    "        best_score = avg_score\n",
    "        best_metrics = [accuracy, precision, recall, f1]\n",
    "    \n",
    "    results.append({\n",
    "        **params,\n",
    "        'accuracy': accuracy,\n",
    "        'precision': precision,\n",
    "        'recall': recall,\n",
    "        'f1': f1,\n",
    "        'avg_score': avg_score,\n",
    "        'avg_processing_time': avg_processing_time\n",
    "    })\n",
    "\n",
    "print(\"Grid Search Completed.\")\n",
    "print(f\"Best Parameters: {best_params}\")\n",
    "print(f\"Best Metrics: {best_metrics}\")"
   ]
  },
  {
   "cell_type": "code",
   "execution_count": 11,
   "metadata": {},
   "outputs": [],
   "source": [
    "results = pd.DataFrame(results)\n",
    "results.to_csv('adwin2.csv', index=False)"
   ]
  },
  {
   "cell_type": "code",
   "execution_count": 14,
   "metadata": {},
   "outputs": [
    {
     "name": "stdout",
     "output_type": "stream",
     "text": [
      "Accuracy: 0.999027, Precision: 0.998918, Recall: 0.999091, F1: 0.999005\n",
      "Average processing time: 0.004998293041774741\n"
     ]
    }
   ],
   "source": [
    "data_loader.restart()\n",
    "\n",
    "# tracemalloc.start()\n",
    "\n",
    "accuracy, precision, recall, f1, avg_processing_time = run_prequential(\n",
    "    classifier=AdaptiveRandomForestClassifier(\n",
    "        drift_detection_method=ADWIN(0.6),\n",
    "        warning_detection_method=ADWIN(0.6)\n",
    "    ),\n",
    "    stream=data_loader,\n",
    "    # drift_detector=ADWIN(params['delta']),\n",
    "    feature_selector = None,\n",
    "    preq_samples=225000\n",
    ")\n",
    "\n",
    "# current_mem, peak_mem = tracemalloc.get_traced_memory()\n",
    "# tracemalloc.stop()\n",
    "\n",
    "print(f\"Accuracy: {accuracy:.6f}, Precision: {precision:.6f}, Recall: {recall:.6f}, F1: {f1:.6f}\")\n",
    "print(f\"Average processing time: {avg_processing_time}\")"
   ]
  },
  {
   "cell_type": "code",
   "execution_count": 7,
   "metadata": {},
   "outputs": [
    {
     "name": "stdout",
     "output_type": "stream",
     "text": [
      "Accuracy: 0.858913, Precision: 0.853451, Recall: 0.866640, F1: 0.859995\n",
      "Average processing time: 0.007894888422667102\n"
     ]
    }
   ],
   "source": [
    "data_loader.restart()\n",
    "\n",
    "# tracemalloc.start()\n",
    "\n",
    "accuracy, precision, recall, f1, avg_processing_time = run_prequential(\n",
    "    classifier=AdaptiveRandomForestClassifier(\n",
    "        drift_detection_method=None,\n",
    "        warning_detection_method=None\n",
    "    ),\n",
    "    stream=data_loader,\n",
    "    # drift_detector=ADWIN(params['delta']),\n",
    "    feature_selector = None,\n",
    "    preq_samples=300000\n",
    ")\n",
    "\n",
    "# current_mem, peak_mem = tracemalloc.get_traced_memory()\n",
    "# tracemalloc.stop()\n",
    "\n",
    "print(f\"Accuracy: {accuracy:.6f}, Precision: {precision:.6f}, Recall: {recall:.6f}, F1: {f1:.6f}\")\n",
    "print(f\"Average processing time: {avg_processing_time}\")"
   ]
  },
  {
   "cell_type": "code",
   "execution_count": 8,
   "metadata": {},
   "outputs": [
    {
     "name": "stdout",
     "output_type": "stream",
     "text": [
      "Accuracy: 0.998707, Precision: 0.998773, Recall: 0.998640, F1: 0.998707\n",
      "Average processing time: 0.004958556739668287\n"
     ]
    }
   ],
   "source": [
    "data_loader.restart()\n",
    "\n",
    "# tracemalloc.start()\n",
    "\n",
    "accuracy, precision, recall, f1, avg_processing_time = run_prequential(\n",
    "    classifier=AdaptiveRandomForestClassifier(\n",
    "        drift_detection_method=ADWIN(0.1),\n",
    "        warning_detection_method=ADWIN(0.1)\n",
    "    ),\n",
    "    stream=data_loader,\n",
    "    # drift_detector=ADWIN(params['delta']),\n",
    "    feature_selector = None,\n",
    "    preq_samples=300000\n",
    ")\n",
    "\n",
    "# current_mem, peak_mem = tracemalloc.get_traced_memory()\n",
    "# tracemalloc.stop()\n",
    "\n",
    "print(f\"Accuracy: {accuracy:.6f}, Precision: {precision:.6f}, Recall: {recall:.6f}, F1: {f1:.6f}\")\n",
    "print(f\"Average processing time: {avg_processing_time}\")"
   ]
  }
 ],
 "metadata": {
  "kernelspec": {
   "display_name": "Python 3",
   "language": "python",
   "name": "python3"
  },
  "language_info": {
   "codemirror_mode": {
    "name": "ipython",
    "version": 3
   },
   "file_extension": ".py",
   "mimetype": "text/x-python",
   "name": "python",
   "nbconvert_exporter": "python",
   "pygments_lexer": "ipython3",
   "version": "3.9.1"
  }
 },
 "nbformat": 4,
 "nbformat_minor": 2
}
