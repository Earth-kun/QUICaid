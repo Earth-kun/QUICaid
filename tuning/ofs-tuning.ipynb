{
 "cells": [
  {
   "cell_type": "code",
   "execution_count": 1,
   "metadata": {},
   "outputs": [],
   "source": [
    "from skmultiflow.meta import AdaptiveRandomForestClassifier\n",
    "from skmultiflow.drift_detection.adwin import ADWIN\n",
    "\n",
    "from float.feature_selection import OFS           # online feature methods\n",
    "from skmultiflow.data import FileStream             # create stream from file\n",
    "from sklearn.model_selection import ParameterGrid   # hyperparameter combinations\n",
    "\n",
    "from prequential import run_prequential\n",
    "\n",
    "import pandas as pd\n",
    "import numpy as np"
   ]
  },
  {
   "cell_type": "code",
   "execution_count": 2,
   "metadata": {},
   "outputs": [],
   "source": [
    "data_loader = FileStream(filepath='../merged.csv')"
   ]
  },
  {
   "cell_type": "code",
   "execution_count": 3,
   "metadata": {},
   "outputs": [],
   "source": [
    "# base arf classifier\n",
    "arf = AdaptiveRandomForestClassifier()"
   ]
  },
  {
   "cell_type": "code",
   "execution_count": 4,
   "metadata": {},
   "outputs": [],
   "source": [
    "parameters = {\n",
    "    'n_selected_features': [5, 10, 15, 20, 25, 30, 40, 50, 60, 70], \n",
    "}\n",
    "\n",
    "ofs_grid = ParameterGrid(parameters)"
   ]
  },
  {
   "cell_type": "code",
   "execution_count": 5,
   "metadata": {},
   "outputs": [
    {
     "name": "stdout",
     "output_type": "stream",
     "text": [
      "Evaluating parameters: {'n_selected_features': 5}\n"
     ]
    },
    {
     "name": "stderr",
     "output_type": "stream",
     "text": [
      "c:\\Users\\Carlo Alamani\\AppData\\Local\\Programs\\Python\\Python39\\lib\\site-packages\\float\\feature_selection\\base_feature_selector.py:107: UserWarning: The weight vector contains negative values. The absolute weights will be used for feature selection.\n",
      "  warnings.warn(\"The weight vector contains negative values. The absolute weights will be used for \"\n"
     ]
    },
    {
     "name": "stdout",
     "output_type": "stream",
     "text": [
      "Accuracy: 0.998870, Precision: 0.999179, Recall: 0.998560, F1: 0.998870\n",
      "Average processing time: 0.006568743401000002\n",
      "Evaluating parameters: {'n_selected_features': 10}\n"
     ]
    },
    {
     "name": "stderr",
     "output_type": "stream",
     "text": [
      "c:\\Users\\Carlo Alamani\\AppData\\Local\\Programs\\Python\\Python39\\lib\\site-packages\\float\\feature_selection\\base_feature_selector.py:107: UserWarning: The weight vector contains negative values. The absolute weights will be used for feature selection.\n",
      "  warnings.warn(\"The weight vector contains negative values. The absolute weights will be used for \"\n"
     ]
    },
    {
     "name": "stdout",
     "output_type": "stream",
     "text": [
      "Accuracy: 0.998560, Precision: 0.998660, Recall: 0.998460, F1: 0.998560\n",
      "Average processing time: 0.00666841868599971\n",
      "Evaluating parameters: {'n_selected_features': 15}\n"
     ]
    },
    {
     "name": "stderr",
     "output_type": "stream",
     "text": [
      "c:\\Users\\Carlo Alamani\\AppData\\Local\\Programs\\Python\\Python39\\lib\\site-packages\\float\\feature_selection\\base_feature_selector.py:107: UserWarning: The weight vector contains negative values. The absolute weights will be used for feature selection.\n",
      "  warnings.warn(\"The weight vector contains negative values. The absolute weights will be used for \"\n"
     ]
    },
    {
     "name": "stdout",
     "output_type": "stream",
     "text": [
      "Accuracy: 0.998590, Precision: 0.998680, Recall: 0.998500, F1: 0.998590\n",
      "Average processing time: 0.006730426233999974\n",
      "Evaluating parameters: {'n_selected_features': 20}\n"
     ]
    },
    {
     "name": "stderr",
     "output_type": "stream",
     "text": [
      "c:\\Users\\Carlo Alamani\\AppData\\Local\\Programs\\Python\\Python39\\lib\\site-packages\\float\\feature_selection\\base_feature_selector.py:107: UserWarning: The weight vector contains negative values. The absolute weights will be used for feature selection.\n",
      "  warnings.warn(\"The weight vector contains negative values. The absolute weights will be used for \"\n"
     ]
    },
    {
     "name": "stdout",
     "output_type": "stream",
     "text": [
      "Accuracy: 0.998680, Precision: 0.998740, Recall: 0.998620, F1: 0.998680\n",
      "Average processing time: 0.006619215756001508\n",
      "Evaluating parameters: {'n_selected_features': 25}\n"
     ]
    },
    {
     "name": "stderr",
     "output_type": "stream",
     "text": [
      "c:\\Users\\Carlo Alamani\\AppData\\Local\\Programs\\Python\\Python39\\lib\\site-packages\\float\\feature_selection\\base_feature_selector.py:107: UserWarning: The weight vector contains negative values. The absolute weights will be used for feature selection.\n",
      "  warnings.warn(\"The weight vector contains negative values. The absolute weights will be used for \"\n"
     ]
    },
    {
     "name": "stdout",
     "output_type": "stream",
     "text": [
      "Accuracy: 0.998660, Precision: 0.998959, Recall: 0.998360, F1: 0.998660\n",
      "Average processing time: 0.006703484196999825\n",
      "Evaluating parameters: {'n_selected_features': 30}\n"
     ]
    },
    {
     "name": "stderr",
     "output_type": "stream",
     "text": [
      "c:\\Users\\Carlo Alamani\\AppData\\Local\\Programs\\Python\\Python39\\lib\\site-packages\\float\\feature_selection\\base_feature_selector.py:107: UserWarning: The weight vector contains negative values. The absolute weights will be used for feature selection.\n",
      "  warnings.warn(\"The weight vector contains negative values. The absolute weights will be used for \"\n"
     ]
    },
    {
     "name": "stdout",
     "output_type": "stream",
     "text": [
      "Accuracy: 0.998480, Precision: 0.998919, Recall: 0.998040, F1: 0.998479\n",
      "Average processing time: 0.006751294878000267\n",
      "Evaluating parameters: {'n_selected_features': 40}\n"
     ]
    },
    {
     "name": "stderr",
     "output_type": "stream",
     "text": [
      "c:\\Users\\Carlo Alamani\\AppData\\Local\\Programs\\Python\\Python39\\lib\\site-packages\\float\\feature_selection\\base_feature_selector.py:107: UserWarning: The weight vector contains negative values. The absolute weights will be used for feature selection.\n",
      "  warnings.warn(\"The weight vector contains negative values. The absolute weights will be used for \"\n"
     ]
    },
    {
     "name": "stdout",
     "output_type": "stream",
     "text": [
      "Accuracy: 0.998500, Precision: 0.998699, Recall: 0.998300, F1: 0.998500\n",
      "Average processing time: 0.006642826368999149\n",
      "Evaluating parameters: {'n_selected_features': 50}\n"
     ]
    },
    {
     "name": "stderr",
     "output_type": "stream",
     "text": [
      "c:\\Users\\Carlo Alamani\\AppData\\Local\\Programs\\Python\\Python39\\lib\\site-packages\\float\\feature_selection\\base_feature_selector.py:107: UserWarning: The weight vector contains negative values. The absolute weights will be used for feature selection.\n",
      "  warnings.warn(\"The weight vector contains negative values. The absolute weights will be used for \"\n"
     ]
    },
    {
     "name": "stdout",
     "output_type": "stream",
     "text": [
      "Accuracy: 0.998280, Precision: 0.998559, Recall: 0.998000, F1: 0.998280\n",
      "Average processing time: 0.00671149655299977\n",
      "Evaluating parameters: {'n_selected_features': 60}\n"
     ]
    },
    {
     "name": "stderr",
     "output_type": "stream",
     "text": [
      "c:\\Users\\Carlo Alamani\\AppData\\Local\\Programs\\Python\\Python39\\lib\\site-packages\\float\\feature_selection\\base_feature_selector.py:107: UserWarning: The weight vector contains negative values. The absolute weights will be used for feature selection.\n",
      "  warnings.warn(\"The weight vector contains negative values. The absolute weights will be used for \"\n"
     ]
    },
    {
     "name": "stdout",
     "output_type": "stream",
     "text": [
      "Accuracy: 0.998420, Precision: 0.998540, Recall: 0.998300, F1: 0.998420\n",
      "Average processing time: 0.006570774163001624\n",
      "Evaluating parameters: {'n_selected_features': 70}\n"
     ]
    },
    {
     "name": "stderr",
     "output_type": "stream",
     "text": [
      "c:\\Users\\Carlo Alamani\\AppData\\Local\\Programs\\Python\\Python39\\lib\\site-packages\\float\\feature_selection\\base_feature_selector.py:107: UserWarning: The weight vector contains negative values. The absolute weights will be used for feature selection.\n",
      "  warnings.warn(\"The weight vector contains negative values. The absolute weights will be used for \"\n"
     ]
    },
    {
     "name": "stdout",
     "output_type": "stream",
     "text": [
      "Accuracy: 0.998340, Precision: 0.998420, Recall: 0.998260, F1: 0.998340\n",
      "Average processing time: 0.006577888462001028\n",
      "Grid Search Completed.\n",
      "Best Parameters: {'n_selected_features': 5}\n",
      "Best Metrics: [0.99887, 0.9991794912845965, 0.99856, 0.9988696495913733]\n"
     ]
    }
   ],
   "source": [
    "best_params = None\n",
    "best_score = 0\n",
    "best_metrics = []\n",
    "\n",
    "results = []\n",
    "\n",
    "for params in ofs_grid:\n",
    "    print(f\"Evaluating parameters: {params}\")\n",
    "    data_loader.restart()\n",
    "    ref_sample, _ = data_loader.next_sample(50)\n",
    "    data_loader.reset()\n",
    "\n",
    "    accuracy, precision, recall, f1, avg_processing_time = run_prequential(\n",
    "        classifier=arf,\n",
    "        stream=data_loader,\n",
    "        feature_selector = OFS(\n",
    "                **params,\n",
    "                n_total_features=data_loader.n_features,\n",
    "                ref_sample=ref_sample,\n",
    "                baseline='gaussian'\n",
    "        ),\n",
    "        preq_samples=100000\n",
    "    )\n",
    "\n",
    "    print(f\"Accuracy: {accuracy:.6f}, Precision: {precision:.6f}, Recall: {recall:.6f}, F1: {f1:.6f}\")\n",
    "    print(f\"Average processing time: {avg_processing_time}\")\n",
    "\n",
    "    avg_score = (accuracy + precision + recall + f1) / 4\n",
    "\n",
    "    if avg_score > best_score:\n",
    "        best_params = params\n",
    "        best_score = avg_score\n",
    "        best_metrics = [accuracy, precision, recall, f1]\n",
    "    \n",
    "    results.append({\n",
    "        **params,\n",
    "        'accuracy': accuracy,\n",
    "        'precision': precision,\n",
    "        'recall': recall,\n",
    "        'f1': f1,\n",
    "        'avg_score': avg_score,\n",
    "        'avg_processing_time': avg_processing_time\n",
    "    })\n",
    "\n",
    "print(\"Grid Search Completed.\")\n",
    "print(f\"Best Parameters: {best_params}\")\n",
    "print(f\"Best Metrics: {best_metrics}\")"
   ]
  },
  {
   "cell_type": "code",
   "execution_count": 6,
   "metadata": {},
   "outputs": [],
   "source": [
    "results = pd.DataFrame(results)\n",
    "results.to_csv('ofs.csv', index=False)"
   ]
  }
 ],
 "metadata": {
  "kernelspec": {
   "display_name": "Python 3",
   "language": "python",
   "name": "python3"
  },
  "language_info": {
   "codemirror_mode": {
    "name": "ipython",
    "version": 3
   },
   "file_extension": ".py",
   "mimetype": "text/x-python",
   "name": "python",
   "nbconvert_exporter": "python",
   "pygments_lexer": "ipython3",
   "version": "3.9.1"
  }
 },
 "nbformat": 4,
 "nbformat_minor": 2
}
