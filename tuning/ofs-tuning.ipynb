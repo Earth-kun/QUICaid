{
 "cells": [
  {
   "cell_type": "code",
   "execution_count": null,
   "metadata": {},
   "outputs": [],
   "source": [
    "from skmultiflow.meta import AdaptiveRandomForestClassifier\n",
    "from skmultiflow.drift_detection.adwin import ADWIN\n",
    "\n",
    "from float.feature_selection import OFS           # online feature methods\n",
    "from skmultiflow.data import FileStream             # create stream from file\n",
    "from sklearn.model_selection import ParameterGrid   # hyperparameter combinations\n",
    "\n",
    "from prequential import run_prequential\n",
    "\n",
    "import pandas as pd\n",
    "import numpy as np"
   ]
  },
  {
   "cell_type": "code",
   "execution_count": null,
   "metadata": {},
   "outputs": [],
   "source": [
    "data_loader = FileStream(filepath='../merged_cesnet.csv')"
   ]
  },
  {
   "cell_type": "code",
   "execution_count": null,
   "metadata": {},
   "outputs": [],
   "source": [
    "# base arf classifier\n",
    "arf = AdaptiveRandomForestClassifier()"
   ]
  },
  {
   "cell_type": "code",
   "execution_count": null,
   "metadata": {},
   "outputs": [],
   "source": [
    "parameters = {\n",
    "    'n_selected_features': [5, 10, 15, 20, 25, 30, 40, 50, 60, 70], \n",
    "}\n",
    "\n",
    "ofs_grid = ParameterGrid(parameters)"
   ]
  },
  {
   "cell_type": "code",
   "execution_count": null,
   "metadata": {},
   "outputs": [],
   "source": [
    "best_params = None\n",
    "best_score = 0\n",
    "best_metrics = []\n",
    "\n",
    "results = []\n",
    "\n",
    "for params in ofs_grid:\n",
    "    print(f\"Evaluating parameters: {params}\")\n",
    "    data_loader.restart()\n",
    "    ref_sample, _ = data_loader.next_sample(50)\n",
    "    data_loader.reset()\n",
    "\n",
    "    accuracy, precision, recall, f1, avg_processing_time = run_prequential(\n",
    "        classifier=arf,\n",
    "        stream=data_loader,\n",
    "        feature_selector = OFS(\n",
    "                **params,\n",
    "                n_total_features=data_loader.n_features,\n",
    "                ref_sample=ref_sample,\n",
    "                baseline='gaussian'\n",
    "        ),\n",
    "        preq_samples=75000\n",
    "    )\n",
    "\n",
    "    print(f\"Accuracy: {accuracy:.6f}, Precision: {precision:.6f}, Recall: {recall:.6f}, F1: {f1:.6f}\")\n",
    "    print(f\"Average processing time: {avg_processing_time}\")\n",
    "\n",
    "    avg_score = (accuracy + precision + recall + f1) / 4\n",
    "\n",
    "    if avg_score > best_score:\n",
    "        best_params = params\n",
    "        best_score = avg_score\n",
    "        best_metrics = [accuracy, precision, recall, f1]\n",
    "    \n",
    "    results.append({\n",
    "        **params,\n",
    "        'accuracy': accuracy,\n",
    "        'precision': precision,\n",
    "        'recall': recall,\n",
    "        'f1': f1,\n",
    "        'avg_score': avg_score,\n",
    "        'avg_processing_time': avg_processing_time\n",
    "    })\n",
    "\n",
    "print(\"Grid Search Completed.\")\n",
    "print(f\"Best Parameters: {best_params}\")\n",
    "print(f\"Best Metrics: {best_metrics}\")"
   ]
  },
  {
   "cell_type": "code",
   "execution_count": null,
   "metadata": {},
   "outputs": [],
   "source": [
    "results = pd.DataFrame(results)\n",
    "results.to_csv('ofs.csv', index=False)"
   ]
  }
 ],
 "metadata": {
  "kernelspec": {
   "display_name": "Python 3",
   "language": "python",
   "name": "python3"
  },
  "language_info": {
   "codemirror_mode": {
    "name": "ipython",
    "version": 3
   },
   "file_extension": ".py",
   "mimetype": "text/x-python",
   "name": "python",
   "nbconvert_exporter": "python",
   "pygments_lexer": "ipython3",
   "version": "3.9.1"
  }
 },
 "nbformat": 4,
 "nbformat_minor": 2
}
