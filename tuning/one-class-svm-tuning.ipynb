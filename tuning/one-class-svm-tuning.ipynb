{
 "cells": [
  {
   "cell_type": "code",
   "execution_count": 1,
   "metadata": {},
   "outputs": [],
   "source": [
    "from river import anomaly, preprocessing\n",
    "from river.anomaly import OneClassSVM\n",
    "from river import feature_extraction as fx\n",
    "from skmultiflow.drift_detection.adwin import ADWIN\n",
    "\n",
    "from skmultiflow.data import FileStream             # create stream from file\n",
    "from sklearn.model_selection import ParameterGrid   # hyperparameter combinations\n",
    "\n",
    "from prequential import run_prequential"
   ]
  },
  {
   "cell_type": "code",
   "execution_count": 2,
   "metadata": {},
   "outputs": [],
   "source": [
    "data_loader = FileStream(filepath='../out.csv')"
   ]
  },
  {
   "cell_type": "code",
   "execution_count": 3,
   "metadata": {},
   "outputs": [],
   "source": [
    "ref_sample, _ = data_loader.next_sample(50)\n",
    "data_loader.reset()"
   ]
  },
  {
   "cell_type": "code",
   "execution_count": null,
   "metadata": {},
   "outputs": [],
   "source": [
    "parameters = {\n",
    "    'q': [0.4, 0.5, 0.6, 0.7, 0.8],\n",
    "    'gamma': [0.0001, 0.001, 0.01, 0.1, 1],\n",
    "    'nu': [0.02, 0.05, 0.1, 0.5]\n",
    "}\n",
    "\n",
    "svm_grid = ParameterGrid(parameters)"
   ]
  },
  {
   "cell_type": "code",
   "execution_count": null,
   "metadata": {},
   "outputs": [
    {
     "name": "stdout",
     "output_type": "stream",
     "text": [
      "Evaluating parameters: {'gamma': 0.0001, 'nu': 0.02, 'q': 0.4}\n",
      "Accuracy: 0.670610, Precision: 0.732033, Recall: 0.728553, F1: 0.730289\n",
      "Average processing time: 0.012372991175999912\n",
      "Evaluating parameters: {'gamma': 0.0001, 'nu': 0.02, 'q': 0.5}\n",
      "Accuracy: 0.710250, Precision: 0.775119, Recall: 0.741852, F1: 0.758120\n",
      "Average processing time: 0.012643118837000693\n",
      "Evaluating parameters: {'gamma': 0.0001, 'nu': 0.02, 'q': 0.6}\n",
      "Accuracy: 0.625160, Precision: 0.740059, Recall: 0.597461, F1: 0.661159\n",
      "Average processing time: 0.01312824366300054\n",
      "Evaluating parameters: {'gamma': 0.0001, 'nu': 0.02, 'q': 0.7}\n",
      "Accuracy: 0.572770, Precision: 0.737634, Recall: 0.468738, F1: 0.573218\n",
      "Average processing time: 0.014253113511000838\n",
      "Evaluating parameters: {'gamma': 0.0001, 'nu': 0.02, 'q': 0.8}\n",
      "Accuracy: 0.523600, Precision: 0.763322, Recall: 0.321309, F1: 0.452250\n",
      "Average processing time: 0.015839473694001\n",
      "Evaluating parameters: {'gamma': 0.0001, 'nu': 0.05, 'q': 0.4}\n",
      "Accuracy: 0.658340, Precision: 0.678996, Recall: 0.837981, F1: 0.750157\n",
      "Average processing time: 0.01069557782000058\n",
      "Evaluating parameters: {'gamma': 0.0001, 'nu': 0.05, 'q': 0.5}\n",
      "Accuracy: 0.636680, Precision: 0.673652, Recall: 0.788332, F1: 0.726494\n",
      "Average processing time: 0.011133540371000372\n",
      "Evaluating parameters: {'gamma': 0.0001, 'nu': 0.05, 'q': 0.6}\n",
      "Accuracy: 0.646890, Precision: 0.699997, Recall: 0.740447, F1: 0.719654\n",
      "Average processing time: 0.012070469378998788\n",
      "Evaluating parameters: {'gamma': 0.0001, 'nu': 0.05, 'q': 0.7}\n",
      "Accuracy: 0.686680, Precision: 0.766364, Recall: 0.702184, F1: 0.732872\n",
      "Average processing time: 0.013354210287001879\n",
      "Evaluating parameters: {'gamma': 0.0001, 'nu': 0.05, 'q': 0.8}\n",
      "Accuracy: 0.678040, Precision: 0.819886, Recall: 0.607443, F1: 0.697855\n",
      "Average processing time: 0.014184896977998377\n",
      "Evaluating parameters: {'gamma': 0.0001, 'nu': 0.1, 'q': 0.4}\n",
      "Accuracy: 0.670680, Precision: 0.674932, Recall: 0.891209, F1: 0.768137\n",
      "Average processing time: 0.010401505927997604\n",
      "Evaluating parameters: {'gamma': 0.0001, 'nu': 0.1, 'q': 0.5}\n",
      "Accuracy: 0.684240, Precision: 0.691747, Recall: 0.873270, F1: 0.771982\n",
      "Average processing time: 0.010204702359999028\n",
      "Evaluating parameters: {'gamma': 0.0001, 'nu': 0.1, 'q': 0.6}\n"
     ]
    }
   ],
   "source": [
    "best_params = None\n",
    "best_score = 0\n",
    "best_metrics = []\n",
    "\n",
    "# results = []\n",
    "\n",
    "for params in svm_grid:\n",
    "    print(f\"Evaluating parameters: {params}\")\n",
    "    data_loader.restart()\n",
    "\n",
    "    svm_model = (\n",
    "        fx.RBFSampler(gamma=params['gamma']) | OneClassSVM(nu=params['nu'])\n",
    "    )\n",
    "\n",
    "    svm_classifier = anomaly.QuantileFilter(\n",
    "        svm_model,\n",
    "        q=params['q']\n",
    "    )\n",
    "\n",
    "    # tracemalloc.start()\n",
    "\n",
    "    accuracy, precision, recall, f1, avg_processing_time = run_prequential(\n",
    "        classifier=svm_classifier,\n",
    "        stream=data_loader,\n",
    "        feature_selector = None,\n",
    "        preq_samples=100000\n",
    "    )\n",
    "\n",
    "    # current_mem, peak_mem = tracemalloc.get_traced_memory()\n",
    "    # tracemalloc.stop()\n",
    "\n",
    "    print(f\"Accuracy: {accuracy:.6f}, Precision: {precision:.6f}, Recall: {recall:.6f}, F1: {f1:.6f}\")\n",
    "    print(f\"Average processing time: {avg_processing_time}\")\n",
    "    # print(f\"Current memory usage (KB): {current_mem / 1024}\")\n",
    "    # print(f\"Peak memory usage (KB): {peak_mem / 1024}\")\n",
    "\n",
    "    avg_score = (accuracy + precision + recall + f1) / 4\n",
    "\n",
    "    if avg_score > best_score:\n",
    "        best_params = params\n",
    "        best_score = avg_score\n",
    "        best_metrics = [accuracy, precision, recall, f1]\n",
    "    \n",
    "    # results.append({\n",
    "    #     **params,\n",
    "    #     'accuracy': accuracy,\n",
    "    #     'precision': precision,\n",
    "    #     'recall': recall,\n",
    "    #     'f1': f1,\n",
    "    #     'avg_score': avg_score,\n",
    "    #     'avg_processing_time': avg_processing_time\n",
    "    # })\n",
    "\n",
    "print(\"Grid Search Completed.\")\n",
    "print(f\"Best Parameters: {best_params}\")\n",
    "print(f\"Best Metrics: {best_metrics}\")"
   ]
  },
  {
   "cell_type": "markdown",
   "metadata": {},
   "source": [
    "default gamma and nu\n",
    "\n",
    "q = 0.9\n",
    "Accuracy: 0.626780, Precision: 0.783997, Recall: 0.538663, F1: 0.638577\n",
    "Average processing time: 0.014203775005000027\n",
    "\n",
    "q = 0.75\n",
    "Accuracy: 0.718110, Precision: 0.757446, Recall: 0.793592, F1: 0.775098\n",
    "Average processing time: 0.012029623355000053\n",
    "\n",
    "q = 0.6\n",
    "Accuracy: 0.712950, Precision: 0.719307, Recall: 0.870869, F1: 0.787865\n",
    "Average processing time: 0.010538292953000185\n",
    "\n",
    "q = 0.5\n",
    "Accuracy: 0.705640, Precision: 0.692832, Recall: 0.932526, F1: 0.795005\n",
    "Average processing time: 0.009844345190999842\n",
    "\n",
    "q = 0.4\n",
    "Accuracy: 0.681270, Precision: 0.670645, Recall: 0.941790, F1: 0.783420\n",
    "Average processing time: 0.009819024918999804"
   ]
  },
  {
   "cell_type": "markdown",
   "metadata": {},
   "source": [
    "gamma = 0.4, nu = 0.5\n",
    "\n",
    "q = 0.9\n",
    "Accuracy: 0.595190, Precision: 0.679190, Recall: 0.641785, F1: 0.659958\n",
    "Average processing time: 0.01231643264900004\n",
    "\n",
    "q = 0.75\n",
    "Accuracy: 0.689650, Precision: 0.679389, Recall: 0.933490, F1: 0.786424\n",
    "Average processing time: 0.009617321314999918\n",
    "\n",
    "q = 0.6\n",
    "Accuracy: 0.674460, Precision: 0.657233, Recall: 0.978435, F1: 0.786296\n",
    "Average processing time: 0.00864428338399999\n",
    "\n",
    "q = 0.5\n",
    "Accuracy: 0.662320, Precision: 0.645401, Recall: 0.994984, F1: 0.782943\n",
    "Average processing time: 0.008320944791000049\n",
    "\n",
    "q = 0.4\n",
    "Accuracy: 0.646690, Precision: 0.634498, Recall: 0.997239, F1: 0.775549\n",
    "Average processing time: 0.008356699530000037"
   ]
  }
 ],
 "metadata": {
  "kernelspec": {
   "display_name": "Python 3",
   "language": "python",
   "name": "python3"
  },
  "language_info": {
   "codemirror_mode": {
    "name": "ipython",
    "version": 3
   },
   "file_extension": ".py",
   "mimetype": "text/x-python",
   "name": "python",
   "nbconvert_exporter": "python",
   "pygments_lexer": "ipython3",
   "version": "3.9.1"
  }
 },
 "nbformat": 4,
 "nbformat_minor": 2
}
