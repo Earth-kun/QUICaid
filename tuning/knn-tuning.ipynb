{
 "cells": [
  {
   "cell_type": "code",
   "execution_count": 27,
   "metadata": {},
   "outputs": [],
   "source": [
    "from skmultiflow.meta import AdaptiveRandomForestClassifier\n",
    "\n",
    "from skmultiflow.data import FileStream             # create stream from file\n",
    "from sklearn.model_selection import ParameterGrid   # hyperparameter combinations\n",
    "\n",
    "from prequential import run_prequential\n",
    "\n",
    "import pandas as pd"
   ]
  },
  {
   "cell_type": "code",
   "execution_count": 28,
   "metadata": {},
   "outputs": [],
   "source": [
    "data_loader = FileStream(filepath='../merged.csv')"
   ]
  },
  {
   "cell_type": "code",
   "execution_count": 29,
   "metadata": {},
   "outputs": [
    {
     "name": "stdout",
     "output_type": "stream",
     "text": [
      "[[4.43000000e+02 1.33350000e+04 1.00000000e+00 ... 9.61118521e-02\n",
      "  9.44903759e-02 8.92843113e-03]\n",
      " [4.43000000e+02 1.33350000e+04 1.00000000e+00 ... 9.67718844e-02\n",
      "  2.34557365e-02 5.50171572e-04]\n",
      " [4.43000000e+02 1.33350000e+04 1.00000000e+00 ... 4.74462999e-01\n",
      "  3.11841899e-01 9.72453702e-02]\n",
      " ...\n",
      " [4.43000000e+02 1.33350000e+04 1.00000000e+00 ... 7.80520998e-01\n",
      "  1.14503742e-02 1.31111070e-04]\n",
      " [4.43000000e+02 1.33350000e+04 1.00000000e+00 ... 1.79963453e-01\n",
      "  1.60146083e-01 2.56467678e-02]\n",
      " [4.43000000e+02 1.33350000e+04 1.00000000e+00 ... 5.24419081e-02\n",
      "  1.01438357e-01 1.02897402e-02]]\n"
     ]
    }
   ],
   "source": [
    "ref_sample, _ = data_loader.next_sample(50)\n",
    "data_loader.reset()\n",
    "\n",
    "\n",
    "print(ref_sample)"
   ]
  },
  {
   "cell_type": "code",
   "execution_count": 30,
   "metadata": {},
   "outputs": [],
   "source": [
    "parameters = {\n",
    "    'n_neighbors': [5, 10],                                   # default = 5\n",
    "    'max_window_size': [250, 500, 1000],                            # default = 1000\n",
    "    'leaf_size': [5, 70, 100],                                    # default = 30\n",
    "    'metric': ['euclidean']                               # default = 'euclidean' \n",
    "}\n",
    "\n",
    "knn_grid = ParameterGrid(parameters)\n"
   ]
  },
  {
   "cell_type": "code",
   "execution_count": 31,
   "metadata": {},
   "outputs": [
    {
     "name": "stdout",
     "output_type": "stream",
     "text": [
      "Evaluating parameters: {'leaf_size': 5, 'max_window_size': 250, 'metric': 'euclidean', 'n_neighbors': 5}\n",
      "Accuracy: 0.98954000, Precision: 0.98867531, Recall: 0.98539604, F1: 0.98703295\n",
      "Average processing time: 0.0015393870919883192\n",
      "Evaluating parameters: {'leaf_size': 5, 'max_window_size': 250, 'metric': 'euclidean', 'n_neighbors': 10}\n",
      "Accuracy: 0.98950000, Precision: 0.98969585, Recall: 0.98425743, F1: 0.98696915\n",
      "Average processing time: 0.0014842931459957617\n",
      "Evaluating parameters: {'leaf_size': 5, 'max_window_size': 500, 'metric': 'euclidean', 'n_neighbors': 5}\n",
      "Accuracy: 0.97978000, Precision: 0.97812329, Recall: 0.97168317, F1: 0.97489259\n",
      "Average processing time: 0.002814194650020363\n",
      "Evaluating parameters: {'leaf_size': 5, 'max_window_size': 500, 'metric': 'euclidean', 'n_neighbors': 10}\n",
      "Accuracy: 0.97966000, Precision: 0.97983891, Recall: 0.96960396, F1: 0.97469457\n",
      "Average processing time: 0.003216634084004909\n",
      "Evaluating parameters: {'leaf_size': 5, 'max_window_size': 1000, 'metric': 'euclidean', 'n_neighbors': 5}\n",
      "Accuracy: 0.95954000, Precision: 0.95290776, Recall: 0.94663366, F1: 0.94976035\n",
      "Average processing time: 0.007887152172019414\n",
      "Evaluating parameters: {'leaf_size': 5, 'max_window_size': 1000, 'metric': 'euclidean', 'n_neighbors': 10}\n",
      "Accuracy: 0.95892000, Precision: 0.95652611, Recall: 0.94108911, F1: 0.94874482\n",
      "Average processing time: 0.0072362489759871095\n",
      "Evaluating parameters: {'leaf_size': 70, 'max_window_size': 250, 'metric': 'euclidean', 'n_neighbors': 5}\n",
      "Accuracy: 0.98954000, Precision: 0.98867531, Recall: 0.98539604, F1: 0.98703295\n",
      "Average processing time: 0.0008524312819994521\n",
      "Evaluating parameters: {'leaf_size': 70, 'max_window_size': 250, 'metric': 'euclidean', 'n_neighbors': 10}\n",
      "Accuracy: 0.98950000, Precision: 0.98969585, Recall: 0.98425743, F1: 0.98696915\n",
      "Average processing time: 0.0009160431559993594\n",
      "Evaluating parameters: {'leaf_size': 70, 'max_window_size': 500, 'metric': 'euclidean', 'n_neighbors': 5}\n",
      "Accuracy: 0.97978000, Precision: 0.97812329, Recall: 0.97168317, F1: 0.97489259\n",
      "Average processing time: 0.0018184049539995612\n",
      "Evaluating parameters: {'leaf_size': 70, 'max_window_size': 500, 'metric': 'euclidean', 'n_neighbors': 10}\n",
      "Accuracy: 0.97966000, Precision: 0.97983891, Recall: 0.96960396, F1: 0.97469457\n",
      "Average processing time: 0.0018495058180174964\n",
      "Evaluating parameters: {'leaf_size': 70, 'max_window_size': 1000, 'metric': 'euclidean', 'n_neighbors': 5}\n",
      "Accuracy: 0.95954000, Precision: 0.95290776, Recall: 0.94663366, F1: 0.94976035\n",
      "Average processing time: 0.003935206112011802\n",
      "Evaluating parameters: {'leaf_size': 70, 'max_window_size': 1000, 'metric': 'euclidean', 'n_neighbors': 10}\n",
      "Accuracy: 0.95892000, Precision: 0.95652611, Recall: 0.94108911, F1: 0.94874482\n",
      "Average processing time: 0.0041429165160068076\n",
      "Evaluating parameters: {'leaf_size': 100, 'max_window_size': 250, 'metric': 'euclidean', 'n_neighbors': 5}\n",
      "Accuracy: 0.98954000, Precision: 0.98867531, Recall: 0.98539604, F1: 0.98703295\n",
      "Average processing time: 0.0009862660759993014\n",
      "Evaluating parameters: {'leaf_size': 100, 'max_window_size': 250, 'metric': 'euclidean', 'n_neighbors': 10}\n",
      "Accuracy: 0.98950000, Precision: 0.98969585, Recall: 0.98425743, F1: 0.98696915\n",
      "Average processing time: 0.000948443109991058\n",
      "Evaluating parameters: {'leaf_size': 100, 'max_window_size': 500, 'metric': 'euclidean', 'n_neighbors': 5}\n",
      "Accuracy: 0.97978000, Precision: 0.97812329, Recall: 0.97168317, F1: 0.97489259\n",
      "Average processing time: 0.0016263643260049866\n",
      "Evaluating parameters: {'leaf_size': 100, 'max_window_size': 500, 'metric': 'euclidean', 'n_neighbors': 10}\n",
      "Accuracy: 0.97966000, Precision: 0.97983891, Recall: 0.96960396, F1: 0.97469457\n",
      "Average processing time: 0.0018741571819924866\n",
      "Evaluating parameters: {'leaf_size': 100, 'max_window_size': 1000, 'metric': 'euclidean', 'n_neighbors': 5}\n",
      "Accuracy: 0.95954000, Precision: 0.95290776, Recall: 0.94663366, F1: 0.94976035\n",
      "Average processing time: 0.003865822418007883\n",
      "Evaluating parameters: {'leaf_size': 100, 'max_window_size': 1000, 'metric': 'euclidean', 'n_neighbors': 10}\n",
      "Accuracy: 0.95892000, Precision: 0.95652611, Recall: 0.94108911, F1: 0.94874482\n",
      "Average processing time: 0.004431941586014145\n"
     ]
    }
   ],
   "source": [
    "best_params = None\n",
    "best_score = 0\n",
    "best_metrics = []\n",
    "\n",
    "results = []\n",
    "\n",
    "for params in knn_grid:\n",
    "    print(f\"Evaluating parameters: {params}\")\n",
    "    data_loader.restart()\n",
    "    train_data, _ = data_loader.next_sample(200)\n",
    "    test_data, _ = data_loader.next_sample(200)\n",
    "\n",
    "    # Update the classifier with the current parameters\n",
    "    knn = KNNClassifier(**params)\n",
    "\n",
    "    accuracy, precision, recall, f1, avg_processing_time = run_prequential(\n",
    "        classifier=knn,\n",
    "        stream=data_loader,\n",
    "        feature_selector=None,  # No feature selector\n",
    "        n_pretrain=200\n",
    "    )\n",
    "    print(f\"Accuracy: {accuracy:.8f}, Precision: {precision:.8f}, Recall: {recall:.8f}, F1: {f1:.8f}\")\n",
    "    print(f\"Average processing time: {avg_processing_time}\")\n",
    "    \n",
    "    avg_score = (accuracy + precision + recall + f1) / 4\n",
    "    \n",
    "    results.append({\n",
    "        **params,\n",
    "        'accuracy': accuracy,\n",
    "        'precision': precision,\n",
    "        'recall': recall,\n",
    "        'f1': f1,\n",
    "        'avg_score': avg_score,\n",
    "        'avg_processing_time': avg_processing_time\n",
    "    })\n",
    "\n",
    "    if (accuracy + precision + recall + f1) / 4 > best_score:\n",
    "        best_params = params\n",
    "        best_score = (accuracy + precision + recall + f1) / 4\n",
    "        best_metrics = [accuracy, precision, recall, f1]"
   ]
  },
  {
   "cell_type": "code",
   "execution_count": 32,
   "metadata": {},
   "outputs": [
    {
     "name": "stdout",
     "output_type": "stream",
     "text": [
      "Grid Search Completed.\n",
      "Best Parameters: {'leaf_size': 5, 'max_window_size': 250, 'metric': 'euclidean', 'n_neighbors': 5}\n",
      "Best Metrics: [0.98954, 0.9886753091938608, 0.9853960396039604, 0.9870329506855429]\n",
      "Results saved to knn-tuning-2.csv\n"
     ]
    }
   ],
   "source": [
    "# Save results to CSV\n",
    "df = pd.DataFrame(results)\n",
    "df.to_csv(\"knn-tuning-2.csv\", index=False)\n",
    "\n",
    "print(\"Grid Search Completed.\")\n",
    "print(f\"Best Parameters: {best_params}\")\n",
    "print(f\"Best Metrics: {best_metrics}\")\n",
    "print(\"Results saved to knn-tuning-2.csv\")\n"
   ]
  }
 ],
 "metadata": {
  "kernelspec": {
   "display_name": "Python 3",
   "language": "python",
   "name": "python3"
  },
  "language_info": {
   "codemirror_mode": {
    "name": "ipython",
    "version": 3
   },
   "file_extension": ".py",
   "mimetype": "text/x-python",
   "name": "python",
   "nbconvert_exporter": "python",
   "pygments_lexer": "ipython3",
   "version": "3.9.6"
  }
 },
 "nbformat": 4,
 "nbformat_minor": 2
}
