{
 "cells": [
  {
   "cell_type": "code",
   "execution_count": null,
   "metadata": {},
   "outputs": [],
   "source": [
    "from skmultiflow.meta import AdaptiveRandomForestClassifier\n",
    "from skmultiflow.drift_detection.adwin import ADWIN\n",
    "\n",
    "from float.feature_selection import FIRES           # online feature methods\n",
    "from skmultiflow.data import FileStream             # create stream from file\n",
    "from sklearn.model_selection import ParameterGrid   # hyperparameter combinations\n",
    "\n",
    "from prequential import run_prequential\n",
    "\n",
    "import tracemalloc\n",
    "import pandas as pd"
   ]
  },
  {
   "cell_type": "code",
   "execution_count": null,
   "metadata": {},
   "outputs": [],
   "source": [
    "data_loader = FileStream(filepath='../out.csv')"
   ]
  },
  {
   "cell_type": "code",
   "execution_count": null,
   "metadata": {},
   "outputs": [],
   "source": [
    "ref_sample, _ = data_loader.next_sample(50)\n",
    "data_loader.reset()"
   ]
  },
  {
   "cell_type": "code",
   "execution_count": null,
   "metadata": {},
   "outputs": [],
   "source": [
    "parameters = {\n",
    "    'penalty_s': [0.00001, 0.0001, 0.001, 0.01, 0.1],    # default=0.01\n",
    "    'penalty_r': [0.01, 0.1, 1],                # default=0.01\n",
    "    'lr_mu': [0.01, 0.025, 0.1, 1],         # default=0.01\n",
    "    'lr_sigma': [0.01, 0.025, 0.1],      # default=0.01    \n",
    "}\n",
    "\n",
    "fires_grid = ParameterGrid(parameters)"
   ]
  },
  {
   "cell_type": "code",
   "execution_count": null,
   "metadata": {},
   "outputs": [],
   "source": [
    "# warm up run before memory measurement\n",
    "\n",
    "run_prequential(\n",
    "    classifier=AdaptiveRandomForestClassifier(),\n",
    "    stream=data_loader,\n",
    "    feature_selector = FIRES(\n",
    "        n_total_features=data_loader.n_features,\n",
    "        n_selected_features=10,\n",
    "        classes=data_loader.target_values,\n",
    "        baseline='gaussian',\n",
    "        ref_sample=ref_sample\n",
    "    ),\n",
    "    preq_samples=10\n",
    ")"
   ]
  },
  {
   "cell_type": "code",
   "execution_count": null,
   "metadata": {},
   "outputs": [],
   "source": [
    "best_params = None\n",
    "best_score = 0\n",
    "best_metrics = []\n",
    "\n",
    "results = []\n",
    "\n",
    "for params in fires_grid:\n",
    "    print(f\"Evaluating parameters: {params}\")\n",
    "    data_loader.restart()\n",
    "\n",
    "    tracemalloc.start()\n",
    "\n",
    "    accuracy, precision, recall, f1, avg_processing_time = run_prequential(\n",
    "        classifier=AdaptiveRandomForestClassifier(),\n",
    "        stream=data_loader,\n",
    "        feature_selector = FIRES(\n",
    "                **params,\n",
    "                n_total_features=data_loader.n_features,\n",
    "                n_selected_features=10,\n",
    "                classes=data_loader.target_values,\n",
    "                baseline='gaussian',\n",
    "                ref_sample=ref_sample\n",
    "        ),\n",
    "        # preq_samples=100\n",
    "    )\n",
    "\n",
    "    current_mem, peak_mem = tracemalloc.get_traced_memory()\n",
    "    tracemalloc.stop()\n",
    "\n",
    "    print(f\"Accuracy: {accuracy:.6f}, Precision: {precision:.6f}, Recall: {recall:.6f}, F1: {f1:.6f}\")\n",
    "    print(f\"Average processing time: {avg_processing_time}\")\n",
    "    print(f\"Current memory usage (KB): {current_mem / 1024}\")\n",
    "    print(f\"Peak memory usage (KB): {peak_mem / 1024}\")\n",
    "\n",
    "    avg_score = (accuracy + precision + recall + f1) / 4\n",
    "\n",
    "    if avg_score > best_score:\n",
    "        best_params = params\n",
    "        best_score = avg_score\n",
    "        best_metrics = [accuracy, precision, recall, f1]\n",
    "    \n",
    "    results.append({\n",
    "        **params,\n",
    "        'accuracy': accuracy,\n",
    "        'precision': precision,\n",
    "        'recall': recall,\n",
    "        'f1': f1,\n",
    "        'avg_score': avg_score,\n",
    "        'avg_processing_time': avg_processing_time\n",
    "    })\n",
    "\n",
    "print(\"Grid Search Completed.\")\n",
    "print(f\"Best Parameters: {best_params}\")\n",
    "print(f\"Best Metrics: {best_metrics}\")"
   ]
  },
  {
   "cell_type": "code",
   "execution_count": null,
   "metadata": {},
   "outputs": [],
   "source": [
    "results_df = pd.DataFrame(results)\n",
    "# results_df.to_csv(\"fires-tuning.csv\", index=False)"
   ]
  }
 ],
 "metadata": {
  "kernelspec": {
   "display_name": "Python 3",
   "language": "python",
   "name": "python3"
  },
  "language_info": {
   "codemirror_mode": {
    "name": "ipython",
    "version": 3
   },
   "file_extension": ".py",
   "mimetype": "text/x-python",
   "name": "python",
   "nbconvert_exporter": "python",
   "pygments_lexer": "ipython3",
   "version": "3.9.1"
  }
 },
 "nbformat": 4,
 "nbformat_minor": 2
}
