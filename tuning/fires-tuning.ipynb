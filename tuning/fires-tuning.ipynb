{
 "cells": [
  {
   "cell_type": "code",
   "execution_count": null,
   "metadata": {},
   "outputs": [],
   "source": [
    "from skmultiflow.meta import AdaptiveRandomForestClassifier\n",
    "from skmultiflow.drift_detection.adwin import ADWIN\n",
    "\n",
    "from float.feature_selection import FIRES           # online feature methods\n",
    "from skmultiflow.data import FileStream             # create stream from file\n",
    "from sklearn.metrics import accuracy_score, precision_score, recall_score, f1_score\n",
    "from sklearn.model_selection import ParameterGrid   # hyperparameter combinations"
   ]
  },
  {
   "cell_type": "code",
   "execution_count": null,
   "metadata": {},
   "outputs": [],
   "source": [
    "data_loader = FileStream(filepath='../out.csv')"
   ]
  },
  {
   "cell_type": "code",
   "execution_count": null,
   "metadata": {},
   "outputs": [],
   "source": [
    "ref_sample, _ = data_loader.next_sample(50)\n",
    "data_loader.reset()\n",
    "\n",
    "fires_fs = FIRES(n_total_features=data_loader.n_features,\n",
    "                n_selected_features=10,\n",
    "                classes=data_loader.target_values,\n",
    "                ref_sample=ref_sample)"
   ]
  },
  {
   "cell_type": "code",
   "execution_count": null,
   "metadata": {},
   "outputs": [],
   "source": [
    "parameters = {\n",
    "    'penalty_s': [0.00001, 0.0001, 0.001, 0.01, 0.1, 1, 10, 100, 1000],    # default=0.01\n",
    "    'penalty_r': [0.01, 0.1, 1],                # default=0.01\n",
    "    'lr_mu': [0.01, 0.025, 0.1, 1, 10],         # default=0.01\n",
    "    'lr_sigma': [0.01, 0.025, 0.1, 1, 10],      # default=0.01    \n",
    "    'baseline': ['constant', 'gaussian']        # default='constant'\n",
    "}\n",
    "\n",
    "fires_grid = ParameterGrid(parameters)"
   ]
  }
 ],
 "metadata": {
  "kernelspec": {
   "display_name": "Python 3",
   "language": "python",
   "name": "python3"
  },
  "language_info": {
   "name": "python",
   "version": "3.9.1"
  }
 },
 "nbformat": 4,
 "nbformat_minor": 2
}
