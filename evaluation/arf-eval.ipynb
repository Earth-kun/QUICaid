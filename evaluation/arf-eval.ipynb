{
 "cells": [
  {
   "cell_type": "markdown",
   "metadata": {},
   "source": [
    "## ARF Evaluations"
   ]
  },
  {
   "cell_type": "code",
   "execution_count": null,
   "metadata": {},
   "outputs": [],
   "source": [
    "from prequential import run_prequential\n",
    "\n",
    "from skmultiflow.meta import AdaptiveRandomForestClassifier\n",
    "from skmultiflow.drift_detection.adwin import ADWIN\n",
    "\n",
    "from float.feature_selection import FIRES, OFS           # online feature methods\n",
    "from skmultiflow.data import FileStream             # create stream from file\n",
    "\n",
    "import pandas as pd"
   ]
  },
  {
   "cell_type": "code",
   "execution_count": null,
   "metadata": {},
   "outputs": [],
   "source": [
    "data_loader = FileStream(filepath='../merged_cesnet.csv')"
   ]
  },
  {
   "cell_type": "code",
   "execution_count": null,
   "metadata": {},
   "outputs": [],
   "source": [
    "ref_sample, _ = data_loader.next_sample(50)\n",
    "data_loader.reset()"
   ]
  },
  {
   "cell_type": "code",
   "execution_count": null,
   "metadata": {},
   "outputs": [],
   "source": [
    "arf_params = {\n",
    "    'n_estimators': 6,\n",
    "    'max_features': \"auto\",\n",
    "    'drift_detection_method': ADWIN(0.9),\n",
    "    'warning_detection_method': ADWIN(0.9),\n",
    "    'grace_period': 25,\n",
    "    'split_criterion': \"gini\",\n",
    "    'split_confidence': 0.01,\n",
    "    'tie_threshold': 0.01,\n",
    "    'leaf_prediction': \"nba\"\n",
    "}\n",
    "\n",
    "fires_params = {\n",
    "    'penalty_s': 0.1,\n",
    "    'penalty_r': 1,\n",
    "    'lr_mu': 0.025,\n",
    "    'lr_sigma': 0.1,\n",
    "    'n_total_features': data_loader.n_features,\n",
    "    'n_selected_features': 10,\n",
    "    'classes': data_loader.target_values,\n",
    "    'baseline': \"gaussian\",\n",
    "    'ref_sample': ref_sample\n",
    "}\n",
    "\n",
    "ofs_params = {\n",
    "    'n_selected_features': 5,\n",
    "    'n_total_features': data_loader.n_features,\n",
    "    'baseline': \"gaussian\",\n",
    "    'ref_sample': ref_sample    \n",
    "}"
   ]
  },
  {
   "cell_type": "markdown",
   "metadata": {},
   "source": [
    "### Without ADWIN"
   ]
  },
  {
   "cell_type": "code",
   "execution_count": null,
   "metadata": {},
   "outputs": [],
   "source": [
    "# no feature selection\n",
    "print(\"EVALUATING: ARF\")\n",
    "accuracy, precision, recall, f1, auc, avg_processing_time, _ = run_prequential(\n",
    "    classifier=AdaptiveRandomForestClassifier(\n",
    "        **(arf_params | {'drift_detection_method': None, 'warning_detection_method': None})\n",
    "    ), \n",
    "    stream=data_loader, \n",
    "    feature_selector=None, \n",
    "    drift_detection=None, \n",
    "    preq_samples=data_loader.n_remaining_samples()\n",
    ")\n",
    "print(f\"Accuracy: {accuracy:.6f}, Precision: {precision:.6f}, Recall: {recall:.6f}, F1: {f1:.6f}, AUC: {auc:.6f}\")\n",
    "print(f\"Average processing time: {avg_processing_time}\")\n",
    "\n",
    "# FIRES\n",
    "print(\"EVALUATING: ARF + FIRES\")\n",
    "accuracy, precision, recall, f1, auc, avg_processing_time, _, _, _ = run_prequential(\n",
    "    classifier=AdaptiveRandomForestClassifier(\n",
    "        **(arf_params | {'max_features': None, 'drift_detection_method': None, 'warning_detection_method': None})\n",
    "    ), \n",
    "    stream=data_loader, \n",
    "    feature_selector=FIRES(**fires_params), \n",
    "    drift_detection=None, \n",
    "    preq_samples=data_loader.n_remaining_samples()\n",
    ")\n",
    "print(f\"Accuracy: {accuracy:.6f}, Precision: {precision:.6f}, Recall: {recall:.6f}, F1: {f1:.6f}, AUC: {auc:.6f}\")\n",
    "print(f\"Average processing time: {avg_processing_time}\")\n",
    "\n",
    "# OFS\n",
    "print(\"EVALUATING: ARF + OFS\")\n",
    "accuracy, precision, recall, f1, auc, avg_processing_time, _, _, _ = run_prequential(\n",
    "    classifier=AdaptiveRandomForestClassifier(\n",
    "        **(arf_params | {'max_features': None, 'drift_detection_method': None, 'warning_detection_method': None})\n",
    "    ),  \n",
    "    stream=data_loader, \n",
    "    feature_selector=OFS(**ofs_params), \n",
    "    drift_detection=None, \n",
    "    preq_samples=data_loader.n_remaining_samples()\n",
    ")\n",
    "print(f\"Accuracy: {accuracy:.6f}, Precision: {precision:.6f}, Recall: {recall:.6f}, F1: {f1:.6f}, AUC: {auc:.6f}\")\n",
    "print(f\"Average processing time: {avg_processing_time}\")"
   ]
  },
  {
   "cell_type": "markdown",
   "metadata": {},
   "source": [
    "### With ADWIN"
   ]
  },
  {
   "cell_type": "code",
   "execution_count": null,
   "metadata": {},
   "outputs": [],
   "source": [
    "# no feature selection\n",
    "print(\"EVALUATING: ARF + ADWIN\")\n",
    "accuracy, precision, recall, f1, auc, avg_processing_time, drift_idx_list = run_prequential(\n",
    "    classifier=AdaptiveRandomForestClassifier(**arf_params), \n",
    "    stream=data_loader, \n",
    "    feature_selector=None, \n",
    "    drift_detection=ADWIN(), \n",
    "    preq_samples=data_loader.n_remaining_samples()\n",
    ")\n",
    "print(f\"Accuracy: {accuracy:.6f}, Precision: {precision:.6f}, Recall: {recall:.6f}, F1: {f1:.6f}, AUC: {auc:.6f}\")\n",
    "print(f\"Average processing time: {avg_processing_time}\")\n",
    "print(drift_idx_list)\n",
    "\n",
    "# FIRES\n",
    "print(\"EVALUATING: ARF + ADWIN + FIRES\")\n",
    "accuracy, precision, recall, f1, auc, avg_processing_time, _, _, drift_idx_list = run_prequential(\n",
    "    classifier=AdaptiveRandomForestClassifier(**arf_params), \n",
    "    stream=data_loader, \n",
    "    feature_selector=FIRES(**fires_params), \n",
    "    drift_detection=ADWIN(), \n",
    "    preq_samples=data_loader.n_remaining_samples()\n",
    ")\n",
    "print(f\"Accuracy: {accuracy:.6f}, Precision: {precision:.6f}, Recall: {recall:.6f}, F1: {f1:.6f}, AUC: {auc:.6f}\")\n",
    "print(f\"Average processing time: {avg_processing_time}\")\n",
    "print(drift_idx_list)\n",
    "\n",
    "# OFS\n",
    "print(\"EVALUATING: ARF + ADWIN + OFS\")\n",
    "accuracy, precision, recall, f1, auc, avg_processing_time, _, _, drift_idx_list = run_prequential(\n",
    "    classifier=AdaptiveRandomForestClassifier(**arf_params), \n",
    "    stream=data_loader, \n",
    "    feature_selector=OFS(**ofs_params), \n",
    "    drift_detection=ADWIN(), \n",
    "    preq_samples=data_loader.n_remaining_samples()\n",
    ")\n",
    "print(f\"Accuracy: {accuracy:.6f}, Precision: {precision:.6f}, Recall: {recall:.6f}, F1: {f1:.6f}, AUC: {auc:.6f}\")\n",
    "print(f\"Average processing time: {avg_processing_time}\")\n",
    "print(drift_idx_list)"
   ]
  }
 ],
 "metadata": {
  "kernelspec": {
   "display_name": "Python 3",
   "language": "python",
   "name": "python3"
  },
  "language_info": {
   "codemirror_mode": {
    "name": "ipython",
    "version": 3
   },
   "file_extension": ".py",
   "mimetype": "text/x-python",
   "name": "python",
   "nbconvert_exporter": "python",
   "pygments_lexer": "ipython3",
   "version": "3.9.1"
  }
 },
 "nbformat": 4,
 "nbformat_minor": 2
}
