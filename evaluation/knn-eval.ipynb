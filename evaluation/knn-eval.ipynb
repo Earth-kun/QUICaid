{
 "cells": [
  {
   "cell_type": "markdown",
   "metadata": {},
   "source": [
    "## KNN Evaluations"
   ]
  },
  {
   "cell_type": "code",
   "execution_count": 2,
   "metadata": {},
   "outputs": [],
   "source": [
    "from prequential import run_prequential\n",
    "\n",
    "from skmultiflow.lazy import KNNClassifier, KNNADWINClassifier\n",
    "from skmultiflow.drift_detection.adwin import ADWIN\n",
    "\n",
    "from float.feature_selection import FIRES, OFS           # online feature methods\n",
    "from skmultiflow.data import FileStream             # create stream from file\n",
    "\n",
    "import pandas as pd"
   ]
  },
  {
   "cell_type": "code",
   "execution_count": 5,
   "metadata": {},
   "outputs": [],
   "source": [
    "data_loader = FileStream(filepath='merged_cesnet.csv')"
   ]
  },
  {
   "cell_type": "code",
   "execution_count": 6,
   "metadata": {},
   "outputs": [],
   "source": [
    "ref_sample, _ = data_loader.next_sample(50)\n",
    "data_loader.reset()"
   ]
  },
  {
   "cell_type": "code",
   "execution_count": null,
   "metadata": {},
   "outputs": [],
   "source": [
    "knn_params = {\n",
    "    'n_neighbors': 5,\n",
    "    'leaf_size': 5,\n",
    "    'max_window_size': 250,\n",
    "    'metric': 'euclidean'\n",
    "}\n",
    "\n",
    "fires_params = {\n",
    "    'penalty_s': 0.1,\n",
    "    'penalty_r': 1,\n",
    "    'lr_mu': 0.025,\n",
    "    'lr_sigma': 0.1,\n",
    "    'n_total_features': data_loader.n_features,\n",
    "    'n_selected_features': 10,\n",
    "    'classes': data_loader.target_values,\n",
    "    'baseline': \"gaussian\",\n",
    "    'ref_sample': ref_sample\n",
    "}\n",
    "\n",
    "ofs_params = {\n",
    "    'n_selected_features': 5,\n",
    "    'n_total_features': data_loader.n_features,\n",
    "    'baseline': \"gaussian\",\n",
    "    'ref_sample': ref_sample    \n",
    "}"
   ]
  },
  {
   "cell_type": "markdown",
   "metadata": {},
   "source": [
    "### Without ADWIN"
   ]
  },
  {
   "cell_type": "code",
   "execution_count": 11,
   "metadata": {},
   "outputs": [
    {
     "name": "stdout",
     "output_type": "stream",
     "text": [
      "EVALUATING: KNN\n"
     ]
    },
    {
     "ename": "KeyboardInterrupt",
     "evalue": "",
     "output_type": "error",
     "traceback": [
      "\u001b[1;31m---------------------------------------------------------------------------\u001b[0m",
      "\u001b[1;31mKeyboardInterrupt\u001b[0m                         Traceback (most recent call last)",
      "Cell \u001b[1;32mIn[11], line 3\u001b[0m\n\u001b[0;32m      1\u001b[0m \u001b[38;5;66;03m# no feature selection\u001b[39;00m\n\u001b[0;32m      2\u001b[0m \u001b[38;5;28mprint\u001b[39m(\u001b[38;5;124m\"\u001b[39m\u001b[38;5;124mEVALUATING: KNN\u001b[39m\u001b[38;5;124m\"\u001b[39m)\n\u001b[1;32m----> 3\u001b[0m accuracy, precision, recall, f1, auc, avg_processing_time, _ \u001b[38;5;241m=\u001b[39m \u001b[43mrun_prequential\u001b[49m\u001b[43m(\u001b[49m\n\u001b[0;32m      4\u001b[0m \u001b[43m    \u001b[49m\u001b[43mclassifier\u001b[49m\u001b[38;5;241;43m=\u001b[39;49m\u001b[43mKNNClassifier\u001b[49m\u001b[43m(\u001b[49m\n\u001b[0;32m      5\u001b[0m \u001b[43m        \u001b[49m\u001b[38;5;241;43m*\u001b[39;49m\u001b[38;5;241;43m*\u001b[39;49m\u001b[43m(\u001b[49m\u001b[43mknn_params\u001b[49m\u001b[43m)\u001b[49m\n\u001b[0;32m      6\u001b[0m \u001b[43m    \u001b[49m\u001b[43m)\u001b[49m\u001b[43m,\u001b[49m\u001b[43m \u001b[49m\n\u001b[0;32m      7\u001b[0m \u001b[43m    \u001b[49m\u001b[43mstream\u001b[49m\u001b[38;5;241;43m=\u001b[39;49m\u001b[43mdata_loader\u001b[49m\u001b[43m,\u001b[49m\u001b[43m \u001b[49m\n\u001b[0;32m      8\u001b[0m \u001b[43m    \u001b[49m\u001b[43mfeature_selector\u001b[49m\u001b[38;5;241;43m=\u001b[39;49m\u001b[38;5;28;43;01mNone\u001b[39;49;00m\u001b[43m,\u001b[49m\u001b[43m \u001b[49m\n\u001b[0;32m      9\u001b[0m \u001b[43m    \u001b[49m\u001b[43mdrift_detection\u001b[49m\u001b[38;5;241;43m=\u001b[39;49m\u001b[38;5;28;43;01mNone\u001b[39;49;00m\u001b[43m,\u001b[49m\u001b[43m \u001b[49m\n\u001b[0;32m     10\u001b[0m \u001b[43m    \u001b[49m\u001b[43mpreq_samples\u001b[49m\u001b[38;5;241;43m=\u001b[39;49m\u001b[43mdata_loader\u001b[49m\u001b[38;5;241;43m.\u001b[39;49m\u001b[43mn_remaining_samples\u001b[49m\u001b[43m(\u001b[49m\u001b[43m)\u001b[49m\n\u001b[0;32m     11\u001b[0m \u001b[43m)\u001b[49m\n\u001b[0;32m     12\u001b[0m \u001b[38;5;28mprint\u001b[39m(\u001b[38;5;124mf\u001b[39m\u001b[38;5;124m\"\u001b[39m\u001b[38;5;124mAccuracy: \u001b[39m\u001b[38;5;132;01m{\u001b[39;00maccuracy\u001b[38;5;132;01m:\u001b[39;00m\u001b[38;5;124m.6f\u001b[39m\u001b[38;5;132;01m}\u001b[39;00m\u001b[38;5;124m, Precision: \u001b[39m\u001b[38;5;132;01m{\u001b[39;00mprecision\u001b[38;5;132;01m:\u001b[39;00m\u001b[38;5;124m.6f\u001b[39m\u001b[38;5;132;01m}\u001b[39;00m\u001b[38;5;124m, Recall: \u001b[39m\u001b[38;5;132;01m{\u001b[39;00mrecall\u001b[38;5;132;01m:\u001b[39;00m\u001b[38;5;124m.6f\u001b[39m\u001b[38;5;132;01m}\u001b[39;00m\u001b[38;5;124m, F1: \u001b[39m\u001b[38;5;132;01m{\u001b[39;00mf1\u001b[38;5;132;01m:\u001b[39;00m\u001b[38;5;124m.6f\u001b[39m\u001b[38;5;132;01m}\u001b[39;00m\u001b[38;5;124m, AUC: \u001b[39m\u001b[38;5;132;01m{\u001b[39;00mauc\u001b[38;5;132;01m:\u001b[39;00m\u001b[38;5;124m.6f\u001b[39m\u001b[38;5;132;01m}\u001b[39;00m\u001b[38;5;124m\"\u001b[39m)\n\u001b[0;32m     13\u001b[0m \u001b[38;5;28mprint\u001b[39m(\u001b[38;5;124mf\u001b[39m\u001b[38;5;124m\"\u001b[39m\u001b[38;5;124mAverage processing time: \u001b[39m\u001b[38;5;132;01m{\u001b[39;00mavg_processing_time\u001b[38;5;132;01m}\u001b[39;00m\u001b[38;5;124m\"\u001b[39m)\n",
      "File \u001b[1;32mc:\\Users\\Jamielane Figueroa\\Documents\\GitHub\\QUICaid\\evaluation\\prequential.py:59\u001b[0m, in \u001b[0;36mrun_prequential\u001b[1;34m(classifier, stream, feature_selector, drift_detection, n_pretrain, preq_samples)\u001b[0m\n\u001b[0;32m     55\u001b[0m \u001b[38;5;66;03m# no feature selection\u001b[39;00m\n\u001b[0;32m     56\u001b[0m \u001b[38;5;28;01melse\u001b[39;00m:\n\u001b[0;32m     57\u001b[0m     \u001b[38;5;66;03m# Test first\u001b[39;00m\n\u001b[0;32m     58\u001b[0m     \u001b[38;5;28;01mif\u001b[39;00m \u001b[38;5;28misinstance\u001b[39m(classifier, AdaptiveRandomForestClassifier) \u001b[38;5;129;01mor\u001b[39;00m \u001b[38;5;28misinstance\u001b[39m(classifier, KNNClassifier) \u001b[38;5;129;01mor\u001b[39;00m \u001b[38;5;28misinstance\u001b[39m(classifier, KNNADWINClassifier):\n\u001b[1;32m---> 59\u001b[0m         y_pred \u001b[38;5;241m=\u001b[39m \u001b[43mclassifier\u001b[49m\u001b[38;5;241;43m.\u001b[39;49m\u001b[43mpredict\u001b[49m\u001b[43m(\u001b[49m\u001b[43mX\u001b[49m\u001b[43m)\u001b[49m\n\u001b[0;32m     60\u001b[0m     \u001b[38;5;28;01melse\u001b[39;00m:\n\u001b[0;32m     61\u001b[0m         score \u001b[38;5;241m=\u001b[39m classifier\u001b[38;5;241m.\u001b[39mscore_one(\u001b[38;5;28mdict\u001b[39m(\u001b[38;5;28menumerate\u001b[39m(\u001b[38;5;241m*\u001b[39mX)))\n",
      "File \u001b[1;32mc:\\Users\\Jamielane Figueroa\\AppData\\Local\\Programs\\Python\\Python39\\lib\\site-packages\\skmultiflow\\lazy\\knn_classifier.py:148\u001b[0m, in \u001b[0;36mKNNClassifier.predict\u001b[1;34m(self, X)\u001b[0m\n\u001b[0;32m    133\u001b[0m \u001b[38;5;28;01mdef\u001b[39;00m \u001b[38;5;21mpredict\u001b[39m(\u001b[38;5;28mself\u001b[39m, X):\n\u001b[0;32m    134\u001b[0m \u001b[38;5;250m    \u001b[39m\u001b[38;5;124;03m\"\"\" Predict the class label for sample X\u001b[39;00m\n\u001b[0;32m    135\u001b[0m \u001b[38;5;124;03m    \u001b[39;00m\n\u001b[0;32m    136\u001b[0m \u001b[38;5;124;03m    Parameters\u001b[39;00m\n\u001b[1;32m   (...)\u001b[0m\n\u001b[0;32m    146\u001b[0m \u001b[38;5;124;03m    \u001b[39;00m\n\u001b[0;32m    147\u001b[0m \u001b[38;5;124;03m    \"\"\"\u001b[39;00m\n\u001b[1;32m--> 148\u001b[0m     y_proba \u001b[38;5;241m=\u001b[39m \u001b[38;5;28;43mself\u001b[39;49m\u001b[38;5;241;43m.\u001b[39;49m\u001b[43mpredict_proba\u001b[49m\u001b[43m(\u001b[49m\u001b[43mX\u001b[49m\u001b[43m)\u001b[49m\n\u001b[0;32m    149\u001b[0m     y_pred \u001b[38;5;241m=\u001b[39m np\u001b[38;5;241m.\u001b[39margmax(y_proba, axis\u001b[38;5;241m=\u001b[39m\u001b[38;5;241m1\u001b[39m)\n\u001b[0;32m    150\u001b[0m     \u001b[38;5;28;01mreturn\u001b[39;00m y_pred\n",
      "File \u001b[1;32mc:\\Users\\Jamielane Figueroa\\AppData\\Local\\Programs\\Python\\Python39\\lib\\site-packages\\skmultiflow\\lazy\\knn_classifier.py:177\u001b[0m, in \u001b[0;36mKNNClassifier.predict_proba\u001b[1;34m(self, X)\u001b[0m\n\u001b[0;32m    172\u001b[0m proba \u001b[38;5;241m=\u001b[39m []\n\u001b[0;32m    174\u001b[0m \u001b[38;5;28mself\u001b[39m\u001b[38;5;241m.\u001b[39mclasses \u001b[38;5;241m=\u001b[39m \u001b[38;5;28mlist\u001b[39m(\u001b[38;5;28mset\u001b[39m()\u001b[38;5;241m.\u001b[39munion(\u001b[38;5;28mself\u001b[39m\u001b[38;5;241m.\u001b[39mclasses,\n\u001b[0;32m    175\u001b[0m                                 np\u001b[38;5;241m.\u001b[39munique(\u001b[38;5;28mself\u001b[39m\u001b[38;5;241m.\u001b[39mdata_window\u001b[38;5;241m.\u001b[39mtargets_buffer\u001b[38;5;241m.\u001b[39mastype(np\u001b[38;5;241m.\u001b[39mint))))\n\u001b[1;32m--> 177\u001b[0m new_dist, new_ind \u001b[38;5;241m=\u001b[39m \u001b[38;5;28;43mself\u001b[39;49m\u001b[38;5;241;43m.\u001b[39;49m\u001b[43m_get_neighbors\u001b[49m\u001b[43m(\u001b[49m\u001b[43mX\u001b[49m\u001b[43m)\u001b[49m\n\u001b[0;32m    178\u001b[0m \u001b[38;5;28;01mfor\u001b[39;00m i \u001b[38;5;129;01min\u001b[39;00m \u001b[38;5;28mrange\u001b[39m(r):\n\u001b[0;32m    179\u001b[0m     votes \u001b[38;5;241m=\u001b[39m [\u001b[38;5;241m0.0\u001b[39m \u001b[38;5;28;01mfor\u001b[39;00m _ \u001b[38;5;129;01min\u001b[39;00m \u001b[38;5;28mrange\u001b[39m(\u001b[38;5;28mint\u001b[39m(\u001b[38;5;28mmax\u001b[39m(\u001b[38;5;28mself\u001b[39m\u001b[38;5;241m.\u001b[39mclasses) \u001b[38;5;241m+\u001b[39m \u001b[38;5;241m1\u001b[39m))]\n",
      "File \u001b[1;32mc:\\Users\\Jamielane Figueroa\\AppData\\Local\\Programs\\Python\\Python39\\lib\\site-packages\\skmultiflow\\lazy\\base_neighbors.py:27\u001b[0m, in \u001b[0;36mBaseNeighbors._get_neighbors\u001b[1;34m(self, X)\u001b[0m\n\u001b[0;32m     25\u001b[0m \u001b[38;5;28;01mdef\u001b[39;00m \u001b[38;5;21m_get_neighbors\u001b[39m(\u001b[38;5;28mself\u001b[39m, X):\n\u001b[0;32m     26\u001b[0m     tree \u001b[38;5;241m=\u001b[39m KDTree(\u001b[38;5;28mself\u001b[39m\u001b[38;5;241m.\u001b[39mdata_window\u001b[38;5;241m.\u001b[39mfeatures_buffer, \u001b[38;5;28mself\u001b[39m\u001b[38;5;241m.\u001b[39mleaf_size, metric\u001b[38;5;241m=\u001b[39m\u001b[38;5;28mself\u001b[39m\u001b[38;5;241m.\u001b[39mmetric)\n\u001b[1;32m---> 27\u001b[0m     dist, idx \u001b[38;5;241m=\u001b[39m \u001b[43mtree\u001b[49m\u001b[38;5;241;43m.\u001b[39;49m\u001b[43mquery\u001b[49m\u001b[43m(\u001b[49m\u001b[43mX\u001b[49m\u001b[38;5;241;43m=\u001b[39;49m\u001b[43mX\u001b[49m\u001b[43m,\u001b[49m\n\u001b[0;32m     28\u001b[0m \u001b[43m                           \u001b[49m\u001b[43mk\u001b[49m\u001b[38;5;241;43m=\u001b[39;49m\u001b[38;5;28;43mself\u001b[39;49m\u001b[38;5;241;43m.\u001b[39;49m\u001b[43mn_neighbors\u001b[49m\u001b[43m)\u001b[49m\n\u001b[0;32m     29\u001b[0m     \u001b[38;5;28;01mreturn\u001b[39;00m dist, idx\n",
      "\u001b[1;31mKeyboardInterrupt\u001b[0m: "
     ]
    }
   ],
   "source": [
    "# no feature selection\n",
    "print(\"EVALUATING: KNN\")\n",
    "accuracy, precision, recall, f1, auc, avg_processing_time, _ = run_prequential(\n",
    "    classifier=KNNClassifier(**knn_params), \n",
    "    stream=data_loader, \n",
    "    feature_selector=None, \n",
    "    drift_detection=None, \n",
    "    preq_samples=data_loader.n_remaining_samples()\n",
    ")\n",
    "print(f\"Accuracy: {accuracy:.6f}, Precision: {precision:.6f}, Recall: {recall:.6f}, F1: {f1:.6f}, AUC: {auc:.6f}\")\n",
    "print(f\"Average processing time: {avg_processing_time}\")\n",
    "\n",
    "# FIRES\n",
    "print(\"EVALUATING: KNN + FIRES\")\n",
    "accuracy, precision, recall, f1, auc, avg_processing_time, _, _, _ = run_prequential(\n",
    "    classifier=KNNClassifier(**knn_params),\n",
    "    stream=data_loader, \n",
    "    feature_selector=FIRES(**fires_params), \n",
    "    drift_detection=None, \n",
    "    preq_samples=data_loader.n_remaining_samples()\n",
    ")\n",
    "print(f\"Accuracy: {accuracy:.6f}, Precision: {precision:.6f}, Recall: {recall:.6f}, F1: {f1:.6f}, AUC: {auc:.6f}\")\n",
    "print(f\"Average processing time: {avg_processing_time}\")\n",
    "\n",
    "# OFS\n",
    "print(\"EVALUATING: KNN + OFS\")\n",
    "accuracy, precision, recall, f1, auc, avg_processing_time, _, _, _ = run_prequential(\n",
    "    classifier=KNNClassifier(**knn_params),  \n",
    "    stream=data_loader, \n",
    "    feature_selector=OFS(**ofs_params), \n",
    "    drift_detection=None, \n",
    "    preq_samples=data_loader.n_remaining_samples()\n",
    ")\n",
    "print(f\"Accuracy: {accuracy:.6f}, Precision: {precision:.6f}, Recall: {recall:.6f}, F1: {f1:.6f}, AUC: {auc:.6f}\")\n",
    "print(f\"Average processing time: {avg_processing_time}\")"
   ]
  },
  {
   "cell_type": "markdown",
   "metadata": {},
   "source": [
    "### With ADWIN"
   ]
  },
  {
   "cell_type": "code",
   "execution_count": null,
   "metadata": {},
   "outputs": [],
   "source": [
    "knn_adwin = KNNADWINClassifier(**knn_params)\n",
    "knn_adwin.adwin = ADWIN(0.9)\n",
    "\n",
    "# no feature selection\n",
    "print(\"EVALUATING: KNN + ADWIN\")\n",
    "accuracy, precision, recall, f1, auc, avg_processing_time, drift_idx_list = run_prequential(\n",
    "    classifier=knn_adwin, \n",
    "    stream=data_loader, \n",
    "    feature_selector=None,  \n",
    "    preq_samples=data_loader.n_remaining_samples()\n",
    ")\n",
    "print(f\"Accuracy: {accuracy:.6f}, Precision: {precision:.6f}, Recall: {recall:.6f}, F1: {f1:.6f}, AUC: {auc:.6f}\")\n",
    "print(f\"Average processing time: {avg_processing_time}\")\n",
    "print(drift_idx_list)\n",
    "\n",
    "\n",
    "knn_adwin = KNNADWINClassifier(**knn_params)\n",
    "knn_adwin.adwin = ADWIN(0.9)\n",
    "\n",
    "# FIRES\n",
    "print(\"EVALUATING: KNN + ADWIN + FIRES\")\n",
    "accuracy, precision, recall, f1, auc, avg_processing_time, _, _, drift_idx_list = run_prequential(\n",
    "    classifier=knn_adwin, \n",
    "    stream=data_loader, \n",
    "    feature_selector=FIRES(**fires_params), \n",
    "    preq_samples=data_loader.n_remaining_samples()\n",
    ")\n",
    "print(f\"Accuracy: {accuracy:.6f}, Precision: {precision:.6f}, Recall: {recall:.6f}, F1: {f1:.6f}, AUC: {auc:.6f}\")\n",
    "print(f\"Average processing time: {avg_processing_time}\")\n",
    "print(drift_idx_list)\n",
    "\n",
    "\n",
    "knn_adwin = KNNADWINClassifier(**knn_params)\n",
    "knn_adwin.adwin = ADWIN(0.9)\n",
    "\n",
    "\n",
    "# OFS\n",
    "print(\"EVALUATING: KNN + ADWIN + OFS\")\n",
    "accuracy, precision, recall, f1, auc, avg_processing_time, _, _, drift_idx_list = run_prequential(\n",
    "    classifier=knn_adwin, \n",
    "    stream=data_loader, \n",
    "    feature_selector=OFS(**ofs_params), \n",
    "    preq_samples=data_loader.n_remaining_samples()\n",
    ")\n",
    "print(f\"Accuracy: {accuracy:.6f}, Precision: {precision:.6f}, Recall: {recall:.6f}, F1: {f1:.6f}, AUC: {auc:.6f}\")\n",
    "print(f\"Average processing time: {avg_processing_time}\")\n",
    "print(drift_idx_list)"
   ]
  }
 ],
 "metadata": {
  "kernelspec": {
   "display_name": "Python 3",
   "language": "python",
   "name": "python3"
  },
  "language_info": {
   "codemirror_mode": {
    "name": "ipython",
    "version": 3
   },
   "file_extension": ".py",
   "mimetype": "text/x-python",
   "name": "python",
   "nbconvert_exporter": "python",
   "pygments_lexer": "ipython3",
   "version": "3.9.6"
  }
 },
 "nbformat": 4,
 "nbformat_minor": 2
}
