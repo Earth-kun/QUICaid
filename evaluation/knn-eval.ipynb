{
 "cells": [
  {
   "cell_type": "markdown",
   "metadata": {},
   "source": [
    "## KNN Evaluations"
   ]
  },
  {
   "cell_type": "code",
   "execution_count": 1,
   "metadata": {},
   "outputs": [],
   "source": [
    "from prequential import run_prequential\n",
    "\n",
    "from skmultiflow.lazy import KNNClassifier, KNNADWINClassifier\n",
    "from skmultiflow.drift_detection.adwin import ADWIN\n",
    "\n",
    "from float.feature_selection import FIRES, OFS           # online feature methods\n",
    "from skmultiflow.data import FileStream             # create stream from file\n",
    "\n",
    "import pandas as pd"
   ]
  },
  {
   "cell_type": "code",
   "execution_count": 2,
   "metadata": {},
   "outputs": [],
   "source": [
    "data_loader = FileStream(filepath='merged_cesnet.csv')"
   ]
  },
  {
   "cell_type": "code",
   "execution_count": 3,
   "metadata": {},
   "outputs": [],
   "source": [
    "ref_sample, _ = data_loader.next_sample(50)\n",
    "data_loader.reset()"
   ]
  },
  {
   "cell_type": "code",
   "execution_count": 4,
   "metadata": {},
   "outputs": [],
   "source": [
    "knn_params = {\n",
    "    'n_neighbors': 5,\n",
    "    'leaf_size': 5,\n",
    "    'max_window_size': 250,\n",
    "    'metric': 'euclidean'\n",
    "}\n",
    "\n",
    "fires_params = {\n",
    "    'penalty_s': 0.1,\n",
    "    'penalty_r': 1,\n",
    "    'lr_mu': 0.025,\n",
    "    'lr_sigma': 0.1,\n",
    "    'n_total_features': data_loader.n_features,\n",
    "    'n_selected_features': 10,\n",
    "    'classes': data_loader.target_values,\n",
    "    'baseline': \"gaussian\",\n",
    "    'ref_sample': ref_sample\n",
    "}\n",
    "\n",
    "ofs_params = {\n",
    "    'n_selected_features': 5,\n",
    "    'n_total_features': data_loader.n_features,\n",
    "    'baseline': \"gaussian\",\n",
    "    'ref_sample': ref_sample    \n",
    "}"
   ]
  },
  {
   "cell_type": "markdown",
   "metadata": {},
   "source": [
    "### Without ADWIN"
   ]
  },
  {
   "cell_type": "code",
   "execution_count": 5,
   "metadata": {},
   "outputs": [
    {
     "name": "stdout",
     "output_type": "stream",
     "text": [
      "EVALUATING: KNN\n",
      "Accuracy: 0.992750, Precision: 0.992110, Recall: 0.993400, F1: 0.992755, AUC: 0.997417\n",
      "Average processing time: 0.0032435930250000297\n"
     ]
    }
   ],
   "source": [
    "# no feature selection\n",
    "print(\"EVALUATING: KNN\")\n",
    "accuracy, precision, recall, f1, auc, avg_processing_time, _ = run_prequential(\n",
    "    classifier=KNNClassifier(**knn_params), \n",
    "    stream=data_loader, \n",
    "    feature_selector=None, \n",
    "    drift_detection=None, \n",
    "    preq_samples=20000\n",
    ")\n",
    "print(f\"Accuracy: {accuracy:.6f}, Precision: {precision:.6f}, Recall: {recall:.6f}, F1: {f1:.6f}, AUC: {auc:.6f}\")\n",
    "print(f\"Average processing time: {avg_processing_time}\")"
   ]
  },
  {
   "cell_type": "code",
   "execution_count": null,
   "metadata": {},
   "outputs": [],
   "source": [
    "# no feature selection\n",
    "print(\"EVALUATING: KNN\")\n",
    "accuracy, precision, recall, f1, auc, avg_processing_time, _ = run_prequential(\n",
    "    classifier=KNNClassifier(**knn_params), \n",
    "    stream=data_loader, \n",
    "    feature_selector=None, \n",
    "    drift_detection=None, \n",
    "    preq_samples=data_loader.n_remaining_samples()\n",
    ")\n",
    "print(f\"Accuracy: {accuracy:.6f}, Precision: {precision:.6f}, Recall: {recall:.6f}, F1: {f1:.6f}, AUC: {auc:.6f}\")\n",
    "print(f\"Average processing time: {avg_processing_time}\")\n",
    "\n",
    "# FIRES\n",
    "print(\"EVALUATING: KNN + FIRES\")\n",
    "accuracy, precision, recall, f1, auc, avg_processing_time, _, _, _ = run_prequential(\n",
    "    classifier=KNNClassifier(**knn_params),\n",
    "    stream=data_loader, \n",
    "    feature_selector=FIRES(**fires_params), \n",
    "    drift_detection=None, \n",
    "    preq_samples=data_loader.n_remaining_samples()\n",
    ")\n",
    "print(f\"Accuracy: {accuracy:.6f}, Precision: {precision:.6f}, Recall: {recall:.6f}, F1: {f1:.6f}, AUC: {auc:.6f}\")\n",
    "print(f\"Average processing time: {avg_processing_time}\")\n",
    "\n",
    "# OFS\n",
    "print(\"EVALUATING: KNN + OFS\")\n",
    "accuracy, precision, recall, f1, auc, avg_processing_time, _, _, _ = run_prequential(\n",
    "    classifier=KNNClassifier(**knn_params),  \n",
    "    stream=data_loader, \n",
    "    feature_selector=OFS(**ofs_params), \n",
    "    drift_detection=None, \n",
    "    preq_samples=data_loader.n_remaining_samples()\n",
    ")\n",
    "print(f\"Accuracy: {accuracy:.6f}, Precision: {precision:.6f}, Recall: {recall:.6f}, F1: {f1:.6f}, AUC: {auc:.6f}\")\n",
    "print(f\"Average processing time: {avg_processing_time}\")"
   ]
  },
  {
   "cell_type": "markdown",
   "metadata": {},
   "source": [
    "### With ADWIN"
   ]
  },
  {
   "cell_type": "code",
   "execution_count": null,
   "metadata": {},
   "outputs": [],
   "source": [
    "knn_adwin = KNNADWINClassifier(**knn_params)\n",
    "knn_adwin.adwin = ADWIN(0.9)\n",
    "\n",
    "# no feature selection\n",
    "print(\"EVALUATING: KNN + ADWIN\")\n",
    "accuracy, precision, recall, f1, auc, avg_processing_time, drift_idx_list = run_prequential(\n",
    "    classifier=knn_adwin, \n",
    "    stream=data_loader, \n",
    "    feature_selector=None,  \n",
    "    preq_samples=data_loader.n_remaining_samples()\n",
    ")\n",
    "print(f\"Accuracy: {accuracy:.6f}, Precision: {precision:.6f}, Recall: {recall:.6f}, F1: {f1:.6f}, AUC: {auc:.6f}\")\n",
    "print(f\"Average processing time: {avg_processing_time}\")\n",
    "print(drift_idx_list)\n",
    "\n",
    "\n",
    "knn_adwin = KNNADWINClassifier(**knn_params)\n",
    "knn_adwin.adwin = ADWIN(0.9)\n",
    "\n",
    "# FIRES\n",
    "print(\"EVALUATING: KNN + ADWIN + FIRES\")\n",
    "accuracy, precision, recall, f1, auc, avg_processing_time, _, _, drift_idx_list = run_prequential(\n",
    "    classifier=knn_adwin, \n",
    "    stream=data_loader, \n",
    "    feature_selector=FIRES(**fires_params), \n",
    "    preq_samples=data_loader.n_remaining_samples()\n",
    ")\n",
    "print(f\"Accuracy: {accuracy:.6f}, Precision: {precision:.6f}, Recall: {recall:.6f}, F1: {f1:.6f}, AUC: {auc:.6f}\")\n",
    "print(f\"Average processing time: {avg_processing_time}\")\n",
    "print(drift_idx_list)\n",
    "\n",
    "\n",
    "knn_adwin = KNNADWINClassifier(**knn_params)\n",
    "knn_adwin.adwin = ADWIN(0.9)\n",
    "\n",
    "\n",
    "# OFS\n",
    "print(\"EVALUATING: KNN + ADWIN + OFS\")\n",
    "accuracy, precision, recall, f1, auc, avg_processing_time, _, _, drift_idx_list = run_prequential(\n",
    "    classifier=knn_adwin, \n",
    "    stream=data_loader, \n",
    "    feature_selector=OFS(**ofs_params), \n",
    "    preq_samples=data_loader.n_remaining_samples()\n",
    ")\n",
    "print(f\"Accuracy: {accuracy:.6f}, Precision: {precision:.6f}, Recall: {recall:.6f}, F1: {f1:.6f}, AUC: {auc:.6f}\")\n",
    "print(f\"Average processing time: {avg_processing_time}\")\n",
    "print(drift_idx_list)"
   ]
  }
 ],
 "metadata": {
  "kernelspec": {
   "display_name": "Python 3",
   "language": "python",
   "name": "python3"
  },
  "language_info": {
   "codemirror_mode": {
    "name": "ipython",
    "version": 3
   },
   "file_extension": ".py",
   "mimetype": "text/x-python",
   "name": "python",
   "nbconvert_exporter": "python",
   "pygments_lexer": "ipython3",
   "version": "3.9.6"
  }
 },
 "nbformat": 4,
 "nbformat_minor": 2
}
