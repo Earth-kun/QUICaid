{
 "cells": [
  {
   "cell_type": "markdown",
   "metadata": {},
   "source": [
    "## One Class SVM Evaluations"
   ]
  },
  {
   "cell_type": "code",
   "execution_count": null,
   "metadata": {},
   "outputs": [],
   "source": [
    "from prequential import run_prequential\n",
    "\n",
    "from river import anomaly\n",
    "from river.anomaly import OneClassSVM\n",
    "from river import feature_extraction as fx\n",
    "from skmultiflow.drift_detection.adwin import ADWIN\n",
    "\n",
    "from float.feature_selection import FIRES, OFS           # online feature methods\n",
    "from skmultiflow.data import FileStream             # create stream from file\n",
    "\n",
    "import pandas as pd"
   ]
  },
  {
   "cell_type": "code",
   "execution_count": null,
   "metadata": {},
   "outputs": [],
   "source": [
    "data_loader = FileStream(filepath='../merged_cesnet.csv')"
   ]
  },
  {
   "cell_type": "code",
   "execution_count": null,
   "metadata": {},
   "outputs": [],
   "source": [
    "ref_sample, _ = data_loader.next_sample(50)\n",
    "data_loader.reset()"
   ]
  },
  {
   "cell_type": "code",
   "execution_count": null,
   "metadata": {},
   "outputs": [],
   "source": [
    "svm_params = {\n",
    "    'q': 0.8,\n",
    "    'gamma': 1,\n",
    "    'nu': 0.05\n",
    "}\n",
    "\n",
    "fires_params = {\n",
    "    'penalty_s': 0.1,\n",
    "    'penalty_r': 1,\n",
    "    'lr_mu': 0.025,\n",
    "    'lr_sigma': 0.1,\n",
    "    'n_total_features': data_loader.n_features,\n",
    "    'n_selected_features': 10,\n",
    "    'classes': data_loader.target_values,\n",
    "    'baseline': \"gaussian\",\n",
    "    'ref_sample': ref_sample\n",
    "}\n",
    "\n",
    "ofs_params = {\n",
    "    'n_selected_features': 5,\n",
    "    'n_total_features': data_loader.n_features,\n",
    "    'baseline': \"gaussian\",\n",
    "    'ref_sample': ref_sample    \n",
    "}"
   ]
  },
  {
   "cell_type": "markdown",
   "metadata": {},
   "source": [
    "### Without ADWIN"
   ]
  },
  {
   "cell_type": "code",
   "execution_count": null,
   "metadata": {},
   "outputs": [],
   "source": [
    "# no feature selection\n",
    "print(\"EVALUATING: OC-SVM\")\n",
    "accuracy, precision, recall, f1, auc, avg_processing_time, _ = run_prequential(\n",
    "    classifier=anomaly.QuantileFilter(\n",
    "        (fx.RBFSampler(gamma=svm_params['gamma']) | OneClassSVM(nu=svm_params['nu'])),\n",
    "        q=svm_params['q']\n",
    "    ), \n",
    "    stream=data_loader, \n",
    "    feature_selector=None, \n",
    "    drift_detection=None, \n",
    "    preq_samples=data_loader.n_remaining_samples()\n",
    ")\n",
    "print(f\"Accuracy: {accuracy:.6f}, Precision: {precision:.6f}, Recall: {recall:.6f}, F1: {f1:.6f}, AUC: {auc:.6f}\")\n",
    "print(f\"Average processing time: {avg_processing_time}\")\n",
    "\n",
    "# FIRES\n",
    "print(\"EVALUATING: OC-SVM + FIRES\")\n",
    "accuracy, precision, recall, f1, auc, avg_processing_time, _, _, _ = run_prequential(\n",
    "    classifier=anomaly.QuantileFilter(\n",
    "        (fx.RBFSampler(gamma=svm_params['gamma']) | OneClassSVM(nu=svm_params['nu'])),\n",
    "        q=svm_params['q']\n",
    "    ), \n",
    "    stream=data_loader, \n",
    "    feature_selector=FIRES(**fires_params), \n",
    "    drift_detection=None, \n",
    "    preq_samples=data_loader.n_remaining_samples()\n",
    ")\n",
    "print(f\"Accuracy: {accuracy:.6f}, Precision: {precision:.6f}, Recall: {recall:.6f}, F1: {f1:.6f}, AUC: {auc:.6f}\")\n",
    "print(f\"Average processing time: {avg_processing_time}\")\n",
    "\n",
    "# OFS\n",
    "print(\"EVALUATING: OC-SVM + OFS\")\n",
    "accuracy, precision, recall, f1, auc, avg_processing_time, _, _, _ = run_prequential(\n",
    "    classifier=anomaly.QuantileFilter(\n",
    "        (fx.RBFSampler(gamma=svm_params['gamma']) | OneClassSVM(nu=svm_params['nu'])),\n",
    "        q=svm_params['q']\n",
    "    ),   \n",
    "    stream=data_loader, \n",
    "    feature_selector=OFS(**ofs_params), \n",
    "    drift_detection=None, \n",
    "    preq_samples=data_loader.n_remaining_samples()\n",
    ")\n",
    "print(f\"Accuracy: {accuracy:.6f}, Precision: {precision:.6f}, Recall: {recall:.6f}, F1: {f1:.6f}, AUC: {auc:.6f}\")\n",
    "print(f\"Average processing time: {avg_processing_time}\")"
   ]
  },
  {
   "cell_type": "markdown",
   "metadata": {},
   "source": [
    "### With ADWIN"
   ]
  },
  {
   "cell_type": "code",
   "execution_count": null,
   "metadata": {},
   "outputs": [],
   "source": [
    "# no feature selection\n",
    "print(\"EVALUATING: OC-SVM + ADWIN\")\n",
    "accuracy, precision, recall, f1, auc, avg_processing_time, drift_idx_list = run_prequential(\n",
    "    classifier=anomaly.QuantileFilter(\n",
    "        (fx.RBFSampler(gamma=svm_params['gamma']) | OneClassSVM(nu=svm_params['nu'])),\n",
    "        q=svm_params['q']\n",
    "    ),  \n",
    "    stream=data_loader, \n",
    "    feature_selector=None, \n",
    "    drift_detection=ADWIN(), \n",
    "    preq_samples=data_loader.n_remaining_samples()\n",
    ")\n",
    "print(f\"Accuracy: {accuracy:.6f}, Precision: {precision:.6f}, Recall: {recall:.6f}, F1: {f1:.6f}, AUC: {auc:.6f}\")\n",
    "print(f\"Average processing time: {avg_processing_time}\")\n",
    "print(drift_idx_list)\n",
    "\n",
    "# FIRES\n",
    "print(\"EVALUATING: OC-SVM + ADWIN + FIRES\")\n",
    "accuracy, precision, recall, f1, auc, avg_processing_time, _, _, drift_idx_list = run_prequential(\n",
    "    classifier=anomaly.QuantileFilter(\n",
    "        (fx.RBFSampler(gamma=svm_params['gamma']) | OneClassSVM(nu=svm_params['nu'])),\n",
    "        q=svm_params['q']\n",
    "    ), \n",
    "    stream=data_loader, \n",
    "    feature_selector=FIRES(**fires_params), \n",
    "    drift_detection=ADWIN(), \n",
    "    preq_samples=data_loader.n_remaining_samples()\n",
    ")\n",
    "print(f\"Accuracy: {accuracy:.6f}, Precision: {precision:.6f}, Recall: {recall:.6f}, F1: {f1:.6f}, AUC: {auc:.6f}\")\n",
    "print(f\"Average processing time: {avg_processing_time}\")\n",
    "print(drift_idx_list)\n",
    "\n",
    "# OFS\n",
    "print(\"EVALUATING: OC-SVM + ADWIN + OFS\")\n",
    "accuracy, precision, recall, f1, auc, avg_processing_time, _, _, drift_idx_list = run_prequential(\n",
    "    classifier=anomaly.QuantileFilter(\n",
    "        (fx.RBFSampler(gamma=svm_params['gamma']) | OneClassSVM(nu=svm_params['nu'])),\n",
    "        q=svm_params['q']\n",
    "    ), \n",
    "    stream=data_loader, \n",
    "    feature_selector=OFS(**ofs_params), \n",
    "    drift_detection=ADWIN(), \n",
    "    preq_samples=data_loader.n_remaining_samples()\n",
    ")\n",
    "print(f\"Accuracy: {accuracy:.6f}, Precision: {precision:.6f}, Recall: {recall:.6f}, F1: {f1:.6f}, AUC: {auc:.6f}\")\n",
    "print(f\"Average processing time: {avg_processing_time}\")\n",
    "print(drift_idx_list)"
   ]
  }
 ],
 "metadata": {
  "kernelspec": {
   "display_name": "Python 3",
   "language": "python",
   "name": "python3"
  },
  "language_info": {
   "codemirror_mode": {
    "name": "ipython",
    "version": 3
   },
   "file_extension": ".py",
   "mimetype": "text/x-python",
   "name": "python",
   "nbconvert_exporter": "python",
   "pygments_lexer": "ipython3",
   "version": "3.9.1"
  }
 },
 "nbformat": 4,
 "nbformat_minor": 2
}
