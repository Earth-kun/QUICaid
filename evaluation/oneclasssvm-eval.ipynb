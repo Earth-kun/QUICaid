{
 "cells": [
  {
   "cell_type": "markdown",
   "metadata": {},
   "source": [
    "## One Class SVM Evaluations"
   ]
  },
  {
   "cell_type": "code",
   "execution_count": 1,
   "metadata": {},
   "outputs": [],
   "source": [
    "from prequential import run_prequential\n",
    "\n",
    "from river import anomaly\n",
    "from river.anomaly import OneClassSVM\n",
    "from river import feature_extraction as fx\n",
    "from skmultiflow.drift_detection.adwin import ADWIN\n",
    "\n",
    "from float.feature_selection import FIRES, OFS           # online feature methods\n",
    "from skmultiflow.data import FileStream             # create stream from file\n",
    "\n",
    "import pandas as pd"
   ]
  },
  {
   "cell_type": "code",
   "execution_count": 2,
   "metadata": {},
   "outputs": [],
   "source": [
    "data_loader = FileStream(filepath='../merged_cesnet.csv')"
   ]
  },
  {
   "cell_type": "code",
   "execution_count": 3,
   "metadata": {},
   "outputs": [],
   "source": [
    "ref_sample, _ = data_loader.next_sample(50)\n",
    "data_loader.reset()"
   ]
  },
  {
   "cell_type": "code",
   "execution_count": 4,
   "metadata": {},
   "outputs": [],
   "source": [
    "svm_params = {\n",
    "    'q': 0.8,\n",
    "    'gamma': 1,\n",
    "    'nu': 0.05\n",
    "}\n",
    "\n",
    "fires_params = {\n",
    "    'penalty_s': 0.1,\n",
    "    'penalty_r': 1,\n",
    "    'lr_mu': 0.025,\n",
    "    'lr_sigma': 0.1,\n",
    "    'n_total_features': data_loader.n_features,\n",
    "    'n_selected_features': 10,\n",
    "    'classes': data_loader.target_values,\n",
    "    'baseline': \"gaussian\",\n",
    "    'ref_sample': ref_sample\n",
    "}\n",
    "\n",
    "ofs_params = {\n",
    "    'n_selected_features': 5,\n",
    "    'n_total_features': data_loader.n_features,\n",
    "    'baseline': \"gaussian\",\n",
    "    'ref_sample': ref_sample    \n",
    "}"
   ]
  },
  {
   "cell_type": "markdown",
   "metadata": {},
   "source": [
    "### Without ADWIN"
   ]
  },
  {
   "cell_type": "code",
   "execution_count": 5,
   "metadata": {},
   "outputs": [
    {
     "name": "stdout",
     "output_type": "stream",
     "text": [
      "EVALUATING: OC-SVM\n",
      "Accuracy: 0.687178, Precision: 0.621572, Recall: 0.915753, F1: 0.740515, AUC: 0.692784\n",
      "Average processing time: 0.006403835527450147\n",
      "EVALUATING: OC-SVM + FIRES\n"
     ]
    },
    {
     "name": "stderr",
     "output_type": "stream",
     "text": [
      "c:\\Users\\Carlo Alamani\\AppData\\Local\\Programs\\Python\\Python39\\lib\\site-packages\\numpy\\lib\\function_base.py:495: RuntimeWarning: Mean of empty slice.\n",
      "  avg = a.mean(axis)\n",
      "c:\\Users\\Carlo Alamani\\AppData\\Local\\Programs\\Python\\Python39\\lib\\site-packages\\numpy\\core\\_methods.py:189: RuntimeWarning: invalid value encountered in double_scalars\n",
      "  ret = ret.dtype.type(ret / rcount)\n"
     ]
    },
    {
     "ename": "ValueError",
     "evalue": "Found array with 0 sample(s) (shape=(0,)) while a minimum of 1 is required.",
     "output_type": "error",
     "traceback": [
      "\u001b[1;31m---------------------------------------------------------------------------\u001b[0m",
      "\u001b[1;31mValueError\u001b[0m                                Traceback (most recent call last)",
      "Cell \u001b[1;32mIn[5], line 18\u001b[0m\n\u001b[0;32m     16\u001b[0m \u001b[38;5;66;03m# FIRES\u001b[39;00m\n\u001b[0;32m     17\u001b[0m \u001b[38;5;28mprint\u001b[39m(\u001b[38;5;124m\"\u001b[39m\u001b[38;5;124mEVALUATING: OC-SVM + FIRES\u001b[39m\u001b[38;5;124m\"\u001b[39m)\n\u001b[1;32m---> 18\u001b[0m accuracy, precision, recall, f1, auc, avg_processing_time, _, _, _ \u001b[38;5;241m=\u001b[39m \u001b[43mrun_prequential\u001b[49m\u001b[43m(\u001b[49m\n\u001b[0;32m     19\u001b[0m \u001b[43m    \u001b[49m\u001b[43mclassifier\u001b[49m\u001b[38;5;241;43m=\u001b[39;49m\u001b[43manomaly\u001b[49m\u001b[38;5;241;43m.\u001b[39;49m\u001b[43mQuantileFilter\u001b[49m\u001b[43m(\u001b[49m\n\u001b[0;32m     20\u001b[0m \u001b[43m        \u001b[49m\u001b[43m(\u001b[49m\u001b[43mfx\u001b[49m\u001b[38;5;241;43m.\u001b[39;49m\u001b[43mRBFSampler\u001b[49m\u001b[43m(\u001b[49m\u001b[43mgamma\u001b[49m\u001b[38;5;241;43m=\u001b[39;49m\u001b[43msvm_params\u001b[49m\u001b[43m[\u001b[49m\u001b[38;5;124;43m'\u001b[39;49m\u001b[38;5;124;43mgamma\u001b[39;49m\u001b[38;5;124;43m'\u001b[39;49m\u001b[43m]\u001b[49m\u001b[43m)\u001b[49m\u001b[43m \u001b[49m\u001b[38;5;241;43m|\u001b[39;49m\u001b[43m \u001b[49m\u001b[43mOneClassSVM\u001b[49m\u001b[43m(\u001b[49m\u001b[43mnu\u001b[49m\u001b[38;5;241;43m=\u001b[39;49m\u001b[43msvm_params\u001b[49m\u001b[43m[\u001b[49m\u001b[38;5;124;43m'\u001b[39;49m\u001b[38;5;124;43mnu\u001b[39;49m\u001b[38;5;124;43m'\u001b[39;49m\u001b[43m]\u001b[49m\u001b[43m)\u001b[49m\u001b[43m)\u001b[49m\u001b[43m,\u001b[49m\n\u001b[0;32m     21\u001b[0m \u001b[43m        \u001b[49m\u001b[43mq\u001b[49m\u001b[38;5;241;43m=\u001b[39;49m\u001b[43msvm_params\u001b[49m\u001b[43m[\u001b[49m\u001b[38;5;124;43m'\u001b[39;49m\u001b[38;5;124;43mq\u001b[39;49m\u001b[38;5;124;43m'\u001b[39;49m\u001b[43m]\u001b[49m\n\u001b[0;32m     22\u001b[0m \u001b[43m    \u001b[49m\u001b[43m)\u001b[49m\u001b[43m,\u001b[49m\u001b[43m \u001b[49m\n\u001b[0;32m     23\u001b[0m \u001b[43m    \u001b[49m\u001b[43mstream\u001b[49m\u001b[38;5;241;43m=\u001b[39;49m\u001b[43mdata_loader\u001b[49m\u001b[43m,\u001b[49m\u001b[43m \u001b[49m\n\u001b[0;32m     24\u001b[0m \u001b[43m    \u001b[49m\u001b[43mfeature_selector\u001b[49m\u001b[38;5;241;43m=\u001b[39;49m\u001b[43mFIRES\u001b[49m\u001b[43m(\u001b[49m\u001b[38;5;241;43m*\u001b[39;49m\u001b[38;5;241;43m*\u001b[39;49m\u001b[43mfires_params\u001b[49m\u001b[43m)\u001b[49m\u001b[43m,\u001b[49m\u001b[43m \u001b[49m\n\u001b[0;32m     25\u001b[0m \u001b[43m    \u001b[49m\u001b[43mdrift_detection\u001b[49m\u001b[38;5;241;43m=\u001b[39;49m\u001b[38;5;28;43;01mNone\u001b[39;49;00m\u001b[43m,\u001b[49m\u001b[43m \u001b[49m\n\u001b[0;32m     26\u001b[0m \u001b[43m    \u001b[49m\u001b[43mpreq_samples\u001b[49m\u001b[38;5;241;43m=\u001b[39;49m\u001b[43mdata_loader\u001b[49m\u001b[38;5;241;43m.\u001b[39;49m\u001b[43mn_remaining_samples\u001b[49m\u001b[43m(\u001b[49m\u001b[43m)\u001b[49m\n\u001b[0;32m     27\u001b[0m \u001b[43m)\u001b[49m\n\u001b[0;32m     28\u001b[0m \u001b[38;5;28mprint\u001b[39m(\u001b[38;5;124mf\u001b[39m\u001b[38;5;124m\"\u001b[39m\u001b[38;5;124mAccuracy: \u001b[39m\u001b[38;5;132;01m{\u001b[39;00maccuracy\u001b[38;5;132;01m:\u001b[39;00m\u001b[38;5;124m.6f\u001b[39m\u001b[38;5;132;01m}\u001b[39;00m\u001b[38;5;124m, Precision: \u001b[39m\u001b[38;5;132;01m{\u001b[39;00mprecision\u001b[38;5;132;01m:\u001b[39;00m\u001b[38;5;124m.6f\u001b[39m\u001b[38;5;132;01m}\u001b[39;00m\u001b[38;5;124m, Recall: \u001b[39m\u001b[38;5;132;01m{\u001b[39;00mrecall\u001b[38;5;132;01m:\u001b[39;00m\u001b[38;5;124m.6f\u001b[39m\u001b[38;5;132;01m}\u001b[39;00m\u001b[38;5;124m, F1: \u001b[39m\u001b[38;5;132;01m{\u001b[39;00mf1\u001b[38;5;132;01m:\u001b[39;00m\u001b[38;5;124m.6f\u001b[39m\u001b[38;5;132;01m}\u001b[39;00m\u001b[38;5;124m, AUC: \u001b[39m\u001b[38;5;132;01m{\u001b[39;00mauc\u001b[38;5;132;01m:\u001b[39;00m\u001b[38;5;124m.6f\u001b[39m\u001b[38;5;132;01m}\u001b[39;00m\u001b[38;5;124m\"\u001b[39m)\n\u001b[0;32m     29\u001b[0m \u001b[38;5;28mprint\u001b[39m(\u001b[38;5;124mf\u001b[39m\u001b[38;5;124m\"\u001b[39m\u001b[38;5;124mAverage processing time: \u001b[39m\u001b[38;5;132;01m{\u001b[39;00mavg_processing_time\u001b[38;5;132;01m}\u001b[39;00m\u001b[38;5;124m\"\u001b[39m)\n",
      "File \u001b[1;32mc:\\Users\\Carlo Alamani\\Desktop\\code\\QUICaid\\evaluation\\prequential.py:103\u001b[0m, in \u001b[0;36mrun_prequential\u001b[1;34m(classifier, stream, feature_selector, drift_detection, n_pretrain, preq_samples)\u001b[0m\n\u001b[0;32m    101\u001b[0m recall \u001b[38;5;241m=\u001b[39m recall_score(true_labels, pred_labels, zero_division\u001b[38;5;241m=\u001b[39m\u001b[38;5;241m0\u001b[39m)\n\u001b[0;32m    102\u001b[0m f1 \u001b[38;5;241m=\u001b[39m f1_score(true_labels, pred_labels, zero_division\u001b[38;5;241m=\u001b[39m\u001b[38;5;241m0\u001b[39m)\n\u001b[1;32m--> 103\u001b[0m auc \u001b[38;5;241m=\u001b[39m \u001b[43mroc_auc_score\u001b[49m\u001b[43m(\u001b[49m\u001b[43mtrue_labels\u001b[49m\u001b[43m,\u001b[49m\u001b[43m \u001b[49m\u001b[43mpred_labels\u001b[49m\u001b[43m)\u001b[49m\n\u001b[0;32m    104\u001b[0m avg_processing_time \u001b[38;5;241m=\u001b[39m \u001b[38;5;28msum\u001b[39m(processing_times) \u001b[38;5;241m/\u001b[39m \u001b[38;5;28mlen\u001b[39m(processing_times)\n\u001b[0;32m    106\u001b[0m \u001b[38;5;28;01mif\u001b[39;00m feature_selector \u001b[38;5;129;01mis\u001b[39;00m \u001b[38;5;28;01mNone\u001b[39;00m:\n",
      "File \u001b[1;32mc:\\Users\\Carlo Alamani\\AppData\\Local\\Programs\\Python\\Python39\\lib\\site-packages\\sklearn\\metrics\\_ranking.py:545\u001b[0m, in \u001b[0;36mroc_auc_score\u001b[1;34m(y_true, y_score, average, sample_weight, max_fpr, multi_class, labels)\u001b[0m\n\u001b[0;32m    373\u001b[0m \u001b[38;5;250m\u001b[39m\u001b[38;5;124;03m\"\"\"Compute Area Under the Receiver Operating Characteristic Curve (ROC AUC)\u001b[39;00m\n\u001b[0;32m    374\u001b[0m \u001b[38;5;124;03mfrom prediction scores.\u001b[39;00m\n\u001b[0;32m    375\u001b[0m \n\u001b[1;32m   (...)\u001b[0m\n\u001b[0;32m    541\u001b[0m \u001b[38;5;124;03marray([0.81..., 0.84... , 0.93..., 0.87..., 0.94...])\u001b[39;00m\n\u001b[0;32m    542\u001b[0m \u001b[38;5;124;03m\"\"\"\u001b[39;00m\n\u001b[0;32m    544\u001b[0m y_type \u001b[38;5;241m=\u001b[39m type_of_target(y_true)\n\u001b[1;32m--> 545\u001b[0m y_true \u001b[38;5;241m=\u001b[39m \u001b[43mcheck_array\u001b[49m\u001b[43m(\u001b[49m\u001b[43my_true\u001b[49m\u001b[43m,\u001b[49m\u001b[43m \u001b[49m\u001b[43mensure_2d\u001b[49m\u001b[38;5;241;43m=\u001b[39;49m\u001b[38;5;28;43;01mFalse\u001b[39;49;00m\u001b[43m,\u001b[49m\u001b[43m \u001b[49m\u001b[43mdtype\u001b[49m\u001b[38;5;241;43m=\u001b[39;49m\u001b[38;5;28;43;01mNone\u001b[39;49;00m\u001b[43m)\u001b[49m\n\u001b[0;32m    546\u001b[0m y_score \u001b[38;5;241m=\u001b[39m check_array(y_score, ensure_2d\u001b[38;5;241m=\u001b[39m\u001b[38;5;28;01mFalse\u001b[39;00m)\n\u001b[0;32m    548\u001b[0m \u001b[38;5;28;01mif\u001b[39;00m y_type \u001b[38;5;241m==\u001b[39m \u001b[38;5;124m\"\u001b[39m\u001b[38;5;124mmulticlass\u001b[39m\u001b[38;5;124m\"\u001b[39m \u001b[38;5;129;01mor\u001b[39;00m (\n\u001b[0;32m    549\u001b[0m     y_type \u001b[38;5;241m==\u001b[39m \u001b[38;5;124m\"\u001b[39m\u001b[38;5;124mbinary\u001b[39m\u001b[38;5;124m\"\u001b[39m \u001b[38;5;129;01mand\u001b[39;00m y_score\u001b[38;5;241m.\u001b[39mndim \u001b[38;5;241m==\u001b[39m \u001b[38;5;241m2\u001b[39m \u001b[38;5;129;01mand\u001b[39;00m y_score\u001b[38;5;241m.\u001b[39mshape[\u001b[38;5;241m1\u001b[39m] \u001b[38;5;241m>\u001b[39m \u001b[38;5;241m2\u001b[39m\n\u001b[0;32m    550\u001b[0m ):\n\u001b[0;32m    551\u001b[0m     \u001b[38;5;66;03m# do not support partial ROC computation for multiclass\u001b[39;00m\n",
      "File \u001b[1;32mc:\\Users\\Carlo Alamani\\AppData\\Local\\Programs\\Python\\Python39\\lib\\site-packages\\sklearn\\utils\\validation.py:805\u001b[0m, in \u001b[0;36mcheck_array\u001b[1;34m(array, accept_sparse, accept_large_sparse, dtype, order, copy, force_all_finite, ensure_2d, allow_nd, ensure_min_samples, ensure_min_features, estimator)\u001b[0m\n\u001b[0;32m    803\u001b[0m     n_samples \u001b[38;5;241m=\u001b[39m _num_samples(array)\n\u001b[0;32m    804\u001b[0m     \u001b[38;5;28;01mif\u001b[39;00m n_samples \u001b[38;5;241m<\u001b[39m ensure_min_samples:\n\u001b[1;32m--> 805\u001b[0m         \u001b[38;5;28;01mraise\u001b[39;00m \u001b[38;5;167;01mValueError\u001b[39;00m(\n\u001b[0;32m    806\u001b[0m             \u001b[38;5;124m\"\u001b[39m\u001b[38;5;124mFound array with \u001b[39m\u001b[38;5;132;01m%d\u001b[39;00m\u001b[38;5;124m sample(s) (shape=\u001b[39m\u001b[38;5;132;01m%s\u001b[39;00m\u001b[38;5;124m) while a\u001b[39m\u001b[38;5;124m\"\u001b[39m\n\u001b[0;32m    807\u001b[0m             \u001b[38;5;124m\"\u001b[39m\u001b[38;5;124m minimum of \u001b[39m\u001b[38;5;132;01m%d\u001b[39;00m\u001b[38;5;124m is required\u001b[39m\u001b[38;5;132;01m%s\u001b[39;00m\u001b[38;5;124m.\u001b[39m\u001b[38;5;124m\"\u001b[39m\n\u001b[0;32m    808\u001b[0m             \u001b[38;5;241m%\u001b[39m (n_samples, array\u001b[38;5;241m.\u001b[39mshape, ensure_min_samples, context)\n\u001b[0;32m    809\u001b[0m         )\n\u001b[0;32m    811\u001b[0m \u001b[38;5;28;01mif\u001b[39;00m ensure_min_features \u001b[38;5;241m>\u001b[39m \u001b[38;5;241m0\u001b[39m \u001b[38;5;129;01mand\u001b[39;00m array\u001b[38;5;241m.\u001b[39mndim \u001b[38;5;241m==\u001b[39m \u001b[38;5;241m2\u001b[39m:\n\u001b[0;32m    812\u001b[0m     n_features \u001b[38;5;241m=\u001b[39m array\u001b[38;5;241m.\u001b[39mshape[\u001b[38;5;241m1\u001b[39m]\n",
      "\u001b[1;31mValueError\u001b[0m: Found array with 0 sample(s) (shape=(0,)) while a minimum of 1 is required."
     ]
    }
   ],
   "source": [
    "# no feature selection\n",
    "print(\"EVALUATING: OC-SVM\")\n",
    "accuracy, precision, recall, f1, auc, avg_processing_time, _ = run_prequential(\n",
    "    classifier=anomaly.QuantileFilter(\n",
    "        (fx.RBFSampler(gamma=svm_params['gamma']) | OneClassSVM(nu=svm_params['nu'])),\n",
    "        q=svm_params['q']\n",
    "    ), \n",
    "    stream=data_loader, \n",
    "    feature_selector=None, \n",
    "    drift_detection=None, \n",
    "    preq_samples=data_loader.n_remaining_samples()\n",
    ")\n",
    "print(f\"Accuracy: {accuracy:.6f}, Precision: {precision:.6f}, Recall: {recall:.6f}, F1: {f1:.6f}, AUC: {auc:.6f}\")\n",
    "print(f\"Average processing time: {avg_processing_time}\")\n",
    "\n",
    "# FIRES\n",
    "print(\"EVALUATING: OC-SVM + FIRES\")\n",
    "accuracy, precision, recall, f1, auc, avg_processing_time, _, _, _ = run_prequential(\n",
    "    classifier=anomaly.QuantileFilter(\n",
    "        (fx.RBFSampler(gamma=svm_params['gamma']) | OneClassSVM(nu=svm_params['nu'])),\n",
    "        q=svm_params['q']\n",
    "    ), \n",
    "    stream=data_loader, \n",
    "    feature_selector=FIRES(**fires_params), \n",
    "    drift_detection=None, \n",
    "    preq_samples=data_loader.n_remaining_samples()\n",
    ")\n",
    "print(f\"Accuracy: {accuracy:.6f}, Precision: {precision:.6f}, Recall: {recall:.6f}, F1: {f1:.6f}, AUC: {auc:.6f}\")\n",
    "print(f\"Average processing time: {avg_processing_time}\")\n",
    "\n",
    "# OFS\n",
    "print(\"EVALUATING: OC-SVM + OFS\")\n",
    "accuracy, precision, recall, f1, auc, avg_processing_time, _, _, _ = run_prequential(\n",
    "    classifier=anomaly.QuantileFilter(\n",
    "        (fx.RBFSampler(gamma=svm_params['gamma']) | OneClassSVM(nu=svm_params['nu'])),\n",
    "        q=svm_params['q']\n",
    "    ),   \n",
    "    stream=data_loader, \n",
    "    feature_selector=OFS(**ofs_params), \n",
    "    drift_detection=None, \n",
    "    preq_samples=data_loader.n_remaining_samples()\n",
    ")\n",
    "print(f\"Accuracy: {accuracy:.6f}, Precision: {precision:.6f}, Recall: {recall:.6f}, F1: {f1:.6f}, AUC: {auc:.6f}\")\n",
    "print(f\"Average processing time: {avg_processing_time}\")"
   ]
  },
  {
   "cell_type": "markdown",
   "metadata": {},
   "source": [
    "### With ADWIN"
   ]
  },
  {
   "cell_type": "code",
   "execution_count": null,
   "metadata": {},
   "outputs": [
    {
     "name": "stdout",
     "output_type": "stream",
     "text": [
      "EVALUATING: OC-SVM + ADWIN\n"
     ]
    }
   ],
   "source": [
    "# no feature selection\n",
    "print(\"EVALUATING: OC-SVM + ADWIN\")\n",
    "accuracy, precision, recall, f1, auc, avg_processing_time, drift_idx_list = run_prequential(\n",
    "    classifier=anomaly.QuantileFilter(\n",
    "        (fx.RBFSampler(gamma=svm_params['gamma']) | OneClassSVM(nu=svm_params['nu'])),\n",
    "        q=svm_params['q']\n",
    "    ),  \n",
    "    stream=data_loader, \n",
    "    feature_selector=None, \n",
    "    drift_detection=ADWIN(), \n",
    "    preq_samples=data_loader.n_remaining_samples()\n",
    ")\n",
    "print(f\"Accuracy: {accuracy:.6f}, Precision: {precision:.6f}, Recall: {recall:.6f}, F1: {f1:.6f}, AUC: {auc:.6f}\")\n",
    "print(f\"Average processing time: {avg_processing_time}\")\n",
    "print(drift_idx_list)\n",
    "\n",
    "# FIRES\n",
    "print(\"EVALUATING: OC-SVM + ADWIN + FIRES\")\n",
    "accuracy, precision, recall, f1, auc, avg_processing_time, _, _, drift_idx_list = run_prequential(\n",
    "    classifier=anomaly.QuantileFilter(\n",
    "        (fx.RBFSampler(gamma=svm_params['gamma']) | OneClassSVM(nu=svm_params['nu'])),\n",
    "        q=svm_params['q']\n",
    "    ), \n",
    "    stream=data_loader, \n",
    "    feature_selector=FIRES(**fires_params), \n",
    "    drift_detection=ADWIN(), \n",
    "    preq_samples=data_loader.n_remaining_samples()\n",
    ")\n",
    "print(f\"Accuracy: {accuracy:.6f}, Precision: {precision:.6f}, Recall: {recall:.6f}, F1: {f1:.6f}, AUC: {auc:.6f}\")\n",
    "print(f\"Average processing time: {avg_processing_time}\")\n",
    "print(drift_idx_list)\n",
    "\n",
    "# OFS\n",
    "print(\"EVALUATING: OC-SVM + ADWIN + OFS\")\n",
    "accuracy, precision, recall, f1, auc, avg_processing_time, _, _, drift_idx_list = run_prequential(\n",
    "    classifier=anomaly.QuantileFilter(\n",
    "        (fx.RBFSampler(gamma=svm_params['gamma']) | OneClassSVM(nu=svm_params['nu'])),\n",
    "        q=svm_params['q']\n",
    "    ), \n",
    "    stream=data_loader, \n",
    "    feature_selector=OFS(**ofs_params), \n",
    "    drift_detection=ADWIN(), \n",
    "    preq_samples=data_loader.n_remaining_samples()\n",
    ")\n",
    "print(f\"Accuracy: {accuracy:.6f}, Precision: {precision:.6f}, Recall: {recall:.6f}, F1: {f1:.6f}, AUC: {auc:.6f}\")\n",
    "print(f\"Average processing time: {avg_processing_time}\")\n",
    "print(drift_idx_list)"
   ]
  }
 ],
 "metadata": {
  "kernelspec": {
   "display_name": "Python 3",
   "language": "python",
   "name": "python3"
  },
  "language_info": {
   "codemirror_mode": {
    "name": "ipython",
    "version": 3
   },
   "file_extension": ".py",
   "mimetype": "text/x-python",
   "name": "python",
   "nbconvert_exporter": "python",
   "pygments_lexer": "ipython3",
   "version": "3.9.1"
  }
 },
 "nbformat": 4,
 "nbformat_minor": 2
}
