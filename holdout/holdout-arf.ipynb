{
 "cells": [
  {
   "cell_type": "code",
   "execution_count": 1,
   "metadata": {},
   "outputs": [],
   "source": [
    "import numpy as np\n",
    "import pandas as pd\n",
    "from skmultiflow.meta import AdaptiveRandomForestClassifier\n",
    "from skmultiflow.data import FileStream  # Create stream from file\n",
    "from sklearn.model_selection import ParameterGrid  # Generate hyperparameter combinations"
   ]
  },
  {
   "cell_type": "code",
   "execution_count": 2,
   "metadata": {},
   "outputs": [],
   "source": [
    "data_loader = FileStream(filepath='merged_cesnet.csv')"
   ]
  },
  {
   "cell_type": "code",
   "execution_count": 3,
   "metadata": {},
   "outputs": [
    {
     "name": "stdout",
     "output_type": "stream",
     "text": [
      "[[4.43000000e+02 1.33350000e+04 1.00000000e+00 ... 1.49090909e+01\n",
      "  4.43138693e+01 1.96371901e+03]\n",
      " [4.43000000e+02 9.82100000e+03 1.00000000e+00 ... 5.24819214e-04\n",
      "  5.45202988e-04 2.97246298e-07]\n",
      " [4.43000000e+02 1.51690000e+04 1.00000000e+00 ... 6.50000000e+00\n",
      "  8.17006732e+00 6.67500000e+01]\n",
      " ...\n",
      " [4.43000000e+02 1.51690000e+04 1.00000000e+00 ... 2.15948695e-03\n",
      "  5.36846433e-04 2.88204093e-07]\n",
      " [4.43000000e+02 1.51690000e+04 1.00000000e+00 ... 1.09090909e+00\n",
      "  1.37870463e+00 1.90082645e+00]\n",
      " [4.43000000e+02 9.82100000e+03 1.00000000e+00 ... 1.48829838e-03\n",
      "  8.76703398e-04 7.68608848e-07]]\n"
     ]
    }
   ],
   "source": [
    "ref_sample, _ = data_loader.next_sample(50)\n",
    "data_loader.reset()\n",
    "print(ref_sample)"
   ]
  },
  {
   "cell_type": "code",
   "execution_count": 4,
   "metadata": {},
   "outputs": [],
   "source": [
    "# Define hyperparameter grid\n",
    "parameters = {\n",
    "    'n_estimators': [6],  # default=10\n",
    "    'max_features': [None],  # 'None' is not a valid string for skmultiflow, using None\n",
    "    'drift_detection_method': [None],  # ADWIN should be passed as an instance, not a string\n",
    "    'grace_period': [25],  # default=50\n",
    "    'split_criterion': ['gini'],  # default=info_gain\n",
    "    'split_confidence': [0.01],  # default=0.01\n",
    "    'tie_threshold': [0.01],  # default=0.05\n",
    "    'leaf_prediction': ['nba'],  # default=nba\n",
    "}\n",
    "\n",
    "arf_grid = ParameterGrid(parameters)"
   ]
  },
  {
   "cell_type": "code",
   "execution_count": 6,
   "metadata": {},
   "outputs": [
    {
     "name": "stdout",
     "output_type": "stream",
     "text": [
      "\n",
      "Evaluating parameters: {'drift_detection_method': None, 'grace_period': 25, 'leaf_prediction': 'nba', 'max_features': None, 'n_estimators': 6, 'split_confidence': 0.01, 'split_criterion': 'gini', 'tie_threshold': 0.01}\n",
      "Train data shape: (80000, 45)\n",
      "Train labels shape: (80000,)\n",
      "Test data shape: (40000, 45)\n",
      "Test labels shape: (40000,)\n",
      "Unique train labels: [0 1]\n",
      "Unique test labels: [0 1]\n",
      "Number of trees in the forest: 6\n",
      "Unique predictions: [0 1]\n",
      "Accuracy: 0.78935000\n"
     ]
    }
   ],
   "source": [
    "best_params = None\n",
    "best_score = 0\n",
    "results = []\n",
    "\n",
    "for params in arf_grid:\n",
    "    print(f\"\\nEvaluating parameters: {params}\")\n",
    "    \n",
    "    data_loader.restart()\n",
    "\n",
    "    train_data, train_labels = data_loader.next_sample(80000)\n",
    "    test_data, test_labels = data_loader.next_sample(40000)\n",
    "\n",
    "    print(\"Train data shape:\", train_data.shape)\n",
    "    print(\"Train labels shape:\", train_labels.shape)\n",
    "    print(\"Test data shape:\", test_data.shape)\n",
    "    print(\"Test labels shape:\", test_labels.shape)\n",
    "    print(\"Unique train labels:\", np.unique(train_labels))\n",
    "    print(\"Unique test labels:\", np.unique(test_labels))\n",
    "\n",
    "    arf = AdaptiveRandomForestClassifier(**params)\n",
    "    arf.fit(train_data, train_labels)\n",
    "\n",
    "    print(\"Number of trees in the forest:\", len(arf.ensemble))\n",
    "\n",
    "    predictions = arf.predict(test_data)\n",
    "    print(\"Unique predictions:\", np.unique(predictions))\n",
    "\n",
    "    accuracy = np.mean(predictions == test_labels)\n",
    "    print(f\"Accuracy: {accuracy:.8f}\")\n",
    "\n",
    "    results.append({**params, 'accuracy': accuracy})\n",
    "\n",
    "    if accuracy > best_score:\n",
    "        best_params = params\n",
    "        best_score = accuracy\n"
   ]
  },
  {
   "cell_type": "code",
   "execution_count": 7,
   "metadata": {},
   "outputs": [
    {
     "name": "stdout",
     "output_type": "stream",
     "text": [
      "\n",
      "Best Parameters: {'drift_detection_method': None, 'grace_period': 25, 'leaf_prediction': 'nba', 'max_features': None, 'n_estimators': 6, 'split_confidence': 0.01, 'split_criterion': 'gini', 'tie_threshold': 0.01}\n",
      "Best Accuracy: 0.78935000\n",
      "\n",
      "  drift_detection_method  grace_period leaf_prediction max_features  \\\n",
      "0                   None            25             nba         None   \n",
      "\n",
      "   n_estimators  split_confidence split_criterion  tie_threshold  accuracy  \n",
      "0             6              0.01            gini           0.01   0.78935  \n"
     ]
    }
   ],
   "source": [
    "# Print the best parameters\n",
    "print(f\"\\nBest Parameters: {best_params}\")\n",
    "print(f\"Best Accuracy: {best_score:.8f}\\n\")\n",
    "\n",
    "print(pd.DataFrame(results))"
   ]
  }
 ],
 "metadata": {
  "kernelspec": {
   "display_name": "Python 3",
   "language": "python",
   "name": "python3"
  },
  "language_info": {
   "codemirror_mode": {
    "name": "ipython",
    "version": 3
   },
   "file_extension": ".py",
   "mimetype": "text/x-python",
   "name": "python",
   "nbconvert_exporter": "python",
   "pygments_lexer": "ipython3",
   "version": "3.9.6"
  }
 },
 "nbformat": 4,
 "nbformat_minor": 2
}
